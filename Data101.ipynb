{
  "nbformat": 4,
  "nbformat_minor": 0,
  "metadata": {
    "colab": {
      "name": "Data101.ipynb",
      "provenance": [],
      "authorship_tag": "ABX9TyNj4K6AxwtLgl+/nZYrpXcJ",
      "include_colab_link": true
    },
    "kernelspec": {
      "name": "python3",
      "display_name": "Python 3"
    }
  },
  "cells": [
    {
      "cell_type": "markdown",
      "metadata": {
        "id": "view-in-github",
        "colab_type": "text"
      },
      "source": [
        "<a href=\"https://colab.research.google.com/github/Toeylik/kku_data_mining/blob/master/Data101.ipynb\" target=\"_parent\"><img src=\"https://colab.research.google.com/assets/colab-badge.svg\" alt=\"Open In Colab\"/></a>"
      ]
    },
    {
      "cell_type": "markdown",
      "metadata": {
        "id": "HGAkf0HdcqTF",
        "colab_type": "text"
      },
      "source": [
        "#ตัวอย่างการเรียกใช้ package ทีมีชื่อว่า pandas"
      ]
    },
    {
      "cell_type": "markdown",
      "metadata": {
        "id": "yzr95_EVSf_i",
        "colab_type": "text"
      },
      "source": [
        "โมเดล pandas มีหน้าที่ดึงไฟล์ข้อมูลมาใช่งาน"
      ]
    },
    {
      "cell_type": "code",
      "metadata": {
        "id": "KjosAwmzW-_z",
        "colab_type": "code",
        "colab": {}
      },
      "source": [
        "import pandas"
      ],
      "execution_count": 9,
      "outputs": []
    },
    {
      "cell_type": "code",
      "metadata": {
        "id": "j8WkVAUQYwqA",
        "colab_type": "code",
        "colab": {}
      },
      "source": [
        "import pandas as pd"
      ],
      "execution_count": 10,
      "outputs": []
    },
    {
      "cell_type": "markdown",
      "metadata": {
        "id": "fIgJA4XHTClb",
        "colab_type": "text"
      },
      "source": [
        "ขั้นตอนนี้คือการดึงข้อมูลจากไฟล์ google drive มาใช้งาน ใน google colab"
      ]
    },
    {
      "cell_type": "code",
      "metadata": {
        "id": "B2AS2oKoZgqI",
        "colab_type": "code",
        "colab": {
          "base_uri": "https://localhost:8080/",
          "height": 121
        },
        "outputId": "158aad87-05c9-4aa7-9cca-fd165569c62b"
      },
      "source": [
        "from google . colab import drive\n",
        "drive.mount('/content/drive')"
      ],
      "execution_count": 11,
      "outputs": [
        {
          "output_type": "stream",
          "text": [
            "Go to this URL in a browser: https://accounts.google.com/o/oauth2/auth?client_id=947318989803-6bn6qk8qdgf4n4g3pfee6491hc0brc4i.apps.googleusercontent.com&redirect_uri=urn%3aietf%3awg%3aoauth%3a2.0%3aoob&scope=email%20https%3a%2f%2fwww.googleapis.com%2fauth%2fdocs.test%20https%3a%2f%2fwww.googleapis.com%2fauth%2fdrive%20https%3a%2f%2fwww.googleapis.com%2fauth%2fdrive.photos.readonly%20https%3a%2f%2fwww.googleapis.com%2fauth%2fpeopleapi.readonly&response_type=code\n",
            "\n",
            "Enter your authorization code:\n",
            "··········\n",
            "Mounted at /content/drive\n"
          ],
          "name": "stdout"
        }
      ]
    },
    {
      "cell_type": "code",
      "metadata": {
        "id": "UalMPLMOaM0F",
        "colab_type": "code",
        "colab": {}
      },
      "source": [
        "import os "
      ],
      "execution_count": 12,
      "outputs": []
    },
    {
      "cell_type": "code",
      "metadata": {
        "id": "ncR1DbOlfPh_",
        "colab_type": "code",
        "colab": {}
      },
      "source": [
        "path = '/content/drive/My Drive/DWDM_material'"
      ],
      "execution_count": 13,
      "outputs": []
    },
    {
      "cell_type": "code",
      "metadata": {
        "id": "OHSMjbp1dWZ9",
        "colab_type": "code",
        "colab": {
          "base_uri": "https://localhost:8080/",
          "height": 34
        },
        "outputId": "40e236ec-a895-4b1a-883b-49b9a82df6a9"
      },
      "source": [
        "os . listdir(path)"
      ],
      "execution_count": 14,
      "outputs": [
        {
          "output_type": "execute_result",
          "data": {
            "text/plain": [
              "['test.csv']"
            ]
          },
          "metadata": {
            "tags": []
          },
          "execution_count": 14
        }
      ]
    },
    {
      "cell_type": "code",
      "metadata": {
        "id": "WO9AhJqWdrM8",
        "colab_type": "code",
        "colab": {}
      },
      "source": [
        "import pandas as pd"
      ],
      "execution_count": 15,
      "outputs": []
    },
    {
      "cell_type": "code",
      "metadata": {
        "id": "cepoKG9yhFo-",
        "colab_type": "code",
        "colab": {
          "base_uri": "https://localhost:8080/",
          "height": 34
        },
        "outputId": "6c4e5b87-e037-46cb-a962-4d0356fdd639"
      },
      "source": [
        "file_path = os . path.join(path,'test.csv')\n",
        "print(file_path)"
      ],
      "execution_count": 16,
      "outputs": [
        {
          "output_type": "stream",
          "text": [
            "/content/drive/My Drive/DWDM_material/test.csv\n"
          ],
          "name": "stdout"
        }
      ]
    },
    {
      "cell_type": "code",
      "metadata": {
        "id": "LqlN-WHBgSV_",
        "colab_type": "code",
        "colab": {
          "base_uri": "https://localhost:8080/",
          "height": 402
        },
        "outputId": "b7238fcc-c28e-438e-aeeb-a9b54f04ba2d"
      },
      "source": [
        "pd.read_csv(file_path)"
      ],
      "execution_count": 17,
      "outputs": [
        {
          "output_type": "execute_result",
          "data": {
            "text/html": [
              "<div>\n",
              "<style scoped>\n",
              "    .dataframe tbody tr th:only-of-type {\n",
              "        vertical-align: middle;\n",
              "    }\n",
              "\n",
              "    .dataframe tbody tr th {\n",
              "        vertical-align: top;\n",
              "    }\n",
              "\n",
              "    .dataframe thead th {\n",
              "        text-align: right;\n",
              "    }\n",
              "</style>\n",
              "<table border=\"1\" class=\"dataframe\">\n",
              "  <thead>\n",
              "    <tr style=\"text-align: right;\">\n",
              "      <th></th>\n",
              "      <th>Unnamed: 0</th>\n",
              "      <th>x</th>\n",
              "      <th>y</th>\n",
              "    </tr>\n",
              "  </thead>\n",
              "  <tbody>\n",
              "    <tr>\n",
              "      <th>0</th>\n",
              "      <td>0</td>\n",
              "      <td>55.3846</td>\n",
              "      <td>97.1795</td>\n",
              "    </tr>\n",
              "    <tr>\n",
              "      <th>1</th>\n",
              "      <td>1</td>\n",
              "      <td>51.5385</td>\n",
              "      <td>96.0256</td>\n",
              "    </tr>\n",
              "    <tr>\n",
              "      <th>2</th>\n",
              "      <td>2</td>\n",
              "      <td>46.1538</td>\n",
              "      <td>94.4872</td>\n",
              "    </tr>\n",
              "    <tr>\n",
              "      <th>3</th>\n",
              "      <td>3</td>\n",
              "      <td>42.8205</td>\n",
              "      <td>91.4103</td>\n",
              "    </tr>\n",
              "    <tr>\n",
              "      <th>4</th>\n",
              "      <td>4</td>\n",
              "      <td>40.7692</td>\n",
              "      <td>88.3333</td>\n",
              "    </tr>\n",
              "    <tr>\n",
              "      <th>...</th>\n",
              "      <td>...</td>\n",
              "      <td>...</td>\n",
              "      <td>...</td>\n",
              "    </tr>\n",
              "    <tr>\n",
              "      <th>137</th>\n",
              "      <td>137</td>\n",
              "      <td>39.4872</td>\n",
              "      <td>25.3846</td>\n",
              "    </tr>\n",
              "    <tr>\n",
              "      <th>138</th>\n",
              "      <td>138</td>\n",
              "      <td>91.2821</td>\n",
              "      <td>41.5385</td>\n",
              "    </tr>\n",
              "    <tr>\n",
              "      <th>139</th>\n",
              "      <td>139</td>\n",
              "      <td>50.0000</td>\n",
              "      <td>95.7692</td>\n",
              "    </tr>\n",
              "    <tr>\n",
              "      <th>140</th>\n",
              "      <td>140</td>\n",
              "      <td>47.9487</td>\n",
              "      <td>95.0000</td>\n",
              "    </tr>\n",
              "    <tr>\n",
              "      <th>141</th>\n",
              "      <td>141</td>\n",
              "      <td>44.1026</td>\n",
              "      <td>92.6923</td>\n",
              "    </tr>\n",
              "  </tbody>\n",
              "</table>\n",
              "<p>142 rows × 3 columns</p>\n",
              "</div>"
            ],
            "text/plain": [
              "     Unnamed: 0        x        y\n",
              "0             0  55.3846  97.1795\n",
              "1             1  51.5385  96.0256\n",
              "2             2  46.1538  94.4872\n",
              "3             3  42.8205  91.4103\n",
              "4             4  40.7692  88.3333\n",
              "..          ...      ...      ...\n",
              "137         137  39.4872  25.3846\n",
              "138         138  91.2821  41.5385\n",
              "139         139  50.0000  95.7692\n",
              "140         140  47.9487  95.0000\n",
              "141         141  44.1026  92.6923\n",
              "\n",
              "[142 rows x 3 columns]"
            ]
          },
          "metadata": {
            "tags": []
          },
          "execution_count": 17
        }
      ]
    },
    {
      "cell_type": "markdown",
      "metadata": {
        "id": "gjNo9EgPfpCC",
        "colab_type": "text"
      },
      "source": [
        "กำหนดชื่อเพื่อลดความยาวของข้อมูลสะดวกในการพิมพ์โค้ดและจดจำ"
      ]
    },
    {
      "cell_type": "code",
      "metadata": {
        "id": "HQfB20sZjSw2",
        "colab_type": "code",
        "colab": {}
      },
      "source": [
        "table1 = pd.read_csv(file_path)"
      ],
      "execution_count": 18,
      "outputs": []
    },
    {
      "cell_type": "markdown",
      "metadata": {
        "id": "6l3HD54Tf2T_",
        "colab_type": "text"
      },
      "source": [
        "ทดลองเรียกตารางอีกรอบ"
      ]
    },
    {
      "cell_type": "code",
      "metadata": {
        "id": "uNQoyf4Hjqup",
        "colab_type": "code",
        "colab": {
          "base_uri": "https://localhost:8080/",
          "height": 402
        },
        "outputId": "53597578-362d-4af1-a6ea-285e9800196a"
      },
      "source": [
        "table1"
      ],
      "execution_count": 19,
      "outputs": [
        {
          "output_type": "execute_result",
          "data": {
            "text/html": [
              "<div>\n",
              "<style scoped>\n",
              "    .dataframe tbody tr th:only-of-type {\n",
              "        vertical-align: middle;\n",
              "    }\n",
              "\n",
              "    .dataframe tbody tr th {\n",
              "        vertical-align: top;\n",
              "    }\n",
              "\n",
              "    .dataframe thead th {\n",
              "        text-align: right;\n",
              "    }\n",
              "</style>\n",
              "<table border=\"1\" class=\"dataframe\">\n",
              "  <thead>\n",
              "    <tr style=\"text-align: right;\">\n",
              "      <th></th>\n",
              "      <th>Unnamed: 0</th>\n",
              "      <th>x</th>\n",
              "      <th>y</th>\n",
              "    </tr>\n",
              "  </thead>\n",
              "  <tbody>\n",
              "    <tr>\n",
              "      <th>0</th>\n",
              "      <td>0</td>\n",
              "      <td>55.3846</td>\n",
              "      <td>97.1795</td>\n",
              "    </tr>\n",
              "    <tr>\n",
              "      <th>1</th>\n",
              "      <td>1</td>\n",
              "      <td>51.5385</td>\n",
              "      <td>96.0256</td>\n",
              "    </tr>\n",
              "    <tr>\n",
              "      <th>2</th>\n",
              "      <td>2</td>\n",
              "      <td>46.1538</td>\n",
              "      <td>94.4872</td>\n",
              "    </tr>\n",
              "    <tr>\n",
              "      <th>3</th>\n",
              "      <td>3</td>\n",
              "      <td>42.8205</td>\n",
              "      <td>91.4103</td>\n",
              "    </tr>\n",
              "    <tr>\n",
              "      <th>4</th>\n",
              "      <td>4</td>\n",
              "      <td>40.7692</td>\n",
              "      <td>88.3333</td>\n",
              "    </tr>\n",
              "    <tr>\n",
              "      <th>...</th>\n",
              "      <td>...</td>\n",
              "      <td>...</td>\n",
              "      <td>...</td>\n",
              "    </tr>\n",
              "    <tr>\n",
              "      <th>137</th>\n",
              "      <td>137</td>\n",
              "      <td>39.4872</td>\n",
              "      <td>25.3846</td>\n",
              "    </tr>\n",
              "    <tr>\n",
              "      <th>138</th>\n",
              "      <td>138</td>\n",
              "      <td>91.2821</td>\n",
              "      <td>41.5385</td>\n",
              "    </tr>\n",
              "    <tr>\n",
              "      <th>139</th>\n",
              "      <td>139</td>\n",
              "      <td>50.0000</td>\n",
              "      <td>95.7692</td>\n",
              "    </tr>\n",
              "    <tr>\n",
              "      <th>140</th>\n",
              "      <td>140</td>\n",
              "      <td>47.9487</td>\n",
              "      <td>95.0000</td>\n",
              "    </tr>\n",
              "    <tr>\n",
              "      <th>141</th>\n",
              "      <td>141</td>\n",
              "      <td>44.1026</td>\n",
              "      <td>92.6923</td>\n",
              "    </tr>\n",
              "  </tbody>\n",
              "</table>\n",
              "<p>142 rows × 3 columns</p>\n",
              "</div>"
            ],
            "text/plain": [
              "     Unnamed: 0        x        y\n",
              "0             0  55.3846  97.1795\n",
              "1             1  51.5385  96.0256\n",
              "2             2  46.1538  94.4872\n",
              "3             3  42.8205  91.4103\n",
              "4             4  40.7692  88.3333\n",
              "..          ...      ...      ...\n",
              "137         137  39.4872  25.3846\n",
              "138         138  91.2821  41.5385\n",
              "139         139  50.0000  95.7692\n",
              "140         140  47.9487  95.0000\n",
              "141         141  44.1026  92.6923\n",
              "\n",
              "[142 rows x 3 columns]"
            ]
          },
          "metadata": {
            "tags": []
          },
          "execution_count": 19
        }
      ]
    },
    {
      "cell_type": "markdown",
      "metadata": {
        "id": "xgAfMb3XWdJZ",
        "colab_type": "text"
      },
      "source": [
        "แสดงข้อมูลเฉพาะหัวตาราง"
      ]
    },
    {
      "cell_type": "code",
      "metadata": {
        "id": "s0jmj5bnjs7Y",
        "colab_type": "code",
        "colab": {
          "base_uri": "https://localhost:8080/",
          "height": 195
        },
        "outputId": "04ee8bad-7766-4fdd-f55a-693addd26cf7"
      },
      "source": [
        "table1.head()"
      ],
      "execution_count": 20,
      "outputs": [
        {
          "output_type": "execute_result",
          "data": {
            "text/html": [
              "<div>\n",
              "<style scoped>\n",
              "    .dataframe tbody tr th:only-of-type {\n",
              "        vertical-align: middle;\n",
              "    }\n",
              "\n",
              "    .dataframe tbody tr th {\n",
              "        vertical-align: top;\n",
              "    }\n",
              "\n",
              "    .dataframe thead th {\n",
              "        text-align: right;\n",
              "    }\n",
              "</style>\n",
              "<table border=\"1\" class=\"dataframe\">\n",
              "  <thead>\n",
              "    <tr style=\"text-align: right;\">\n",
              "      <th></th>\n",
              "      <th>Unnamed: 0</th>\n",
              "      <th>x</th>\n",
              "      <th>y</th>\n",
              "    </tr>\n",
              "  </thead>\n",
              "  <tbody>\n",
              "    <tr>\n",
              "      <th>0</th>\n",
              "      <td>0</td>\n",
              "      <td>55.3846</td>\n",
              "      <td>97.1795</td>\n",
              "    </tr>\n",
              "    <tr>\n",
              "      <th>1</th>\n",
              "      <td>1</td>\n",
              "      <td>51.5385</td>\n",
              "      <td>96.0256</td>\n",
              "    </tr>\n",
              "    <tr>\n",
              "      <th>2</th>\n",
              "      <td>2</td>\n",
              "      <td>46.1538</td>\n",
              "      <td>94.4872</td>\n",
              "    </tr>\n",
              "    <tr>\n",
              "      <th>3</th>\n",
              "      <td>3</td>\n",
              "      <td>42.8205</td>\n",
              "      <td>91.4103</td>\n",
              "    </tr>\n",
              "    <tr>\n",
              "      <th>4</th>\n",
              "      <td>4</td>\n",
              "      <td>40.7692</td>\n",
              "      <td>88.3333</td>\n",
              "    </tr>\n",
              "  </tbody>\n",
              "</table>\n",
              "</div>"
            ],
            "text/plain": [
              "   Unnamed: 0        x        y\n",
              "0           0  55.3846  97.1795\n",
              "1           1  51.5385  96.0256\n",
              "2           2  46.1538  94.4872\n",
              "3           3  42.8205  91.4103\n",
              "4           4  40.7692  88.3333"
            ]
          },
          "metadata": {
            "tags": []
          },
          "execution_count": 20
        }
      ]
    },
    {
      "cell_type": "code",
      "metadata": {
        "id": "q1vPyRWwkWyz",
        "colab_type": "code",
        "colab": {}
      },
      "source": [
        "from matplotlib import  pyplot as plt"
      ],
      "execution_count": 21,
      "outputs": []
    },
    {
      "cell_type": "markdown",
      "metadata": {
        "id": "Vc4g_AKbWG9L",
        "colab_type": "text"
      },
      "source": [
        "การพล็อตจุดตามตำแหน่งของแกน x และ แกน y ตามข้อมูลในตารางที่เรามี"
      ]
    },
    {
      "cell_type": "code",
      "metadata": {
        "id": "jEeLUxUQkr5k",
        "colab_type": "code",
        "colab": {
          "base_uri": "https://localhost:8080/",
          "height": 282
        },
        "outputId": "f5342ca3-48d6-4c0c-e984-cf6e44417568"
      },
      "source": [
        "plt.scatter(table1['x'],table1['y'])"
      ],
      "execution_count": 22,
      "outputs": [
        {
          "output_type": "execute_result",
          "data": {
            "text/plain": [
              "<matplotlib.collections.PathCollection at 0x7fcd720abdd8>"
            ]
          },
          "metadata": {
            "tags": []
          },
          "execution_count": 22
        },
        {
          "output_type": "display_data",
          "data": {
            "image/png": "[encoded data removed]",
            "text/plain": [
              "<Figure size 432x288 with 1 Axes>"
            ]
          },
          "metadata": {
            "tags": [],
            "needs_background": "light"
          }
        }
      ]
    },
    {
      "cell_type": "markdown",
      "metadata": {
        "id": "O7e1r5dYnjqW",
        "colab_type": "text"
      },
      "source": [
        "#"
      ]
    },
    {
      "cell_type": "code",
      "metadata": {
        "id": "dCQbwjuAk7f3",
        "colab_type": "code",
        "colab": {
          "base_uri": "https://localhost:8080/",
          "height": 218
        },
        "outputId": "d5ffcb86-48de-40d6-a807-59be9e2b706d"
      },
      "source": [
        "table1['x']"
      ],
      "execution_count": 23,
      "outputs": [
        {
          "output_type": "execute_result",
          "data": {
            "text/plain": [
              "0      55.3846\n",
              "1      51.5385\n",
              "2      46.1538\n",
              "3      42.8205\n",
              "4      40.7692\n",
              "        ...   \n",
              "137    39.4872\n",
              "138    91.2821\n",
              "139    50.0000\n",
              "140    47.9487\n",
              "141    44.1026\n",
              "Name: x, Length: 142, dtype: float64"
            ]
          },
          "metadata": {
            "tags": []
          },
          "execution_count": 23
        }
      ]
    },
    {
      "cell_type": "code",
      "metadata": {
        "id": "sBSmBXxensgQ",
        "colab_type": "code",
        "colab": {
          "base_uri": "https://localhost:8080/",
          "height": 218
        },
        "outputId": "a4464d3f-c3de-4155-b690-45234dae5d4c"
      },
      "source": [
        "table1.x"
      ],
      "execution_count": 24,
      "outputs": [
        {
          "output_type": "execute_result",
          "data": {
            "text/plain": [
              "0      55.3846\n",
              "1      51.5385\n",
              "2      46.1538\n",
              "3      42.8205\n",
              "4      40.7692\n",
              "        ...   \n",
              "137    39.4872\n",
              "138    91.2821\n",
              "139    50.0000\n",
              "140    47.9487\n",
              "141    44.1026\n",
              "Name: x, Length: 142, dtype: float64"
            ]
          },
          "metadata": {
            "tags": []
          },
          "execution_count": 24
        }
      ]
    },
    {
      "cell_type": "code",
      "metadata": {
        "id": "dNY_1VXlnvQB",
        "colab_type": "code",
        "colab": {
          "base_uri": "https://localhost:8080/",
          "height": 284
        },
        "outputId": "a02ec623-2a9a-4ba1-8838-fbb67be034dd"
      },
      "source": [
        "table1.describe()"
      ],
      "execution_count": 25,
      "outputs": [
        {
          "output_type": "execute_result",
          "data": {
            "text/html": [
              "<div>\n",
              "<style scoped>\n",
              "    .dataframe tbody tr th:only-of-type {\n",
              "        vertical-align: middle;\n",
              "    }\n",
              "\n",
              "    .dataframe tbody tr th {\n",
              "        vertical-align: top;\n",
              "    }\n",
              "\n",
              "    .dataframe thead th {\n",
              "        text-align: right;\n",
              "    }\n",
              "</style>\n",
              "<table border=\"1\" class=\"dataframe\">\n",
              "  <thead>\n",
              "    <tr style=\"text-align: right;\">\n",
              "      <th></th>\n",
              "      <th>Unnamed: 0</th>\n",
              "      <th>x</th>\n",
              "      <th>y</th>\n",
              "    </tr>\n",
              "  </thead>\n",
              "  <tbody>\n",
              "    <tr>\n",
              "      <th>count</th>\n",
              "      <td>142.000000</td>\n",
              "      <td>142.000000</td>\n",
              "      <td>142.000000</td>\n",
              "    </tr>\n",
              "    <tr>\n",
              "      <th>mean</th>\n",
              "      <td>70.500000</td>\n",
              "      <td>54.263273</td>\n",
              "      <td>47.832253</td>\n",
              "    </tr>\n",
              "    <tr>\n",
              "      <th>std</th>\n",
              "      <td>41.135953</td>\n",
              "      <td>16.765142</td>\n",
              "      <td>26.935403</td>\n",
              "    </tr>\n",
              "    <tr>\n",
              "      <th>min</th>\n",
              "      <td>0.000000</td>\n",
              "      <td>22.307700</td>\n",
              "      <td>2.948700</td>\n",
              "    </tr>\n",
              "    <tr>\n",
              "      <th>25%</th>\n",
              "      <td>35.250000</td>\n",
              "      <td>44.102600</td>\n",
              "      <td>25.288450</td>\n",
              "    </tr>\n",
              "    <tr>\n",
              "      <th>50%</th>\n",
              "      <td>70.500000</td>\n",
              "      <td>53.333300</td>\n",
              "      <td>46.025600</td>\n",
              "    </tr>\n",
              "    <tr>\n",
              "      <th>75%</th>\n",
              "      <td>105.750000</td>\n",
              "      <td>64.743600</td>\n",
              "      <td>68.525675</td>\n",
              "    </tr>\n",
              "    <tr>\n",
              "      <th>max</th>\n",
              "      <td>141.000000</td>\n",
              "      <td>98.205100</td>\n",
              "      <td>99.487200</td>\n",
              "    </tr>\n",
              "  </tbody>\n",
              "</table>\n",
              "</div>"
            ],
            "text/plain": [
              "       Unnamed: 0           x           y\n",
              "count  142.000000  142.000000  142.000000\n",
              "mean    70.500000   54.263273   47.832253\n",
              "std     41.135953   16.765142   26.935403\n",
              "min      0.000000   22.307700    2.948700\n",
              "25%     35.250000   44.102600   25.288450\n",
              "50%     70.500000   53.333300   46.025600\n",
              "75%    105.750000   64.743600   68.525675\n",
              "max    141.000000   98.205100   99.487200"
            ]
          },
          "metadata": {
            "tags": []
          },
          "execution_count": 25
        }
      ]
    },
    {
      "cell_type": "markdown",
      "metadata": {
        "id": "OpUCECo0n0rP",
        "colab_type": "text"
      },
      "source": [
        "#Python Data Stucture"
      ]
    },
    {
      "cell_type": "markdown",
      "metadata": {
        "id": "q2V-xxhGoVlK",
        "colab_type": "text"
      },
      "source": [
        "Variable"
      ]
    },
    {
      "cell_type": "code",
      "metadata": {
        "id": "z8xorWoEny6Q",
        "colab_type": "code",
        "colab": {}
      },
      "source": [
        "a=1\n",
        "\n",
        "b=3"
      ],
      "execution_count": 26,
      "outputs": []
    },
    {
      "cell_type": "code",
      "metadata": {
        "id": "e6GVrUlyoCo_",
        "colab_type": "code",
        "colab": {}
      },
      "source": [
        "c = a + b"
      ],
      "execution_count": 27,
      "outputs": []
    },
    {
      "cell_type": "code",
      "metadata": {
        "id": "VRL8az0ioGZG",
        "colab_type": "code",
        "colab": {
          "base_uri": "https://localhost:8080/",
          "height": 34
        },
        "outputId": "a49e0434-ce36-49dd-9b00-debed2137c06"
      },
      "source": [
        "c"
      ],
      "execution_count": 28,
      "outputs": [
        {
          "output_type": "execute_result",
          "data": {
            "text/plain": [
              "4"
            ]
          },
          "metadata": {
            "tags": []
          },
          "execution_count": 28
        }
      ]
    },
    {
      "cell_type": "code",
      "metadata": {
        "id": "n59dNtZFoLpI",
        "colab_type": "code",
        "colab": {}
      },
      "source": [
        "name = 'a'"
      ],
      "execution_count": 29,
      "outputs": []
    },
    {
      "cell_type": "code",
      "metadata": {
        "id": "ksIBrWkNoP-U",
        "colab_type": "code",
        "colab": {
          "base_uri": "https://localhost:8080/",
          "height": 35
        },
        "outputId": "d53ffa89-2e33-480d-850e-fc0156f6ec0f"
      },
      "source": [
        "name"
      ],
      "execution_count": 30,
      "outputs": [
        {
          "output_type": "execute_result",
          "data": {
            "application/vnd.google.colaboratory.intrinsic+json": {
              "type": "string"
            },
            "text/plain": [
              "'a'"
            ]
          },
          "metadata": {
            "tags": []
          },
          "execution_count": 30
        }
      ]
    },
    {
      "cell_type": "code",
      "metadata": {
        "id": "LnGYfANqoVDK",
        "colab_type": "code",
        "colab": {}
      },
      "source": [
        "one = '1'"
      ],
      "execution_count": 31,
      "outputs": []
    },
    {
      "cell_type": "code",
      "metadata": {
        "id": "biyTOK0monGM",
        "colab_type": "code",
        "colab": {
          "base_uri": "https://localhost:8080/",
          "height": 35
        },
        "outputId": "159dba02-6fa1-4f92-9669-423119284824"
      },
      "source": [
        "one"
      ],
      "execution_count": 32,
      "outputs": [
        {
          "output_type": "execute_result",
          "data": {
            "application/vnd.google.colaboratory.intrinsic+json": {
              "type": "string"
            },
            "text/plain": [
              "'1'"
            ]
          },
          "metadata": {
            "tags": []
          },
          "execution_count": 32
        }
      ]
    },
    {
      "cell_type": "code",
      "metadata": {
        "id": "0dWbKlwJooPL",
        "colab_type": "code",
        "colab": {
          "base_uri": "https://localhost:8080/",
          "height": 163
        },
        "outputId": "55f90287-4f8c-42a1-f07a-cc0fc17b8bf2"
      },
      "source": [
        "a+one"
      ],
      "execution_count": 33,
      "outputs": [
        {
          "output_type": "error",
          "ename": "TypeError",
          "evalue": "ignored",
          "traceback": [
            "\u001b[0;31m---------------------------------------------------------------------------\u001b[0m",
            "\u001b[0;31mTypeError\u001b[0m                                 Traceback (most recent call last)",
            "\u001b[0;32m<ipython-input-33-89f1bb92b476>\u001b[0m in \u001b[0;36m<module>\u001b[0;34m()\u001b[0m\n\u001b[0;32m----> 1\u001b[0;31m \u001b[0ma\u001b[0m\u001b[0;34m+\u001b[0m\u001b[0mone\u001b[0m\u001b[0;34m\u001b[0m\u001b[0;34m\u001b[0m\u001b[0m\n\u001b[0m",
            "\u001b[0;31mTypeError\u001b[0m: unsupported operand type(s) for +: 'int' and 'str'"
          ]
        }
      ]
    },
    {
      "cell_type": "code",
      "metadata": {
        "id": "YgRvKOaQorbG",
        "colab_type": "code",
        "colab": {}
      },
      "source": [
        "a + int(one)"
      ],
      "execution_count": null,
      "outputs": []
    },
    {
      "cell_type": "code",
      "metadata": {
        "id": "mJ7Tg4PUo3uP",
        "colab_type": "code",
        "colab": {}
      },
      "source": [
        "num = '112.76'"
      ],
      "execution_count": null,
      "outputs": []
    },
    {
      "cell_type": "code",
      "metadata": {
        "id": "ui4S-3ZwpMbX",
        "colab_type": "code",
        "colab": {}
      },
      "source": [
        "int(num)"
      ],
      "execution_count": null,
      "outputs": []
    },
    {
      "cell_type": "code",
      "metadata": {
        "id": "I1B9W4PYpSzE",
        "colab_type": "code",
        "colab": {}
      },
      "source": [
        "float(num)"
      ],
      "execution_count": null,
      "outputs": []
    },
    {
      "cell_type": "code",
      "metadata": {
        "id": "kHdFbqjZpbt4",
        "colab_type": "code",
        "colab": {}
      },
      "source": [
        "str(float(num))"
      ],
      "execution_count": null,
      "outputs": []
    },
    {
      "cell_type": "markdown",
      "metadata": {
        "id": "oHL6hJo9qk_f",
        "colab_type": "text"
      },
      "source": [
        "เปลี่ยนคำ  num2='112.76887' เป็นจำนวนเต็ม 112\n",
        "ด้วย function casting (int()float()str()) เท่านั้น\n"
      ]
    },
    {
      "cell_type": "code",
      "metadata": {
        "id": "Apv6xZx2pnjv",
        "colab_type": "code",
        "colab": {}
      },
      "source": [
        "num2 = '112.76887'"
      ],
      "execution_count": null,
      "outputs": []
    },
    {
      "cell_type": "code",
      "metadata": {
        "id": "mHGlZAWxqZ6Y",
        "colab_type": "code",
        "colab": {}
      },
      "source": [
        "int(float(num2))"
      ],
      "execution_count": null,
      "outputs": []
    },
    {
      "cell_type": "markdown",
      "metadata": {
        "id": "DCB4PAU2kKB4",
        "colab_type": "text"
      },
      "source": [
        "##การใช้list"
      ]
    },
    {
      "cell_type": "code",
      "metadata": {
        "id": "GZKShTZckPG9",
        "colab_type": "code",
        "colab": {}
      },
      "source": [
        "list_a=[1,3,7,19]"
      ],
      "execution_count": null,
      "outputs": []
    },
    {
      "cell_type": "code",
      "metadata": {
        "id": "8BRaO6Z2kjpH",
        "colab_type": "code",
        "colab": {}
      },
      "source": [
        "list_a[0]"
      ],
      "execution_count": null,
      "outputs": []
    },
    {
      "cell_type": "code",
      "metadata": {
        "id": "5uVSVLw2knz2",
        "colab_type": "code",
        "colab": {}
      },
      "source": [
        "list_a[-1]"
      ],
      "execution_count": null,
      "outputs": []
    },
    {
      "cell_type": "code",
      "metadata": {
        "id": "Wla07Mxkkrg_",
        "colab_type": "code",
        "colab": {}
      },
      "source": [
        "len(list_a)"
      ],
      "execution_count": null,
      "outputs": []
    },
    {
      "cell_type": "code",
      "metadata": {
        "id": "7_1yvwdRkwuq",
        "colab_type": "code",
        "colab": {}
      },
      "source": [
        "list_b=[1,4,'thai',['a',3,9]]"
      ],
      "execution_count": null,
      "outputs": []
    },
    {
      "cell_type": "code",
      "metadata": {
        "id": "I_SYAnaZk8l0",
        "colab_type": "code",
        "colab": {}
      },
      "source": [
        "list_b[-1][0]"
      ],
      "execution_count": null,
      "outputs": []
    },
    {
      "cell_type": "code",
      "metadata": {
        "id": "SjwTnYDNlEsP",
        "colab_type": "code",
        "colab": {}
      },
      "source": [
        "list_a1=[]"
      ],
      "execution_count": null,
      "outputs": []
    },
    {
      "cell_type": "code",
      "metadata": {
        "id": "83rqzMQjlIY7",
        "colab_type": "code",
        "colab": {}
      },
      "source": [
        "list_c = list_a+list_b\n",
        "list_c"
      ],
      "execution_count": null,
      "outputs": []
    },
    {
      "cell_type": "markdown",
      "metadata": {
        "id": "6xRAGifilT7_",
        "colab_type": "text"
      },
      "source": [
        "##create empty list2"
      ]
    },
    {
      "cell_type": "code",
      "metadata": {
        "id": "K163gxYSlgbR",
        "colab_type": "code",
        "colab": {}
      },
      "source": [
        "list_2=[]"
      ],
      "execution_count": null,
      "outputs": []
    },
    {
      "cell_type": "code",
      "metadata": {
        "id": "tTWC5XVElkHq",
        "colab_type": "code",
        "colab": {}
      },
      "source": [
        "list_a1.append(999)\n",
        "list_a1"
      ],
      "execution_count": null,
      "outputs": []
    },
    {
      "cell_type": "code",
      "metadata": {
        "id": "8d3tqUyElvkk",
        "colab_type": "code",
        "colab": {}
      },
      "source": [
        "print(list_c)\n",
        "list_c.append(1234)\n",
        "print(list_c)"
      ],
      "execution_count": null,
      "outputs": []
    },
    {
      "cell_type": "markdown",
      "metadata": {
        "id": "RczuxNqkgLeB",
        "colab_type": "text"
      },
      "source": [
        "##sting is a list of characters"
      ]
    },
    {
      "cell_type": "code",
      "metadata": {
        "id": "JGlP7om0l2Pv",
        "colab_type": "code",
        "colab": {}
      },
      "source": [
        "word_a='statistics KKU'"
      ],
      "execution_count": null,
      "outputs": []
    },
    {
      "cell_type": "code",
      "metadata": {
        "id": "3q3jqqmvl81I",
        "colab_type": "code",
        "colab": {}
      },
      "source": [
        "word_a[-1]"
      ],
      "execution_count": null,
      "outputs": []
    },
    {
      "cell_type": "code",
      "metadata": {
        "id": "k9u653Y8mBn3",
        "colab_type": "code",
        "colab": {}
      },
      "source": [
        "word_a + ' Thailand'"
      ],
      "execution_count": null,
      "outputs": []
    },
    {
      "cell_type": "code",
      "metadata": {
        "id": "o-8fAA7hmDuq",
        "colab_type": "code",
        "colab": {}
      },
      "source": [
        "len(word_a)"
      ],
      "execution_count": null,
      "outputs": []
    },
    {
      "cell_type": "code",
      "metadata": {
        "id": "lmEGTzjAmFxX",
        "colab_type": "code",
        "colab": {}
      },
      "source": [
        "f'list_c={list_c}'\n"
      ],
      "execution_count": null,
      "outputs": []
    },
    {
      "cell_type": "code",
      "metadata": {
        "id": "jVOssLB7mQbY",
        "colab_type": "code",
        "colab": {}
      },
      "source": [
        "f'modulo example -> 4 mod 3 = {4%3} '"
      ],
      "execution_count": null,
      "outputs": []
    },
    {
      "cell_type": "code",
      "metadata": {
        "id": "gvCFFXmomRZY",
        "colab_type": "code",
        "colab": {}
      },
      "source": [
        "st_x = f'list_c = {list_c}'\n",
        "st_x"
      ],
      "execution_count": null,
      "outputs": []
    },
    {
      "cell_type": "code",
      "metadata": {
        "id": "uNE9lukGmWdg",
        "colab_type": "code",
        "colab": {}
      },
      "source": [
        "print(st_x)\n",
        "st_x.split()"
      ],
      "execution_count": null,
      "outputs": []
    },
    {
      "cell_type": "code",
      "metadata": {
        "id": "-eZG1_CqmYwq",
        "colab_type": "code",
        "colab": {}
      },
      "source": [
        "print(st_x)\n",
        "st_x.split(',    ')"
      ],
      "execution_count": null,
      "outputs": []
    },
    {
      "cell_type": "markdown",
      "metadata": {
        "id": "AhYkNR_dmcGD",
        "colab_type": "text"
      },
      "source": [
        "##Loop"
      ]
    },
    {
      "cell_type": "code",
      "metadata": {
        "id": "iKPp7D5DmblC",
        "colab_type": "code",
        "colab": {}
      },
      "source": [
        "for i in [1,2,3,4,]:\n",
        "  print(f'first line {i}')\n",
        "  print(f'second  line {2*i}')"
      ],
      "execution_count": null,
      "outputs": []
    },
    {
      "cell_type": "code",
      "metadata": {
        "id": "UiVpdT7bnBQY",
        "colab_type": "code",
        "colab": {}
      },
      "source": [
        "for i in [1,2,3]:\n",
        "  print('HaHaHa')"
      ],
      "execution_count": null,
      "outputs": []
    },
    {
      "cell_type": "code",
      "metadata": {
        "id": "G9hdA5LonOjg",
        "colab_type": "code",
        "colab": {}
      },
      "source": [
        "for x in list_a:\n",
        "  print(x)"
      ],
      "execution_count": null,
      "outputs": []
    },
    {
      "cell_type": "code",
      "metadata": {
        "id": "581NKybXnXQ5",
        "colab_type": "code",
        "colab": {}
      },
      "source": [
        "for i in range(3):\n",
        "   print('start inner')\n",
        "   for j in range(3):\n",
        "        print(f'i={i} , j={j} -> ixj = {i*j}')\n",
        "   print('end inner')"
      ],
      "execution_count": null,
      "outputs": []
    },
    {
      "cell_type": "markdown",
      "metadata": {
        "id": "ubtQqCVKngQu",
        "colab_type": "text"
      },
      "source": [
        "##If statement"
      ]
    },
    {
      "cell_type": "code",
      "metadata": {
        "id": "XFBUk60FnenR",
        "colab_type": "code",
        "colab": {}
      },
      "source": [
        "stringx = 'kormadeekup'\n",
        "if len(stringx) > 6:\n",
        "  print('stringx is longer than 6')"
      ],
      "execution_count": null,
      "outputs": []
    },
    {
      "cell_type": "code",
      "metadata": {
        "id": "_euINT29nzmX",
        "colab_type": "code",
        "colab": {}
      },
      "source": [
        "stringx = 'kormadeekup'\n",
        "if len(stringx) > 100:\n",
        "  print('stringx is longer than 6')\n",
        "else:\n",
        "  print('T_T')\n"
      ],
      "execution_count": null,
      "outputs": []
    },
    {
      "cell_type": "code",
      "metadata": {
        "id": "QLPb_s7en1i5",
        "colab_type": "code",
        "colab": {}
      },
      "source": [
        "stringx = 'kormadeekup'\n",
        "if len(stringx) > 100:\n",
        "  print('stringx is longer than 6')\n",
        "elif len(stringx) == 11:\n",
        "  print(stringx)\n",
        "else:\n",
        "  print('T_T)"
      ],
      "execution_count": null,
      "outputs": []
    },
    {
      "cell_type": "markdown",
      "metadata": {
        "id": "015iJfGZgeRV",
        "colab_type": "text"
      },
      "source": [
        "###Exercise  1\n",
        "หาค่ามากที่สุดใน list_EX= [-4, -1, -9, 8, 11] โดยไม่ใช้ function max"
      ]
    },
    {
      "cell_type": "code",
      "metadata": {
        "id": "OBCo8R6de5zl",
        "colab_type": "code",
        "colab": {}
      },
      "source": [
        "Max = -10000000\n",
        "for i in list_EX :\n",
        "  if i > Max:\n",
        "    print(f'{i} > {Max} UPDATE! , ' ,end=' ')\n",
        "    Max = i\n",
        "    print (f'now max is {Max}')\n",
        "  else:\n",
        "    print(f'{i} > {Max} NOT UPDATE! , now max is {Max}' )\n",
        "\n",
        "print(f'answer is {Max} is the maximum number of {list_EX}')"
      ],
      "execution_count": null,
      "outputs": []
    },
    {
      "cell_type": "markdown",
      "metadata": {
        "id": "fehLVxWUipAc",
        "colab_type": "text"
      },
      "source": [
        "##Hw\n",
        "ดรัยงลำดับค่าใน list_EX =[-4,-4,-9,8,11} จากค่ามากที่สุดไปน้อยที่สุดโดยไม่ใช้ function sort()\n"
      ]
    },
    {
      "cell_type": "code",
      "metadata": {
        "id": "TvQL9VGCl5MN",
        "colab_type": "code",
        "colab": {
          "base_uri": "https://localhost:8080/",
          "height": 34
        },
        "outputId": "abac1ce2-ff59-48c2-c04d-bb1c085442fa"
      },
      "source": [
        "list_EX = [-4, -1, -9, 8, 11]\n",
        "size_list_EX = len(list_EX)\n",
        "sizeL = size_list_EX - 1 \n",
        "for box in range(size_list_EX) :\n",
        "    for i in range(sizeL) :\n",
        "      if list_EX[i] < list_EX[i+1] :\n",
        "          temp = list_EX[i] \n",
        "          list_EX[i] = list_EX[i+1]\n",
        "          list_EX[i+1] = temp\n",
        "print(list_EX)"
      ],
      "execution_count": 38,
      "outputs": [
        {
          "output_type": "stream",
          "text": [
            "[11, 8, -1, -4, -9]\n"
          ],
          "name": "stdout"
        }
      ]
    },
    {
      "cell_type": "markdown",
      "metadata": {
        "id": "cdcRTWiCj49A",
        "colab_type": "text"
      },
      "source": [
        "##Function()"
      ]
    },
    {
      "cell_type": "code",
      "metadata": {
        "id": "Py0eOixUf0pr",
        "colab_type": "code",
        "colab": {}
      },
      "source": [
        "def find_max(in_list):\n",
        "  maximum = -1200000\n",
        "  for i in in_list:\n",
        "    if i > maximum:\n",
        "        print(f'{i}>{maximum} update!,',end='')\n",
        "        maximum=i\n",
        "        print(f'now maximum is {maximum}')\n",
        "    else:\n",
        "        print(f'{i}>{maximum} update!,now maximum is {maximum}')\n",
        "  print(f'Answer is {maximum} is the maximum number of {in_list}')"
      ],
      "execution_count": null,
      "outputs": []
    },
    {
      "cell_type": "code",
      "metadata": {
        "id": "mhOOHl7CnuJd",
        "colab_type": "code",
        "colab": {}
      },
      "source": [
        "find_max([12,7895544,-4,88])"
      ],
      "execution_count": null,
      "outputs": []
    },
    {
      "cell_type": "code",
      "metadata": {
        "id": "dGM9YRHloEhg",
        "colab_type": "code",
        "colab": {}
      },
      "source": [
        "def find_max(in_list):\n",
        "  maximum = -1200000\n",
        "  for i in in_list:\n",
        "    if i > maximum:\n",
        "        print(f'{i}>{maximum} update!,',end='')\n",
        "        maximum=i\n",
        "        print(f'now maximum is {maximum}')\n",
        "    else:\n",
        "        print(f'{i}>{maximum} update!,now maximum is {maximum}')\n",
        "  print(f'Answer is {maximum} is the maximum number of {in_list}')\n",
        "  return maximum"
      ],
      "execution_count": null,
      "outputs": []
    },
    {
      "cell_type": "code",
      "metadata": {
        "id": "gTcYW0V8oNg2",
        "colab_type": "code",
        "colab": {}
      },
      "source": [
        "a = find_max([12,7895544,-4,88])"
      ],
      "execution_count": null,
      "outputs": []
    },
    {
      "cell_type": "code",
      "metadata": {
        "id": "gQx-6apyobfG",
        "colab_type": "code",
        "colab": {}
      },
      "source": [
        "a"
      ],
      "execution_count": null,
      "outputs": []
    },
    {
      "cell_type": "code",
      "metadata": {
        "id": "D_Rtz_jcodEc",
        "colab_type": "code",
        "colab": {}
      },
      "source": [
        "example_list = list(range(-4,99,3))"
      ],
      "execution_count": null,
      "outputs": []
    },
    {
      "cell_type": "code",
      "metadata": {
        "id": "gBBFhZ0Rj-fc",
        "colab_type": "code",
        "colab": {}
      },
      "source": [
        "example_list = list(range(-4,99,3))"
      ],
      "execution_count": null,
      "outputs": []
    },
    {
      "cell_type": "code",
      "metadata": {
        "id": "VLHGCDLpkBtA",
        "colab_type": "code",
        "colab": {}
      },
      "source": [
        "example_list[:10]"
      ],
      "execution_count": null,
      "outputs": []
    },
    {
      "cell_type": "code",
      "metadata": {
        "id": "83SDOj89kFUp",
        "colab_type": "code",
        "colab": {}
      },
      "source": [
        "example_list[-10:]"
      ],
      "execution_count": null,
      "outputs": []
    },
    {
      "cell_type": "code",
      "metadata": {
        "id": "eJ4tUDPYkLCp",
        "colab_type": "code",
        "colab": {}
      },
      "source": [
        "example_list[9:-2:4]"
      ],
      "execution_count": null,
      "outputs": []
    },
    {
      "cell_type": "code",
      "metadata": {
        "id": "CyGisSGXkLdf",
        "colab_type": "code",
        "colab": {}
      },
      "source": [
        "example_list[::-1]"
      ],
      "execution_count": null,
      "outputs": []
    },
    {
      "cell_type": "code",
      "metadata": {
        "id": "JrmdNQSWkOJE",
        "colab_type": "code",
        "colab": {}
      },
      "source": [
        ""
      ],
      "execution_count": null,
      "outputs": []
    }
  ]
}
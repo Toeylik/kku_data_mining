{
  "nbformat": 4,
  "nbformat_minor": 0,
  "metadata": {
    "colab": {
      "name": "Untitled9.ipynb",
      "provenance": [],
      "authorship_tag": "ABX9TyNmhuAdm5k0c+EHRRH06IYe",
      "include_colab_link": true
    },
    "kernelspec": {
      "name": "python3",
      "display_name": "Python 3"
    }
  },
  "cells": [
    {
      "cell_type": "markdown",
      "metadata": {
        "id": "view-in-github",
        "colab_type": "text"
      },
      "source": [
        "<a href=\"https://colab.research.google.com/github/Toeylik/kku_data_mining/blob/master/Project.ipynb\" target=\"_parent\"><img src=\"https://colab.research.google.com/assets/colab-badge.svg\" alt=\"Open In Colab\"/></a>"
      ]
    },
    {
      "cell_type": "code",
      "metadata": {
        "id": "2oL06DOlNBJ9"
      },
      "source": [
        "import numpy as np\n",
        "import pandas as pd\n",
        "from matplotlib import  pyplot as plt"
      ],
      "execution_count": 60,
      "outputs": []
    },
    {
      "cell_type": "code",
      "metadata": {
        "id": "yz19e_O6NIw6",
        "colab": {
          "base_uri": "https://localhost:8080/"
        },
        "outputId": "a1e2060d-8f2d-47c9-9846-40b83eeb8532"
      },
      "source": [
        "from google.colab import drive\n",
        "drive.mount('/content/drive')\n",
        "path = '/content/drive/My Drive/DWDM_material'"
      ],
      "execution_count": 61,
      "outputs": [
        {
          "output_type": "stream",
          "text": [
            "Drive already mounted at /content/drive; to attempt to forcibly remount, call drive.mount(\"/content/drive\", force_remount=True).\n"
          ],
          "name": "stdout"
        }
      ]
    },
    {
      "cell_type": "code",
      "metadata": {
        "id": "LnKYHHOzNMsd",
        "colab": {
          "base_uri": "https://localhost:8080/",
          "height": 1000
        },
        "outputId": "ebbcf63b-b3bd-4dd9-c545-cd9c54969fa7"
      },
      "source": [
        "nb = pd.read_csv('/content/drive/My Drive/DWDM_material/newbooks.csv')\n",
        "nb"
      ],
      "execution_count": 62,
      "outputs": [
        {
          "output_type": "execute_result",
          "data": {
            "text/html": [
              "<div>\n",
              "<style scoped>\n",
              "    .dataframe tbody tr th:only-of-type {\n",
              "        vertical-align: middle;\n",
              "    }\n",
              "\n",
              "    .dataframe tbody tr th {\n",
              "        vertical-align: top;\n",
              "    }\n",
              "\n",
              "    .dataframe thead th {\n",
              "        text-align: right;\n",
              "    }\n",
              "</style>\n",
              "<table border=\"1\" class=\"dataframe\">\n",
              "  <thead>\n",
              "    <tr style=\"text-align: right;\">\n",
              "      <th></th>\n",
              "      <th>book_id</th>\n",
              "      <th>goodreads_book_id</th>\n",
              "      <th>authors</th>\n",
              "      <th>original_publication_year</th>\n",
              "      <th>original_title</th>\n",
              "      <th>title</th>\n",
              "      <th>language_code</th>\n",
              "      <th>average_rating</th>\n",
              "      <th>ratings_count</th>\n",
              "      <th>medium_image_url</th>\n",
              "      <th>small_image_url</th>\n",
              "      <th>desc</th>\n",
              "      <th>genre</th>\n",
              "      <th>image_url</th>\n",
              "    </tr>\n",
              "  </thead>\n",
              "  <tbody>\n",
              "    <tr>\n",
              "      <th>0</th>\n",
              "      <td>27</td>\n",
              "      <td>1</td>\n",
              "      <td>J.K. Rowling, Mary GrandPré</td>\n",
              "      <td>2005.0</td>\n",
              "      <td>Harry Potter and the Half-Blood Prince</td>\n",
              "      <td>Harry Potter and the Half-Blood Prince (Harry ...</td>\n",
              "      <td>eng</td>\n",
              "      <td>4.54</td>\n",
              "      <td>1678823</td>\n",
              "      <td>https://images.gr-assets.com/books/1361039191m...</td>\n",
              "      <td>https://images.gr-assets.com/books/1361039191s...</td>\n",
              "      <td>\\r\\nWhen Harry Potter and the Half-Blood Princ...</td>\n",
              "      <td>fantasy</td>\n",
              "      <td>https://images.gr-assets.com/books/1361039191l...</td>\n",
              "    </tr>\n",
              "    <tr>\n",
              "      <th>1</th>\n",
              "      <td>21</td>\n",
              "      <td>2</td>\n",
              "      <td>J.K. Rowling, Mary GrandPré</td>\n",
              "      <td>2003.0</td>\n",
              "      <td>Harry Potter and the Order of the Phoenix</td>\n",
              "      <td>Harry Potter and the Order of the Phoenix (Har...</td>\n",
              "      <td>eng</td>\n",
              "      <td>4.46</td>\n",
              "      <td>1735368</td>\n",
              "      <td>https://images.gr-assets.com/books/1387141547m...</td>\n",
              "      <td>https://images.gr-assets.com/books/1387141547s...</td>\n",
              "      <td>\\r\\nThere is a door at the end of a silent cor...</td>\n",
              "      <td>fantasy</td>\n",
              "      <td>https://images.gr-assets.com/books/1387141547l...</td>\n",
              "    </tr>\n",
              "    <tr>\n",
              "      <th>2</th>\n",
              "      <td>2</td>\n",
              "      <td>3</td>\n",
              "      <td>J.K. Rowling, Mary GrandPré</td>\n",
              "      <td>1997.0</td>\n",
              "      <td>Harry Potter and the Philosopher's Stone</td>\n",
              "      <td>Harry Potter and the Sorcerer's Stone (Harry P...</td>\n",
              "      <td>eng</td>\n",
              "      <td>4.44</td>\n",
              "      <td>4602479</td>\n",
              "      <td>https://images.gr-assets.com/books/1474154022m...</td>\n",
              "      <td>https://images.gr-assets.com/books/1474154022s...</td>\n",
              "      <td>\\r\\nAlternate cover edition of ISBN 9780439554...</td>\n",
              "      <td>fantasy</td>\n",
              "      <td>https://images.gr-assets.com/books/1474154022l...</td>\n",
              "    </tr>\n",
              "    <tr>\n",
              "      <th>3</th>\n",
              "      <td>18</td>\n",
              "      <td>5</td>\n",
              "      <td>J.K. Rowling, Mary GrandPré, Rufus Beck</td>\n",
              "      <td>1999.0</td>\n",
              "      <td>Harry Potter and the Prisoner of Azkaban</td>\n",
              "      <td>Harry Potter and the Prisoner of Azkaban (Harr...</td>\n",
              "      <td>eng</td>\n",
              "      <td>4.53</td>\n",
              "      <td>1832823</td>\n",
              "      <td>https://images.gr-assets.com/books/1499277281m...</td>\n",
              "      <td>https://images.gr-assets.com/books/1499277281s...</td>\n",
              "      <td>\\r\\nHarry Potter's third year at Hogwarts is f...</td>\n",
              "      <td>fantasy</td>\n",
              "      <td>https://images.gr-assets.com/books/1499277281l...</td>\n",
              "    </tr>\n",
              "    <tr>\n",
              "      <th>4</th>\n",
              "      <td>24</td>\n",
              "      <td>6</td>\n",
              "      <td>J.K. Rowling, Mary GrandPré</td>\n",
              "      <td>2000.0</td>\n",
              "      <td>Harry Potter and the Goblet of Fire</td>\n",
              "      <td>Harry Potter and the Goblet of Fire (Harry Pot...</td>\n",
              "      <td>eng</td>\n",
              "      <td>4.53</td>\n",
              "      <td>1753043</td>\n",
              "      <td>https://images.gr-assets.com/books/1361482611m...</td>\n",
              "      <td>https://images.gr-assets.com/books/1361482611s...</td>\n",
              "      <td>\\r\\nHarry Potter is midway through his trainin...</td>\n",
              "      <td>fantasy</td>\n",
              "      <td>https://images.gr-assets.com/books/1361482611l...</td>\n",
              "    </tr>\n",
              "    <tr>\n",
              "      <th>...</th>\n",
              "      <td>...</td>\n",
              "      <td>...</td>\n",
              "      <td>...</td>\n",
              "      <td>...</td>\n",
              "      <td>...</td>\n",
              "      <td>...</td>\n",
              "      <td>...</td>\n",
              "      <td>...</td>\n",
              "      <td>...</td>\n",
              "      <td>...</td>\n",
              "      <td>...</td>\n",
              "      <td>...</td>\n",
              "      <td>...</td>\n",
              "      <td>...</td>\n",
              "    </tr>\n",
              "    <tr>\n",
              "      <th>9995</th>\n",
              "      <td>7523</td>\n",
              "      <td>31538647</td>\n",
              "      <td>J.K. Rowling</td>\n",
              "      <td>2016.0</td>\n",
              "      <td>Hogwarts: An Incomplete and Unreliable Guide</td>\n",
              "      <td>Hogwarts: An Incomplete and Unreliable Guide (...</td>\n",
              "      <td>eng</td>\n",
              "      <td>4.21</td>\n",
              "      <td>14977</td>\n",
              "      <td>https://images.gr-assets.com/books/1502156557m...</td>\n",
              "      <td>https://images.gr-assets.com/books/1502156557s...</td>\n",
              "      <td>\\r\\nA major new novel from one of science fict...</td>\n",
              "      <td>fantasy</td>\n",
              "      <td>https://images.gr-assets.com/books/1502156557l...</td>\n",
              "    </tr>\n",
              "    <tr>\n",
              "      <th>9996</th>\n",
              "      <td>4594</td>\n",
              "      <td>31845516</td>\n",
              "      <td>Glennon Doyle Melton</td>\n",
              "      <td>2016.0</td>\n",
              "      <td>Love Warrior</td>\n",
              "      <td>Love Warrior</td>\n",
              "      <td>en-US</td>\n",
              "      <td>4.10</td>\n",
              "      <td>20094</td>\n",
              "      <td>https://images.gr-assets.com/books/1473164102m...</td>\n",
              "      <td>https://images.gr-assets.com/books/1473164102s...</td>\n",
              "      <td>\\r\\nHeadstrong and beautiful, the young housem...</td>\n",
              "      <td>memoir</td>\n",
              "      <td>https://images.gr-assets.com/books/1473164102l...</td>\n",
              "    </tr>\n",
              "    <tr>\n",
              "      <th>9997</th>\n",
              "      <td>9569</td>\n",
              "      <td>32075671</td>\n",
              "      <td>Angie Thomas</td>\n",
              "      <td>2017.0</td>\n",
              "      <td>The Hate U Give</td>\n",
              "      <td>The Hate U Give</td>\n",
              "      <td>eng</td>\n",
              "      <td>4.62</td>\n",
              "      <td>32610</td>\n",
              "      <td>https://images.gr-assets.com/books/1476284759m...</td>\n",
              "      <td>https://images.gr-assets.com/books/1476284759s...</td>\n",
              "      <td>\\r\\nThe life of Spokane Indian Thomas Builds-t...</td>\n",
              "      <td>young-adult</td>\n",
              "      <td>https://images.gr-assets.com/books/1476284759l...</td>\n",
              "    </tr>\n",
              "    <tr>\n",
              "      <th>9998</th>\n",
              "      <td>9580</td>\n",
              "      <td>32848471</td>\n",
              "      <td>Vi Keeland</td>\n",
              "      <td>2017.0</td>\n",
              "      <td>NaN</td>\n",
              "      <td>Egomaniac</td>\n",
              "      <td>NaN</td>\n",
              "      <td>4.34</td>\n",
              "      <td>11310</td>\n",
              "      <td>https://images.gr-assets.com/books/1479387807m...</td>\n",
              "      <td>https://images.gr-assets.com/books/1479387807s...</td>\n",
              "      <td>\\r\\nThe life of Spokane Indian Thomas Builds-t...</td>\n",
              "      <td>funny</td>\n",
              "      <td>https://images.gr-assets.com/books/1479387807l...</td>\n",
              "    </tr>\n",
              "    <tr>\n",
              "      <th>9999</th>\n",
              "      <td>8892</td>\n",
              "      <td>33288638</td>\n",
              "      <td>Mariana Zapata</td>\n",
              "      <td>2016.0</td>\n",
              "      <td>Wait for It</td>\n",
              "      <td>Wait for It</td>\n",
              "      <td>eng</td>\n",
              "      <td>4.22</td>\n",
              "      <td>18371</td>\n",
              "      <td>https://s.gr-assets.com/assets/nophoto/book/11...</td>\n",
              "      <td>https://s.gr-assets.com/assets/nophoto/book/50...</td>\n",
              "      <td>\\r\\nIt was first serialised in the Merry's Mus...</td>\n",
              "      <td>romance</td>\n",
              "      <td>https://s.gr-assets.com/assets/nophoto/book/11...</td>\n",
              "    </tr>\n",
              "  </tbody>\n",
              "</table>\n",
              "<p>10000 rows × 14 columns</p>\n",
              "</div>"
            ],
            "text/plain": [
              "      book_id  ...                                          image_url\n",
              "0          27  ...  https://images.gr-assets.com/books/1361039191l...\n",
              "1          21  ...  https://images.gr-assets.com/books/1387141547l...\n",
              "2           2  ...  https://images.gr-assets.com/books/1474154022l...\n",
              "3          18  ...  https://images.gr-assets.com/books/1499277281l...\n",
              "4          24  ...  https://images.gr-assets.com/books/1361482611l...\n",
              "...       ...  ...                                                ...\n",
              "9995     7523  ...  https://images.gr-assets.com/books/1502156557l...\n",
              "9996     4594  ...  https://images.gr-assets.com/books/1473164102l...\n",
              "9997     9569  ...  https://images.gr-assets.com/books/1476284759l...\n",
              "9998     9580  ...  https://images.gr-assets.com/books/1479387807l...\n",
              "9999     8892  ...  https://s.gr-assets.com/assets/nophoto/book/11...\n",
              "\n",
              "[10000 rows x 14 columns]"
            ]
          },
          "metadata": {
            "tags": []
          },
          "execution_count": 62
        }
      ]
    },
    {
      "cell_type": "code",
      "metadata": {
        "id": "I-mcYWTQWcvb",
        "colab": {
          "base_uri": "https://localhost:8080/"
        },
        "outputId": "b7f565f8-16b7-4c68-cf35-e58555b5851b"
      },
      "source": [
        "nb.isnull().any()"
      ],
      "execution_count": 63,
      "outputs": [
        {
          "output_type": "execute_result",
          "data": {
            "text/plain": [
              "book_id                      False\n",
              "goodreads_book_id            False\n",
              "authors                      False\n",
              "original_publication_year     True\n",
              "original_title                True\n",
              "title                        False\n",
              "language_code                 True\n",
              "average_rating               False\n",
              "ratings_count                False\n",
              "medium_image_url             False\n",
              "small_image_url              False\n",
              "desc                          True\n",
              "genre                         True\n",
              "image_url                    False\n",
              "dtype: bool"
            ]
          },
          "metadata": {
            "tags": []
          },
          "execution_count": 63
        }
      ]
    },
    {
      "cell_type": "code",
      "metadata": {
        "id": "05HVtCzxWKzb",
        "colab": {
          "base_uri": "https://localhost:8080/",
          "height": 399
        },
        "outputId": "02fc3678-6ad2-4adb-e226-1ce7c2ae0d51"
      },
      "source": [
        "ratings = pd.read_csv('/content/drive/My Drive/DWDM_material/ratings.csv')\n",
        "ratings"
      ],
      "execution_count": 64,
      "outputs": [
        {
          "output_type": "execute_result",
          "data": {
            "text/html": [
              "<div>\n",
              "<style scoped>\n",
              "    .dataframe tbody tr th:only-of-type {\n",
              "        vertical-align: middle;\n",
              "    }\n",
              "\n",
              "    .dataframe tbody tr th {\n",
              "        vertical-align: top;\n",
              "    }\n",
              "\n",
              "    .dataframe thead th {\n",
              "        text-align: right;\n",
              "    }\n",
              "</style>\n",
              "<table border=\"1\" class=\"dataframe\">\n",
              "  <thead>\n",
              "    <tr style=\"text-align: right;\">\n",
              "      <th></th>\n",
              "      <th>user_id</th>\n",
              "      <th>book_id</th>\n",
              "      <th>rating</th>\n",
              "    </tr>\n",
              "  </thead>\n",
              "  <tbody>\n",
              "    <tr>\n",
              "      <th>0</th>\n",
              "      <td>1</td>\n",
              "      <td>258</td>\n",
              "      <td>5</td>\n",
              "    </tr>\n",
              "    <tr>\n",
              "      <th>1</th>\n",
              "      <td>2</td>\n",
              "      <td>4081</td>\n",
              "      <td>4</td>\n",
              "    </tr>\n",
              "    <tr>\n",
              "      <th>2</th>\n",
              "      <td>2</td>\n",
              "      <td>260</td>\n",
              "      <td>5</td>\n",
              "    </tr>\n",
              "    <tr>\n",
              "      <th>3</th>\n",
              "      <td>2</td>\n",
              "      <td>9296</td>\n",
              "      <td>5</td>\n",
              "    </tr>\n",
              "    <tr>\n",
              "      <th>4</th>\n",
              "      <td>2</td>\n",
              "      <td>2318</td>\n",
              "      <td>3</td>\n",
              "    </tr>\n",
              "    <tr>\n",
              "      <th>...</th>\n",
              "      <td>...</td>\n",
              "      <td>...</td>\n",
              "      <td>...</td>\n",
              "    </tr>\n",
              "    <tr>\n",
              "      <th>1048570</th>\n",
              "      <td>16290</td>\n",
              "      <td>119</td>\n",
              "      <td>2</td>\n",
              "    </tr>\n",
              "    <tr>\n",
              "      <th>1048571</th>\n",
              "      <td>7453</td>\n",
              "      <td>13</td>\n",
              "      <td>5</td>\n",
              "    </tr>\n",
              "    <tr>\n",
              "      <th>1048572</th>\n",
              "      <td>7453</td>\n",
              "      <td>58</td>\n",
              "      <td>5</td>\n",
              "    </tr>\n",
              "    <tr>\n",
              "      <th>1048573</th>\n",
              "      <td>7453</td>\n",
              "      <td>706</td>\n",
              "      <td>5</td>\n",
              "    </tr>\n",
              "    <tr>\n",
              "      <th>1048574</th>\n",
              "      <td>7453</td>\n",
              "      <td>1178</td>\n",
              "      <td>5</td>\n",
              "    </tr>\n",
              "  </tbody>\n",
              "</table>\n",
              "<p>1048575 rows × 3 columns</p>\n",
              "</div>"
            ],
            "text/plain": [
              "         user_id  book_id  rating\n",
              "0              1      258       5\n",
              "1              2     4081       4\n",
              "2              2      260       5\n",
              "3              2     9296       5\n",
              "4              2     2318       3\n",
              "...          ...      ...     ...\n",
              "1048570    16290      119       2\n",
              "1048571     7453       13       5\n",
              "1048572     7453       58       5\n",
              "1048573     7453      706       5\n",
              "1048574     7453     1178       5\n",
              "\n",
              "[1048575 rows x 3 columns]"
            ]
          },
          "metadata": {
            "tags": []
          },
          "execution_count": 64
        }
      ]
    },
    {
      "cell_type": "code",
      "metadata": {
        "id": "hynJ4wRJWaP_",
        "colab": {
          "base_uri": "https://localhost:8080/"
        },
        "outputId": "ac7fdd45-6efe-46a6-ff0e-bdccda0020e6"
      },
      "source": [
        "ratings.isnull().any()"
      ],
      "execution_count": 65,
      "outputs": [
        {
          "output_type": "execute_result",
          "data": {
            "text/plain": [
              "user_id    False\n",
              "book_id    False\n",
              "rating     False\n",
              "dtype: bool"
            ]
          },
          "metadata": {
            "tags": []
          },
          "execution_count": 65
        }
      ]
    },
    {
      "cell_type": "code",
      "metadata": {
        "id": "XSOAgxwYWl90",
        "colab": {
          "base_uri": "https://localhost:8080/",
          "height": 1000
        },
        "outputId": "a2b10c78-d15c-4149-d257-f84c5e26275f"
      },
      "source": [
        "bookmerge = nb.merge(ratings,how='left', left_on='book_id',right_on='book_id')\n",
        "bookmerge"
      ],
      "execution_count": 66,
      "outputs": [
        {
          "output_type": "execute_result",
          "data": {
            "text/html": [
              "<div>\n",
              "<style scoped>\n",
              "    .dataframe tbody tr th:only-of-type {\n",
              "        vertical-align: middle;\n",
              "    }\n",
              "\n",
              "    .dataframe tbody tr th {\n",
              "        vertical-align: top;\n",
              "    }\n",
              "\n",
              "    .dataframe thead th {\n",
              "        text-align: right;\n",
              "    }\n",
              "</style>\n",
              "<table border=\"1\" class=\"dataframe\">\n",
              "  <thead>\n",
              "    <tr style=\"text-align: right;\">\n",
              "      <th></th>\n",
              "      <th>book_id</th>\n",
              "      <th>goodreads_book_id</th>\n",
              "      <th>authors</th>\n",
              "      <th>original_publication_year</th>\n",
              "      <th>original_title</th>\n",
              "      <th>title</th>\n",
              "      <th>language_code</th>\n",
              "      <th>average_rating</th>\n",
              "      <th>ratings_count</th>\n",
              "      <th>medium_image_url</th>\n",
              "      <th>small_image_url</th>\n",
              "      <th>desc</th>\n",
              "      <th>genre</th>\n",
              "      <th>image_url</th>\n",
              "      <th>user_id</th>\n",
              "      <th>rating</th>\n",
              "    </tr>\n",
              "  </thead>\n",
              "  <tbody>\n",
              "    <tr>\n",
              "      <th>0</th>\n",
              "      <td>27</td>\n",
              "      <td>1</td>\n",
              "      <td>J.K. Rowling, Mary GrandPré</td>\n",
              "      <td>2005.0</td>\n",
              "      <td>Harry Potter and the Half-Blood Prince</td>\n",
              "      <td>Harry Potter and the Half-Blood Prince (Harry ...</td>\n",
              "      <td>eng</td>\n",
              "      <td>4.54</td>\n",
              "      <td>1678823</td>\n",
              "      <td>https://images.gr-assets.com/books/1361039191m...</td>\n",
              "      <td>https://images.gr-assets.com/books/1361039191s...</td>\n",
              "      <td>\\r\\nWhen Harry Potter and the Half-Blood Princ...</td>\n",
              "      <td>fantasy</td>\n",
              "      <td>https://images.gr-assets.com/books/1361039191l...</td>\n",
              "      <td>4.0</td>\n",
              "      <td>5.0</td>\n",
              "    </tr>\n",
              "    <tr>\n",
              "      <th>1</th>\n",
              "      <td>27</td>\n",
              "      <td>1</td>\n",
              "      <td>J.K. Rowling, Mary GrandPré</td>\n",
              "      <td>2005.0</td>\n",
              "      <td>Harry Potter and the Half-Blood Prince</td>\n",
              "      <td>Harry Potter and the Half-Blood Prince (Harry ...</td>\n",
              "      <td>eng</td>\n",
              "      <td>4.54</td>\n",
              "      <td>1678823</td>\n",
              "      <td>https://images.gr-assets.com/books/1361039191m...</td>\n",
              "      <td>https://images.gr-assets.com/books/1361039191s...</td>\n",
              "      <td>\\r\\nWhen Harry Potter and the Half-Blood Princ...</td>\n",
              "      <td>fantasy</td>\n",
              "      <td>https://images.gr-assets.com/books/1361039191l...</td>\n",
              "      <td>15.0</td>\n",
              "      <td>4.0</td>\n",
              "    </tr>\n",
              "    <tr>\n",
              "      <th>2</th>\n",
              "      <td>27</td>\n",
              "      <td>1</td>\n",
              "      <td>J.K. Rowling, Mary GrandPré</td>\n",
              "      <td>2005.0</td>\n",
              "      <td>Harry Potter and the Half-Blood Prince</td>\n",
              "      <td>Harry Potter and the Half-Blood Prince (Harry ...</td>\n",
              "      <td>eng</td>\n",
              "      <td>4.54</td>\n",
              "      <td>1678823</td>\n",
              "      <td>https://images.gr-assets.com/books/1361039191m...</td>\n",
              "      <td>https://images.gr-assets.com/books/1361039191s...</td>\n",
              "      <td>\\r\\nWhen Harry Potter and the Half-Blood Princ...</td>\n",
              "      <td>fantasy</td>\n",
              "      <td>https://images.gr-assets.com/books/1361039191l...</td>\n",
              "      <td>29.0</td>\n",
              "      <td>5.0</td>\n",
              "    </tr>\n",
              "    <tr>\n",
              "      <th>3</th>\n",
              "      <td>27</td>\n",
              "      <td>1</td>\n",
              "      <td>J.K. Rowling, Mary GrandPré</td>\n",
              "      <td>2005.0</td>\n",
              "      <td>Harry Potter and the Half-Blood Prince</td>\n",
              "      <td>Harry Potter and the Half-Blood Prince (Harry ...</td>\n",
              "      <td>eng</td>\n",
              "      <td>4.54</td>\n",
              "      <td>1678823</td>\n",
              "      <td>https://images.gr-assets.com/books/1361039191m...</td>\n",
              "      <td>https://images.gr-assets.com/books/1361039191s...</td>\n",
              "      <td>\\r\\nWhen Harry Potter and the Half-Blood Princ...</td>\n",
              "      <td>fantasy</td>\n",
              "      <td>https://images.gr-assets.com/books/1361039191l...</td>\n",
              "      <td>31.0</td>\n",
              "      <td>3.0</td>\n",
              "    </tr>\n",
              "    <tr>\n",
              "      <th>4</th>\n",
              "      <td>27</td>\n",
              "      <td>1</td>\n",
              "      <td>J.K. Rowling, Mary GrandPré</td>\n",
              "      <td>2005.0</td>\n",
              "      <td>Harry Potter and the Half-Blood Prince</td>\n",
              "      <td>Harry Potter and the Half-Blood Prince (Harry ...</td>\n",
              "      <td>eng</td>\n",
              "      <td>4.54</td>\n",
              "      <td>1678823</td>\n",
              "      <td>https://images.gr-assets.com/books/1361039191m...</td>\n",
              "      <td>https://images.gr-assets.com/books/1361039191s...</td>\n",
              "      <td>\\r\\nWhen Harry Potter and the Half-Blood Princ...</td>\n",
              "      <td>fantasy</td>\n",
              "      <td>https://images.gr-assets.com/books/1361039191l...</td>\n",
              "      <td>24.0</td>\n",
              "      <td>4.0</td>\n",
              "    </tr>\n",
              "    <tr>\n",
              "      <th>...</th>\n",
              "      <td>...</td>\n",
              "      <td>...</td>\n",
              "      <td>...</td>\n",
              "      <td>...</td>\n",
              "      <td>...</td>\n",
              "      <td>...</td>\n",
              "      <td>...</td>\n",
              "      <td>...</td>\n",
              "      <td>...</td>\n",
              "      <td>...</td>\n",
              "      <td>...</td>\n",
              "      <td>...</td>\n",
              "      <td>...</td>\n",
              "      <td>...</td>\n",
              "      <td>...</td>\n",
              "      <td>...</td>\n",
              "    </tr>\n",
              "    <tr>\n",
              "      <th>1050796</th>\n",
              "      <td>7523</td>\n",
              "      <td>31538647</td>\n",
              "      <td>J.K. Rowling</td>\n",
              "      <td>2016.0</td>\n",
              "      <td>Hogwarts: An Incomplete and Unreliable Guide</td>\n",
              "      <td>Hogwarts: An Incomplete and Unreliable Guide (...</td>\n",
              "      <td>eng</td>\n",
              "      <td>4.21</td>\n",
              "      <td>14977</td>\n",
              "      <td>https://images.gr-assets.com/books/1502156557m...</td>\n",
              "      <td>https://images.gr-assets.com/books/1502156557s...</td>\n",
              "      <td>\\r\\nA major new novel from one of science fict...</td>\n",
              "      <td>fantasy</td>\n",
              "      <td>https://images.gr-assets.com/books/1502156557l...</td>\n",
              "      <td>NaN</td>\n",
              "      <td>NaN</td>\n",
              "    </tr>\n",
              "    <tr>\n",
              "      <th>1050797</th>\n",
              "      <td>4594</td>\n",
              "      <td>31845516</td>\n",
              "      <td>Glennon Doyle Melton</td>\n",
              "      <td>2016.0</td>\n",
              "      <td>Love Warrior</td>\n",
              "      <td>Love Warrior</td>\n",
              "      <td>en-US</td>\n",
              "      <td>4.10</td>\n",
              "      <td>20094</td>\n",
              "      <td>https://images.gr-assets.com/books/1473164102m...</td>\n",
              "      <td>https://images.gr-assets.com/books/1473164102s...</td>\n",
              "      <td>\\r\\nHeadstrong and beautiful, the young housem...</td>\n",
              "      <td>memoir</td>\n",
              "      <td>https://images.gr-assets.com/books/1473164102l...</td>\n",
              "      <td>NaN</td>\n",
              "      <td>NaN</td>\n",
              "    </tr>\n",
              "    <tr>\n",
              "      <th>1050798</th>\n",
              "      <td>9569</td>\n",
              "      <td>32075671</td>\n",
              "      <td>Angie Thomas</td>\n",
              "      <td>2017.0</td>\n",
              "      <td>The Hate U Give</td>\n",
              "      <td>The Hate U Give</td>\n",
              "      <td>eng</td>\n",
              "      <td>4.62</td>\n",
              "      <td>32610</td>\n",
              "      <td>https://images.gr-assets.com/books/1476284759m...</td>\n",
              "      <td>https://images.gr-assets.com/books/1476284759s...</td>\n",
              "      <td>\\r\\nThe life of Spokane Indian Thomas Builds-t...</td>\n",
              "      <td>young-adult</td>\n",
              "      <td>https://images.gr-assets.com/books/1476284759l...</td>\n",
              "      <td>NaN</td>\n",
              "      <td>NaN</td>\n",
              "    </tr>\n",
              "    <tr>\n",
              "      <th>1050799</th>\n",
              "      <td>9580</td>\n",
              "      <td>32848471</td>\n",
              "      <td>Vi Keeland</td>\n",
              "      <td>2017.0</td>\n",
              "      <td>NaN</td>\n",
              "      <td>Egomaniac</td>\n",
              "      <td>NaN</td>\n",
              "      <td>4.34</td>\n",
              "      <td>11310</td>\n",
              "      <td>https://images.gr-assets.com/books/1479387807m...</td>\n",
              "      <td>https://images.gr-assets.com/books/1479387807s...</td>\n",
              "      <td>\\r\\nThe life of Spokane Indian Thomas Builds-t...</td>\n",
              "      <td>funny</td>\n",
              "      <td>https://images.gr-assets.com/books/1479387807l...</td>\n",
              "      <td>NaN</td>\n",
              "      <td>NaN</td>\n",
              "    </tr>\n",
              "    <tr>\n",
              "      <th>1050800</th>\n",
              "      <td>8892</td>\n",
              "      <td>33288638</td>\n",
              "      <td>Mariana Zapata</td>\n",
              "      <td>2016.0</td>\n",
              "      <td>Wait for It</td>\n",
              "      <td>Wait for It</td>\n",
              "      <td>eng</td>\n",
              "      <td>4.22</td>\n",
              "      <td>18371</td>\n",
              "      <td>https://s.gr-assets.com/assets/nophoto/book/11...</td>\n",
              "      <td>https://s.gr-assets.com/assets/nophoto/book/50...</td>\n",
              "      <td>\\r\\nIt was first serialised in the Merry's Mus...</td>\n",
              "      <td>romance</td>\n",
              "      <td>https://s.gr-assets.com/assets/nophoto/book/11...</td>\n",
              "      <td>NaN</td>\n",
              "      <td>NaN</td>\n",
              "    </tr>\n",
              "  </tbody>\n",
              "</table>\n",
              "<p>1050801 rows × 16 columns</p>\n",
              "</div>"
            ],
            "text/plain": [
              "         book_id  goodreads_book_id  ... user_id  rating\n",
              "0             27                  1  ...     4.0     5.0\n",
              "1             27                  1  ...    15.0     4.0\n",
              "2             27                  1  ...    29.0     5.0\n",
              "3             27                  1  ...    31.0     3.0\n",
              "4             27                  1  ...    24.0     4.0\n",
              "...          ...                ...  ...     ...     ...\n",
              "1050796     7523           31538647  ...     NaN     NaN\n",
              "1050797     4594           31845516  ...     NaN     NaN\n",
              "1050798     9569           32075671  ...     NaN     NaN\n",
              "1050799     9580           32848471  ...     NaN     NaN\n",
              "1050800     8892           33288638  ...     NaN     NaN\n",
              "\n",
              "[1050801 rows x 16 columns]"
            ]
          },
          "metadata": {
            "tags": []
          },
          "execution_count": 66
        }
      ]
    },
    {
      "cell_type": "code",
      "metadata": {
        "id": "OOjRrjVvb_V1",
        "colab": {
          "base_uri": "https://localhost:8080/",
          "height": 1000
        },
        "outputId": "53074107-61c5-4d79-d47c-eefd41e63288"
      },
      "source": [
        "bookmerge = bookmerge.dropna()\n",
        "bookmerge"
      ],
      "execution_count": 67,
      "outputs": [
        {
          "output_type": "execute_result",
          "data": {
            "text/html": [
              "<div>\n",
              "<style scoped>\n",
              "    .dataframe tbody tr th:only-of-type {\n",
              "        vertical-align: middle;\n",
              "    }\n",
              "\n",
              "    .dataframe tbody tr th {\n",
              "        vertical-align: top;\n",
              "    }\n",
              "\n",
              "    .dataframe thead th {\n",
              "        text-align: right;\n",
              "    }\n",
              "</style>\n",
              "<table border=\"1\" class=\"dataframe\">\n",
              "  <thead>\n",
              "    <tr style=\"text-align: right;\">\n",
              "      <th></th>\n",
              "      <th>book_id</th>\n",
              "      <th>goodreads_book_id</th>\n",
              "      <th>authors</th>\n",
              "      <th>original_publication_year</th>\n",
              "      <th>original_title</th>\n",
              "      <th>title</th>\n",
              "      <th>language_code</th>\n",
              "      <th>average_rating</th>\n",
              "      <th>ratings_count</th>\n",
              "      <th>medium_image_url</th>\n",
              "      <th>small_image_url</th>\n",
              "      <th>desc</th>\n",
              "      <th>genre</th>\n",
              "      <th>image_url</th>\n",
              "      <th>user_id</th>\n",
              "      <th>rating</th>\n",
              "    </tr>\n",
              "  </thead>\n",
              "  <tbody>\n",
              "    <tr>\n",
              "      <th>0</th>\n",
              "      <td>27</td>\n",
              "      <td>1</td>\n",
              "      <td>J.K. Rowling, Mary GrandPré</td>\n",
              "      <td>2005.0</td>\n",
              "      <td>Harry Potter and the Half-Blood Prince</td>\n",
              "      <td>Harry Potter and the Half-Blood Prince (Harry ...</td>\n",
              "      <td>eng</td>\n",
              "      <td>4.54</td>\n",
              "      <td>1678823</td>\n",
              "      <td>https://images.gr-assets.com/books/1361039191m...</td>\n",
              "      <td>https://images.gr-assets.com/books/1361039191s...</td>\n",
              "      <td>\\r\\nWhen Harry Potter and the Half-Blood Princ...</td>\n",
              "      <td>fantasy</td>\n",
              "      <td>https://images.gr-assets.com/books/1361039191l...</td>\n",
              "      <td>4.0</td>\n",
              "      <td>5.0</td>\n",
              "    </tr>\n",
              "    <tr>\n",
              "      <th>1</th>\n",
              "      <td>27</td>\n",
              "      <td>1</td>\n",
              "      <td>J.K. Rowling, Mary GrandPré</td>\n",
              "      <td>2005.0</td>\n",
              "      <td>Harry Potter and the Half-Blood Prince</td>\n",
              "      <td>Harry Potter and the Half-Blood Prince (Harry ...</td>\n",
              "      <td>eng</td>\n",
              "      <td>4.54</td>\n",
              "      <td>1678823</td>\n",
              "      <td>https://images.gr-assets.com/books/1361039191m...</td>\n",
              "      <td>https://images.gr-assets.com/books/1361039191s...</td>\n",
              "      <td>\\r\\nWhen Harry Potter and the Half-Blood Princ...</td>\n",
              "      <td>fantasy</td>\n",
              "      <td>https://images.gr-assets.com/books/1361039191l...</td>\n",
              "      <td>15.0</td>\n",
              "      <td>4.0</td>\n",
              "    </tr>\n",
              "    <tr>\n",
              "      <th>2</th>\n",
              "      <td>27</td>\n",
              "      <td>1</td>\n",
              "      <td>J.K. Rowling, Mary GrandPré</td>\n",
              "      <td>2005.0</td>\n",
              "      <td>Harry Potter and the Half-Blood Prince</td>\n",
              "      <td>Harry Potter and the Half-Blood Prince (Harry ...</td>\n",
              "      <td>eng</td>\n",
              "      <td>4.54</td>\n",
              "      <td>1678823</td>\n",
              "      <td>https://images.gr-assets.com/books/1361039191m...</td>\n",
              "      <td>https://images.gr-assets.com/books/1361039191s...</td>\n",
              "      <td>\\r\\nWhen Harry Potter and the Half-Blood Princ...</td>\n",
              "      <td>fantasy</td>\n",
              "      <td>https://images.gr-assets.com/books/1361039191l...</td>\n",
              "      <td>29.0</td>\n",
              "      <td>5.0</td>\n",
              "    </tr>\n",
              "    <tr>\n",
              "      <th>3</th>\n",
              "      <td>27</td>\n",
              "      <td>1</td>\n",
              "      <td>J.K. Rowling, Mary GrandPré</td>\n",
              "      <td>2005.0</td>\n",
              "      <td>Harry Potter and the Half-Blood Prince</td>\n",
              "      <td>Harry Potter and the Half-Blood Prince (Harry ...</td>\n",
              "      <td>eng</td>\n",
              "      <td>4.54</td>\n",
              "      <td>1678823</td>\n",
              "      <td>https://images.gr-assets.com/books/1361039191m...</td>\n",
              "      <td>https://images.gr-assets.com/books/1361039191s...</td>\n",
              "      <td>\\r\\nWhen Harry Potter and the Half-Blood Princ...</td>\n",
              "      <td>fantasy</td>\n",
              "      <td>https://images.gr-assets.com/books/1361039191l...</td>\n",
              "      <td>31.0</td>\n",
              "      <td>3.0</td>\n",
              "    </tr>\n",
              "    <tr>\n",
              "      <th>4</th>\n",
              "      <td>27</td>\n",
              "      <td>1</td>\n",
              "      <td>J.K. Rowling, Mary GrandPré</td>\n",
              "      <td>2005.0</td>\n",
              "      <td>Harry Potter and the Half-Blood Prince</td>\n",
              "      <td>Harry Potter and the Half-Blood Prince (Harry ...</td>\n",
              "      <td>eng</td>\n",
              "      <td>4.54</td>\n",
              "      <td>1678823</td>\n",
              "      <td>https://images.gr-assets.com/books/1361039191m...</td>\n",
              "      <td>https://images.gr-assets.com/books/1361039191s...</td>\n",
              "      <td>\\r\\nWhen Harry Potter and the Half-Blood Princ...</td>\n",
              "      <td>fantasy</td>\n",
              "      <td>https://images.gr-assets.com/books/1361039191l...</td>\n",
              "      <td>24.0</td>\n",
              "      <td>4.0</td>\n",
              "    </tr>\n",
              "    <tr>\n",
              "      <th>...</th>\n",
              "      <td>...</td>\n",
              "      <td>...</td>\n",
              "      <td>...</td>\n",
              "      <td>...</td>\n",
              "      <td>...</td>\n",
              "      <td>...</td>\n",
              "      <td>...</td>\n",
              "      <td>...</td>\n",
              "      <td>...</td>\n",
              "      <td>...</td>\n",
              "      <td>...</td>\n",
              "      <td>...</td>\n",
              "      <td>...</td>\n",
              "      <td>...</td>\n",
              "      <td>...</td>\n",
              "      <td>...</td>\n",
              "    </tr>\n",
              "    <tr>\n",
              "      <th>1050126</th>\n",
              "      <td>5441</td>\n",
              "      <td>19747756</td>\n",
              "      <td>Frank E. Peretti, Ted Dekker</td>\n",
              "      <td>2006.0</td>\n",
              "      <td>House</td>\n",
              "      <td>House</td>\n",
              "      <td>eng</td>\n",
              "      <td>3.60</td>\n",
              "      <td>17813</td>\n",
              "      <td>https://s.gr-assets.com/assets/nophoto/book/11...</td>\n",
              "      <td>https://s.gr-assets.com/assets/nophoto/book/50...</td>\n",
              "      <td>\\r\\nThe title characters in Me &amp; Emma are very...</td>\n",
              "      <td>christian-fiction</td>\n",
              "      <td>https://s.gr-assets.com/assets/nophoto/book/11...</td>\n",
              "      <td>16255.0</td>\n",
              "      <td>2.0</td>\n",
              "    </tr>\n",
              "    <tr>\n",
              "      <th>1050716</th>\n",
              "      <td>8138</td>\n",
              "      <td>27864391</td>\n",
              "      <td>David Ebershoff</td>\n",
              "      <td>2000.0</td>\n",
              "      <td>The Danish Girl</td>\n",
              "      <td>The Danish Girl</td>\n",
              "      <td>eng</td>\n",
              "      <td>3.74</td>\n",
              "      <td>8292</td>\n",
              "      <td>https://images.gr-assets.com/books/1451790312m...</td>\n",
              "      <td>https://images.gr-assets.com/books/1451790312s...</td>\n",
              "      <td>\\r\\nWhen seven members of their family were ki...</td>\n",
              "      <td>historical-fiction</td>\n",
              "      <td>https://images.gr-assets.com/books/1451790312l...</td>\n",
              "      <td>4976.0</td>\n",
              "      <td>2.0</td>\n",
              "    </tr>\n",
              "    <tr>\n",
              "      <th>1050717</th>\n",
              "      <td>8138</td>\n",
              "      <td>27864391</td>\n",
              "      <td>David Ebershoff</td>\n",
              "      <td>2000.0</td>\n",
              "      <td>The Danish Girl</td>\n",
              "      <td>The Danish Girl</td>\n",
              "      <td>eng</td>\n",
              "      <td>3.74</td>\n",
              "      <td>8292</td>\n",
              "      <td>https://images.gr-assets.com/books/1451790312m...</td>\n",
              "      <td>https://images.gr-assets.com/books/1451790312s...</td>\n",
              "      <td>\\r\\nWhen seven members of their family were ki...</td>\n",
              "      <td>historical-fiction</td>\n",
              "      <td>https://images.gr-assets.com/books/1451790312l...</td>\n",
              "      <td>7606.0</td>\n",
              "      <td>5.0</td>\n",
              "    </tr>\n",
              "    <tr>\n",
              "      <th>1050718</th>\n",
              "      <td>8138</td>\n",
              "      <td>27864391</td>\n",
              "      <td>David Ebershoff</td>\n",
              "      <td>2000.0</td>\n",
              "      <td>The Danish Girl</td>\n",
              "      <td>The Danish Girl</td>\n",
              "      <td>eng</td>\n",
              "      <td>3.74</td>\n",
              "      <td>8292</td>\n",
              "      <td>https://images.gr-assets.com/books/1451790312m...</td>\n",
              "      <td>https://images.gr-assets.com/books/1451790312s...</td>\n",
              "      <td>\\r\\nWhen seven members of their family were ki...</td>\n",
              "      <td>historical-fiction</td>\n",
              "      <td>https://images.gr-assets.com/books/1451790312l...</td>\n",
              "      <td>4500.0</td>\n",
              "      <td>5.0</td>\n",
              "    </tr>\n",
              "    <tr>\n",
              "      <th>1050719</th>\n",
              "      <td>8138</td>\n",
              "      <td>27864391</td>\n",
              "      <td>David Ebershoff</td>\n",
              "      <td>2000.0</td>\n",
              "      <td>The Danish Girl</td>\n",
              "      <td>The Danish Girl</td>\n",
              "      <td>eng</td>\n",
              "      <td>3.74</td>\n",
              "      <td>8292</td>\n",
              "      <td>https://images.gr-assets.com/books/1451790312m...</td>\n",
              "      <td>https://images.gr-assets.com/books/1451790312s...</td>\n",
              "      <td>\\r\\nWhen seven members of their family were ki...</td>\n",
              "      <td>historical-fiction</td>\n",
              "      <td>https://images.gr-assets.com/books/1451790312l...</td>\n",
              "      <td>5964.0</td>\n",
              "      <td>5.0</td>\n",
              "    </tr>\n",
              "  </tbody>\n",
              "</table>\n",
              "<p>976071 rows × 16 columns</p>\n",
              "</div>"
            ],
            "text/plain": [
              "         book_id  goodreads_book_id  ...  user_id  rating\n",
              "0             27                  1  ...      4.0     5.0\n",
              "1             27                  1  ...     15.0     4.0\n",
              "2             27                  1  ...     29.0     5.0\n",
              "3             27                  1  ...     31.0     3.0\n",
              "4             27                  1  ...     24.0     4.0\n",
              "...          ...                ...  ...      ...     ...\n",
              "1050126     5441           19747756  ...  16255.0     2.0\n",
              "1050716     8138           27864391  ...   4976.0     2.0\n",
              "1050717     8138           27864391  ...   7606.0     5.0\n",
              "1050718     8138           27864391  ...   4500.0     5.0\n",
              "1050719     8138           27864391  ...   5964.0     5.0\n",
              "\n",
              "[976071 rows x 16 columns]"
            ]
          },
          "metadata": {
            "tags": []
          },
          "execution_count": 67
        }
      ]
    },
    {
      "cell_type": "code",
      "metadata": {
        "id": "ZYxqAC1lXPW6",
        "colab": {
          "base_uri": "https://localhost:8080/",
          "height": 399
        },
        "outputId": "2f75d5cc-7582-4003-a811-acca45e1ea27"
      },
      "source": [
        "bookmerge.drop(columns=['language_code','original_publication_year','medium_image_url','small_image_url','desc','image_url'])"
      ],
      "execution_count": 68,
      "outputs": [
        {
          "output_type": "execute_result",
          "data": {
            "text/html": [
              "<div>\n",
              "<style scoped>\n",
              "    .dataframe tbody tr th:only-of-type {\n",
              "        vertical-align: middle;\n",
              "    }\n",
              "\n",
              "    .dataframe tbody tr th {\n",
              "        vertical-align: top;\n",
              "    }\n",
              "\n",
              "    .dataframe thead th {\n",
              "        text-align: right;\n",
              "    }\n",
              "</style>\n",
              "<table border=\"1\" class=\"dataframe\">\n",
              "  <thead>\n",
              "    <tr style=\"text-align: right;\">\n",
              "      <th></th>\n",
              "      <th>book_id</th>\n",
              "      <th>goodreads_book_id</th>\n",
              "      <th>authors</th>\n",
              "      <th>original_title</th>\n",
              "      <th>title</th>\n",
              "      <th>average_rating</th>\n",
              "      <th>ratings_count</th>\n",
              "      <th>genre</th>\n",
              "      <th>user_id</th>\n",
              "      <th>rating</th>\n",
              "    </tr>\n",
              "  </thead>\n",
              "  <tbody>\n",
              "    <tr>\n",
              "      <th>0</th>\n",
              "      <td>27</td>\n",
              "      <td>1</td>\n",
              "      <td>J.K. Rowling, Mary GrandPré</td>\n",
              "      <td>Harry Potter and the Half-Blood Prince</td>\n",
              "      <td>Harry Potter and the Half-Blood Prince (Harry ...</td>\n",
              "      <td>4.54</td>\n",
              "      <td>1678823</td>\n",
              "      <td>fantasy</td>\n",
              "      <td>4.0</td>\n",
              "      <td>5.0</td>\n",
              "    </tr>\n",
              "    <tr>\n",
              "      <th>1</th>\n",
              "      <td>27</td>\n",
              "      <td>1</td>\n",
              "      <td>J.K. Rowling, Mary GrandPré</td>\n",
              "      <td>Harry Potter and the Half-Blood Prince</td>\n",
              "      <td>Harry Potter and the Half-Blood Prince (Harry ...</td>\n",
              "      <td>4.54</td>\n",
              "      <td>1678823</td>\n",
              "      <td>fantasy</td>\n",
              "      <td>15.0</td>\n",
              "      <td>4.0</td>\n",
              "    </tr>\n",
              "    <tr>\n",
              "      <th>2</th>\n",
              "      <td>27</td>\n",
              "      <td>1</td>\n",
              "      <td>J.K. Rowling, Mary GrandPré</td>\n",
              "      <td>Harry Potter and the Half-Blood Prince</td>\n",
              "      <td>Harry Potter and the Half-Blood Prince (Harry ...</td>\n",
              "      <td>4.54</td>\n",
              "      <td>1678823</td>\n",
              "      <td>fantasy</td>\n",
              "      <td>29.0</td>\n",
              "      <td>5.0</td>\n",
              "    </tr>\n",
              "    <tr>\n",
              "      <th>3</th>\n",
              "      <td>27</td>\n",
              "      <td>1</td>\n",
              "      <td>J.K. Rowling, Mary GrandPré</td>\n",
              "      <td>Harry Potter and the Half-Blood Prince</td>\n",
              "      <td>Harry Potter and the Half-Blood Prince (Harry ...</td>\n",
              "      <td>4.54</td>\n",
              "      <td>1678823</td>\n",
              "      <td>fantasy</td>\n",
              "      <td>31.0</td>\n",
              "      <td>3.0</td>\n",
              "    </tr>\n",
              "    <tr>\n",
              "      <th>4</th>\n",
              "      <td>27</td>\n",
              "      <td>1</td>\n",
              "      <td>J.K. Rowling, Mary GrandPré</td>\n",
              "      <td>Harry Potter and the Half-Blood Prince</td>\n",
              "      <td>Harry Potter and the Half-Blood Prince (Harry ...</td>\n",
              "      <td>4.54</td>\n",
              "      <td>1678823</td>\n",
              "      <td>fantasy</td>\n",
              "      <td>24.0</td>\n",
              "      <td>4.0</td>\n",
              "    </tr>\n",
              "    <tr>\n",
              "      <th>...</th>\n",
              "      <td>...</td>\n",
              "      <td>...</td>\n",
              "      <td>...</td>\n",
              "      <td>...</td>\n",
              "      <td>...</td>\n",
              "      <td>...</td>\n",
              "      <td>...</td>\n",
              "      <td>...</td>\n",
              "      <td>...</td>\n",
              "      <td>...</td>\n",
              "    </tr>\n",
              "    <tr>\n",
              "      <th>1050126</th>\n",
              "      <td>5441</td>\n",
              "      <td>19747756</td>\n",
              "      <td>Frank E. Peretti, Ted Dekker</td>\n",
              "      <td>House</td>\n",
              "      <td>House</td>\n",
              "      <td>3.60</td>\n",
              "      <td>17813</td>\n",
              "      <td>christian-fiction</td>\n",
              "      <td>16255.0</td>\n",
              "      <td>2.0</td>\n",
              "    </tr>\n",
              "    <tr>\n",
              "      <th>1050716</th>\n",
              "      <td>8138</td>\n",
              "      <td>27864391</td>\n",
              "      <td>David Ebershoff</td>\n",
              "      <td>The Danish Girl</td>\n",
              "      <td>The Danish Girl</td>\n",
              "      <td>3.74</td>\n",
              "      <td>8292</td>\n",
              "      <td>historical-fiction</td>\n",
              "      <td>4976.0</td>\n",
              "      <td>2.0</td>\n",
              "    </tr>\n",
              "    <tr>\n",
              "      <th>1050717</th>\n",
              "      <td>8138</td>\n",
              "      <td>27864391</td>\n",
              "      <td>David Ebershoff</td>\n",
              "      <td>The Danish Girl</td>\n",
              "      <td>The Danish Girl</td>\n",
              "      <td>3.74</td>\n",
              "      <td>8292</td>\n",
              "      <td>historical-fiction</td>\n",
              "      <td>7606.0</td>\n",
              "      <td>5.0</td>\n",
              "    </tr>\n",
              "    <tr>\n",
              "      <th>1050718</th>\n",
              "      <td>8138</td>\n",
              "      <td>27864391</td>\n",
              "      <td>David Ebershoff</td>\n",
              "      <td>The Danish Girl</td>\n",
              "      <td>The Danish Girl</td>\n",
              "      <td>3.74</td>\n",
              "      <td>8292</td>\n",
              "      <td>historical-fiction</td>\n",
              "      <td>4500.0</td>\n",
              "      <td>5.0</td>\n",
              "    </tr>\n",
              "    <tr>\n",
              "      <th>1050719</th>\n",
              "      <td>8138</td>\n",
              "      <td>27864391</td>\n",
              "      <td>David Ebershoff</td>\n",
              "      <td>The Danish Girl</td>\n",
              "      <td>The Danish Girl</td>\n",
              "      <td>3.74</td>\n",
              "      <td>8292</td>\n",
              "      <td>historical-fiction</td>\n",
              "      <td>5964.0</td>\n",
              "      <td>5.0</td>\n",
              "    </tr>\n",
              "  </tbody>\n",
              "</table>\n",
              "<p>976071 rows × 10 columns</p>\n",
              "</div>"
            ],
            "text/plain": [
              "         book_id  goodreads_book_id  ...  user_id rating\n",
              "0             27                  1  ...      4.0    5.0\n",
              "1             27                  1  ...     15.0    4.0\n",
              "2             27                  1  ...     29.0    5.0\n",
              "3             27                  1  ...     31.0    3.0\n",
              "4             27                  1  ...     24.0    4.0\n",
              "...          ...                ...  ...      ...    ...\n",
              "1050126     5441           19747756  ...  16255.0    2.0\n",
              "1050716     8138           27864391  ...   4976.0    2.0\n",
              "1050717     8138           27864391  ...   7606.0    5.0\n",
              "1050718     8138           27864391  ...   4500.0    5.0\n",
              "1050719     8138           27864391  ...   5964.0    5.0\n",
              "\n",
              "[976071 rows x 10 columns]"
            ]
          },
          "metadata": {
            "tags": []
          },
          "execution_count": 68
        }
      ]
    },
    {
      "cell_type": "code",
      "metadata": {
        "colab": {
          "base_uri": "https://localhost:8080/",
          "height": 1000
        },
        "id": "-C8qD_BSlMrO",
        "outputId": "706fecc4-304f-41b6-950f-a42053fde283"
      },
      "source": [
        "bookratinghigh = bookmerge[bookmerge['rating']>=3]\n",
        "bookratinghigh"
      ],
      "execution_count": 69,
      "outputs": [
        {
          "output_type": "execute_result",
          "data": {
            "text/html": [
              "<div>\n",
              "<style scoped>\n",
              "    .dataframe tbody tr th:only-of-type {\n",
              "        vertical-align: middle;\n",
              "    }\n",
              "\n",
              "    .dataframe tbody tr th {\n",
              "        vertical-align: top;\n",
              "    }\n",
              "\n",
              "    .dataframe thead th {\n",
              "        text-align: right;\n",
              "    }\n",
              "</style>\n",
              "<table border=\"1\" class=\"dataframe\">\n",
              "  <thead>\n",
              "    <tr style=\"text-align: right;\">\n",
              "      <th></th>\n",
              "      <th>book_id</th>\n",
              "      <th>goodreads_book_id</th>\n",
              "      <th>authors</th>\n",
              "      <th>original_publication_year</th>\n",
              "      <th>original_title</th>\n",
              "      <th>title</th>\n",
              "      <th>language_code</th>\n",
              "      <th>average_rating</th>\n",
              "      <th>ratings_count</th>\n",
              "      <th>medium_image_url</th>\n",
              "      <th>small_image_url</th>\n",
              "      <th>desc</th>\n",
              "      <th>genre</th>\n",
              "      <th>image_url</th>\n",
              "      <th>user_id</th>\n",
              "      <th>rating</th>\n",
              "    </tr>\n",
              "  </thead>\n",
              "  <tbody>\n",
              "    <tr>\n",
              "      <th>0</th>\n",
              "      <td>27</td>\n",
              "      <td>1</td>\n",
              "      <td>J.K. Rowling, Mary GrandPré</td>\n",
              "      <td>2005.0</td>\n",
              "      <td>Harry Potter and the Half-Blood Prince</td>\n",
              "      <td>Harry Potter and the Half-Blood Prince (Harry ...</td>\n",
              "      <td>eng</td>\n",
              "      <td>4.54</td>\n",
              "      <td>1678823</td>\n",
              "      <td>https://images.gr-assets.com/books/1361039191m...</td>\n",
              "      <td>https://images.gr-assets.com/books/1361039191s...</td>\n",
              "      <td>\\r\\nWhen Harry Potter and the Half-Blood Princ...</td>\n",
              "      <td>fantasy</td>\n",
              "      <td>https://images.gr-assets.com/books/1361039191l...</td>\n",
              "      <td>4.0</td>\n",
              "      <td>5.0</td>\n",
              "    </tr>\n",
              "    <tr>\n",
              "      <th>1</th>\n",
              "      <td>27</td>\n",
              "      <td>1</td>\n",
              "      <td>J.K. Rowling, Mary GrandPré</td>\n",
              "      <td>2005.0</td>\n",
              "      <td>Harry Potter and the Half-Blood Prince</td>\n",
              "      <td>Harry Potter and the Half-Blood Prince (Harry ...</td>\n",
              "      <td>eng</td>\n",
              "      <td>4.54</td>\n",
              "      <td>1678823</td>\n",
              "      <td>https://images.gr-assets.com/books/1361039191m...</td>\n",
              "      <td>https://images.gr-assets.com/books/1361039191s...</td>\n",
              "      <td>\\r\\nWhen Harry Potter and the Half-Blood Princ...</td>\n",
              "      <td>fantasy</td>\n",
              "      <td>https://images.gr-assets.com/books/1361039191l...</td>\n",
              "      <td>15.0</td>\n",
              "      <td>4.0</td>\n",
              "    </tr>\n",
              "    <tr>\n",
              "      <th>2</th>\n",
              "      <td>27</td>\n",
              "      <td>1</td>\n",
              "      <td>J.K. Rowling, Mary GrandPré</td>\n",
              "      <td>2005.0</td>\n",
              "      <td>Harry Potter and the Half-Blood Prince</td>\n",
              "      <td>Harry Potter and the Half-Blood Prince (Harry ...</td>\n",
              "      <td>eng</td>\n",
              "      <td>4.54</td>\n",
              "      <td>1678823</td>\n",
              "      <td>https://images.gr-assets.com/books/1361039191m...</td>\n",
              "      <td>https://images.gr-assets.com/books/1361039191s...</td>\n",
              "      <td>\\r\\nWhen Harry Potter and the Half-Blood Princ...</td>\n",
              "      <td>fantasy</td>\n",
              "      <td>https://images.gr-assets.com/books/1361039191l...</td>\n",
              "      <td>29.0</td>\n",
              "      <td>5.0</td>\n",
              "    </tr>\n",
              "    <tr>\n",
              "      <th>3</th>\n",
              "      <td>27</td>\n",
              "      <td>1</td>\n",
              "      <td>J.K. Rowling, Mary GrandPré</td>\n",
              "      <td>2005.0</td>\n",
              "      <td>Harry Potter and the Half-Blood Prince</td>\n",
              "      <td>Harry Potter and the Half-Blood Prince (Harry ...</td>\n",
              "      <td>eng</td>\n",
              "      <td>4.54</td>\n",
              "      <td>1678823</td>\n",
              "      <td>https://images.gr-assets.com/books/1361039191m...</td>\n",
              "      <td>https://images.gr-assets.com/books/1361039191s...</td>\n",
              "      <td>\\r\\nWhen Harry Potter and the Half-Blood Princ...</td>\n",
              "      <td>fantasy</td>\n",
              "      <td>https://images.gr-assets.com/books/1361039191l...</td>\n",
              "      <td>31.0</td>\n",
              "      <td>3.0</td>\n",
              "    </tr>\n",
              "    <tr>\n",
              "      <th>4</th>\n",
              "      <td>27</td>\n",
              "      <td>1</td>\n",
              "      <td>J.K. Rowling, Mary GrandPré</td>\n",
              "      <td>2005.0</td>\n",
              "      <td>Harry Potter and the Half-Blood Prince</td>\n",
              "      <td>Harry Potter and the Half-Blood Prince (Harry ...</td>\n",
              "      <td>eng</td>\n",
              "      <td>4.54</td>\n",
              "      <td>1678823</td>\n",
              "      <td>https://images.gr-assets.com/books/1361039191m...</td>\n",
              "      <td>https://images.gr-assets.com/books/1361039191s...</td>\n",
              "      <td>\\r\\nWhen Harry Potter and the Half-Blood Princ...</td>\n",
              "      <td>fantasy</td>\n",
              "      <td>https://images.gr-assets.com/books/1361039191l...</td>\n",
              "      <td>24.0</td>\n",
              "      <td>4.0</td>\n",
              "    </tr>\n",
              "    <tr>\n",
              "      <th>...</th>\n",
              "      <td>...</td>\n",
              "      <td>...</td>\n",
              "      <td>...</td>\n",
              "      <td>...</td>\n",
              "      <td>...</td>\n",
              "      <td>...</td>\n",
              "      <td>...</td>\n",
              "      <td>...</td>\n",
              "      <td>...</td>\n",
              "      <td>...</td>\n",
              "      <td>...</td>\n",
              "      <td>...</td>\n",
              "      <td>...</td>\n",
              "      <td>...</td>\n",
              "      <td>...</td>\n",
              "      <td>...</td>\n",
              "    </tr>\n",
              "    <tr>\n",
              "      <th>1050124</th>\n",
              "      <td>5441</td>\n",
              "      <td>19747756</td>\n",
              "      <td>Frank E. Peretti, Ted Dekker</td>\n",
              "      <td>2006.0</td>\n",
              "      <td>House</td>\n",
              "      <td>House</td>\n",
              "      <td>eng</td>\n",
              "      <td>3.60</td>\n",
              "      <td>17813</td>\n",
              "      <td>https://s.gr-assets.com/assets/nophoto/book/11...</td>\n",
              "      <td>https://s.gr-assets.com/assets/nophoto/book/50...</td>\n",
              "      <td>\\r\\nThe title characters in Me &amp; Emma are very...</td>\n",
              "      <td>christian-fiction</td>\n",
              "      <td>https://s.gr-assets.com/assets/nophoto/book/11...</td>\n",
              "      <td>16007.0</td>\n",
              "      <td>3.0</td>\n",
              "    </tr>\n",
              "    <tr>\n",
              "      <th>1050125</th>\n",
              "      <td>5441</td>\n",
              "      <td>19747756</td>\n",
              "      <td>Frank E. Peretti, Ted Dekker</td>\n",
              "      <td>2006.0</td>\n",
              "      <td>House</td>\n",
              "      <td>House</td>\n",
              "      <td>eng</td>\n",
              "      <td>3.60</td>\n",
              "      <td>17813</td>\n",
              "      <td>https://s.gr-assets.com/assets/nophoto/book/11...</td>\n",
              "      <td>https://s.gr-assets.com/assets/nophoto/book/50...</td>\n",
              "      <td>\\r\\nThe title characters in Me &amp; Emma are very...</td>\n",
              "      <td>christian-fiction</td>\n",
              "      <td>https://s.gr-assets.com/assets/nophoto/book/11...</td>\n",
              "      <td>16046.0</td>\n",
              "      <td>4.0</td>\n",
              "    </tr>\n",
              "    <tr>\n",
              "      <th>1050717</th>\n",
              "      <td>8138</td>\n",
              "      <td>27864391</td>\n",
              "      <td>David Ebershoff</td>\n",
              "      <td>2000.0</td>\n",
              "      <td>The Danish Girl</td>\n",
              "      <td>The Danish Girl</td>\n",
              "      <td>eng</td>\n",
              "      <td>3.74</td>\n",
              "      <td>8292</td>\n",
              "      <td>https://images.gr-assets.com/books/1451790312m...</td>\n",
              "      <td>https://images.gr-assets.com/books/1451790312s...</td>\n",
              "      <td>\\r\\nWhen seven members of their family were ki...</td>\n",
              "      <td>historical-fiction</td>\n",
              "      <td>https://images.gr-assets.com/books/1451790312l...</td>\n",
              "      <td>7606.0</td>\n",
              "      <td>5.0</td>\n",
              "    </tr>\n",
              "    <tr>\n",
              "      <th>1050718</th>\n",
              "      <td>8138</td>\n",
              "      <td>27864391</td>\n",
              "      <td>David Ebershoff</td>\n",
              "      <td>2000.0</td>\n",
              "      <td>The Danish Girl</td>\n",
              "      <td>The Danish Girl</td>\n",
              "      <td>eng</td>\n",
              "      <td>3.74</td>\n",
              "      <td>8292</td>\n",
              "      <td>https://images.gr-assets.com/books/1451790312m...</td>\n",
              "      <td>https://images.gr-assets.com/books/1451790312s...</td>\n",
              "      <td>\\r\\nWhen seven members of their family were ki...</td>\n",
              "      <td>historical-fiction</td>\n",
              "      <td>https://images.gr-assets.com/books/1451790312l...</td>\n",
              "      <td>4500.0</td>\n",
              "      <td>5.0</td>\n",
              "    </tr>\n",
              "    <tr>\n",
              "      <th>1050719</th>\n",
              "      <td>8138</td>\n",
              "      <td>27864391</td>\n",
              "      <td>David Ebershoff</td>\n",
              "      <td>2000.0</td>\n",
              "      <td>The Danish Girl</td>\n",
              "      <td>The Danish Girl</td>\n",
              "      <td>eng</td>\n",
              "      <td>3.74</td>\n",
              "      <td>8292</td>\n",
              "      <td>https://images.gr-assets.com/books/1451790312m...</td>\n",
              "      <td>https://images.gr-assets.com/books/1451790312s...</td>\n",
              "      <td>\\r\\nWhen seven members of their family were ki...</td>\n",
              "      <td>historical-fiction</td>\n",
              "      <td>https://images.gr-assets.com/books/1451790312l...</td>\n",
              "      <td>5964.0</td>\n",
              "      <td>5.0</td>\n",
              "    </tr>\n",
              "  </tbody>\n",
              "</table>\n",
              "<p>882015 rows × 16 columns</p>\n",
              "</div>"
            ],
            "text/plain": [
              "         book_id  goodreads_book_id  ...  user_id  rating\n",
              "0             27                  1  ...      4.0     5.0\n",
              "1             27                  1  ...     15.0     4.0\n",
              "2             27                  1  ...     29.0     5.0\n",
              "3             27                  1  ...     31.0     3.0\n",
              "4             27                  1  ...     24.0     4.0\n",
              "...          ...                ...  ...      ...     ...\n",
              "1050124     5441           19747756  ...  16007.0     3.0\n",
              "1050125     5441           19747756  ...  16046.0     4.0\n",
              "1050717     8138           27864391  ...   7606.0     5.0\n",
              "1050718     8138           27864391  ...   4500.0     5.0\n",
              "1050719     8138           27864391  ...   5964.0     5.0\n",
              "\n",
              "[882015 rows x 16 columns]"
            ]
          },
          "metadata": {
            "tags": []
          },
          "execution_count": 69
        }
      ]
    },
    {
      "cell_type": "code",
      "metadata": {
        "id": "q8lrAWgd3XGG",
        "colab": {
          "base_uri": "https://localhost:8080/",
          "height": 1000
        },
        "outputId": "a02b41c0-00e7-432d-d5de-c2a36b3cf1bf"
      },
      "source": [
        "bookratinglow = bookmerge[bookmerge['rating']<3]\n",
        "bookratinglow"
      ],
      "execution_count": 70,
      "outputs": [
        {
          "output_type": "execute_result",
          "data": {
            "text/html": [
              "<div>\n",
              "<style scoped>\n",
              "    .dataframe tbody tr th:only-of-type {\n",
              "        vertical-align: middle;\n",
              "    }\n",
              "\n",
              "    .dataframe tbody tr th {\n",
              "        vertical-align: top;\n",
              "    }\n",
              "\n",
              "    .dataframe thead th {\n",
              "        text-align: right;\n",
              "    }\n",
              "</style>\n",
              "<table border=\"1\" class=\"dataframe\">\n",
              "  <thead>\n",
              "    <tr style=\"text-align: right;\">\n",
              "      <th></th>\n",
              "      <th>book_id</th>\n",
              "      <th>goodreads_book_id</th>\n",
              "      <th>authors</th>\n",
              "      <th>original_publication_year</th>\n",
              "      <th>original_title</th>\n",
              "      <th>title</th>\n",
              "      <th>language_code</th>\n",
              "      <th>average_rating</th>\n",
              "      <th>ratings_count</th>\n",
              "      <th>medium_image_url</th>\n",
              "      <th>small_image_url</th>\n",
              "      <th>desc</th>\n",
              "      <th>genre</th>\n",
              "      <th>image_url</th>\n",
              "      <th>user_id</th>\n",
              "      <th>rating</th>\n",
              "    </tr>\n",
              "  </thead>\n",
              "  <tbody>\n",
              "    <tr>\n",
              "      <th>16</th>\n",
              "      <td>27</td>\n",
              "      <td>1</td>\n",
              "      <td>J.K. Rowling, Mary GrandPré</td>\n",
              "      <td>2005.0</td>\n",
              "      <td>Harry Potter and the Half-Blood Prince</td>\n",
              "      <td>Harry Potter and the Half-Blood Prince (Harry ...</td>\n",
              "      <td>eng</td>\n",
              "      <td>4.54</td>\n",
              "      <td>1678823</td>\n",
              "      <td>https://images.gr-assets.com/books/1361039191m...</td>\n",
              "      <td>https://images.gr-assets.com/books/1361039191s...</td>\n",
              "      <td>\\r\\nWhen Harry Potter and the Half-Blood Princ...</td>\n",
              "      <td>fantasy</td>\n",
              "      <td>https://images.gr-assets.com/books/1361039191l...</td>\n",
              "      <td>124.0</td>\n",
              "      <td>2.0</td>\n",
              "    </tr>\n",
              "    <tr>\n",
              "      <th>217</th>\n",
              "      <td>27</td>\n",
              "      <td>1</td>\n",
              "      <td>J.K. Rowling, Mary GrandPré</td>\n",
              "      <td>2005.0</td>\n",
              "      <td>Harry Potter and the Half-Blood Prince</td>\n",
              "      <td>Harry Potter and the Half-Blood Prince (Harry ...</td>\n",
              "      <td>eng</td>\n",
              "      <td>4.54</td>\n",
              "      <td>1678823</td>\n",
              "      <td>https://images.gr-assets.com/books/1361039191m...</td>\n",
              "      <td>https://images.gr-assets.com/books/1361039191s...</td>\n",
              "      <td>\\r\\nWhen Harry Potter and the Half-Blood Princ...</td>\n",
              "      <td>fantasy</td>\n",
              "      <td>https://images.gr-assets.com/books/1361039191l...</td>\n",
              "      <td>1368.0</td>\n",
              "      <td>2.0</td>\n",
              "    </tr>\n",
              "    <tr>\n",
              "      <th>314</th>\n",
              "      <td>27</td>\n",
              "      <td>1</td>\n",
              "      <td>J.K. Rowling, Mary GrandPré</td>\n",
              "      <td>2005.0</td>\n",
              "      <td>Harry Potter and the Half-Blood Prince</td>\n",
              "      <td>Harry Potter and the Half-Blood Prince (Harry ...</td>\n",
              "      <td>eng</td>\n",
              "      <td>4.54</td>\n",
              "      <td>1678823</td>\n",
              "      <td>https://images.gr-assets.com/books/1361039191m...</td>\n",
              "      <td>https://images.gr-assets.com/books/1361039191s...</td>\n",
              "      <td>\\r\\nWhen Harry Potter and the Half-Blood Princ...</td>\n",
              "      <td>fantasy</td>\n",
              "      <td>https://images.gr-assets.com/books/1361039191l...</td>\n",
              "      <td>1889.0</td>\n",
              "      <td>2.0</td>\n",
              "    </tr>\n",
              "    <tr>\n",
              "      <th>362</th>\n",
              "      <td>27</td>\n",
              "      <td>1</td>\n",
              "      <td>J.K. Rowling, Mary GrandPré</td>\n",
              "      <td>2005.0</td>\n",
              "      <td>Harry Potter and the Half-Blood Prince</td>\n",
              "      <td>Harry Potter and the Half-Blood Prince (Harry ...</td>\n",
              "      <td>eng</td>\n",
              "      <td>4.54</td>\n",
              "      <td>1678823</td>\n",
              "      <td>https://images.gr-assets.com/books/1361039191m...</td>\n",
              "      <td>https://images.gr-assets.com/books/1361039191s...</td>\n",
              "      <td>\\r\\nWhen Harry Potter and the Half-Blood Princ...</td>\n",
              "      <td>fantasy</td>\n",
              "      <td>https://images.gr-assets.com/books/1361039191l...</td>\n",
              "      <td>2210.0</td>\n",
              "      <td>2.0</td>\n",
              "    </tr>\n",
              "    <tr>\n",
              "      <th>417</th>\n",
              "      <td>27</td>\n",
              "      <td>1</td>\n",
              "      <td>J.K. Rowling, Mary GrandPré</td>\n",
              "      <td>2005.0</td>\n",
              "      <td>Harry Potter and the Half-Blood Prince</td>\n",
              "      <td>Harry Potter and the Half-Blood Prince (Harry ...</td>\n",
              "      <td>eng</td>\n",
              "      <td>4.54</td>\n",
              "      <td>1678823</td>\n",
              "      <td>https://images.gr-assets.com/books/1361039191m...</td>\n",
              "      <td>https://images.gr-assets.com/books/1361039191s...</td>\n",
              "      <td>\\r\\nWhen Harry Potter and the Half-Blood Princ...</td>\n",
              "      <td>fantasy</td>\n",
              "      <td>https://images.gr-assets.com/books/1361039191l...</td>\n",
              "      <td>2466.0</td>\n",
              "      <td>1.0</td>\n",
              "    </tr>\n",
              "    <tr>\n",
              "      <th>...</th>\n",
              "      <td>...</td>\n",
              "      <td>...</td>\n",
              "      <td>...</td>\n",
              "      <td>...</td>\n",
              "      <td>...</td>\n",
              "      <td>...</td>\n",
              "      <td>...</td>\n",
              "      <td>...</td>\n",
              "      <td>...</td>\n",
              "      <td>...</td>\n",
              "      <td>...</td>\n",
              "      <td>...</td>\n",
              "      <td>...</td>\n",
              "      <td>...</td>\n",
              "      <td>...</td>\n",
              "      <td>...</td>\n",
              "    </tr>\n",
              "    <tr>\n",
              "      <th>1050117</th>\n",
              "      <td>5441</td>\n",
              "      <td>19747756</td>\n",
              "      <td>Frank E. Peretti, Ted Dekker</td>\n",
              "      <td>2006.0</td>\n",
              "      <td>House</td>\n",
              "      <td>House</td>\n",
              "      <td>eng</td>\n",
              "      <td>3.60</td>\n",
              "      <td>17813</td>\n",
              "      <td>https://s.gr-assets.com/assets/nophoto/book/11...</td>\n",
              "      <td>https://s.gr-assets.com/assets/nophoto/book/50...</td>\n",
              "      <td>\\r\\nThe title characters in Me &amp; Emma are very...</td>\n",
              "      <td>christian-fiction</td>\n",
              "      <td>https://s.gr-assets.com/assets/nophoto/book/11...</td>\n",
              "      <td>14512.0</td>\n",
              "      <td>2.0</td>\n",
              "    </tr>\n",
              "    <tr>\n",
              "      <th>1050118</th>\n",
              "      <td>5441</td>\n",
              "      <td>19747756</td>\n",
              "      <td>Frank E. Peretti, Ted Dekker</td>\n",
              "      <td>2006.0</td>\n",
              "      <td>House</td>\n",
              "      <td>House</td>\n",
              "      <td>eng</td>\n",
              "      <td>3.60</td>\n",
              "      <td>17813</td>\n",
              "      <td>https://s.gr-assets.com/assets/nophoto/book/11...</td>\n",
              "      <td>https://s.gr-assets.com/assets/nophoto/book/50...</td>\n",
              "      <td>\\r\\nThe title characters in Me &amp; Emma are very...</td>\n",
              "      <td>christian-fiction</td>\n",
              "      <td>https://s.gr-assets.com/assets/nophoto/book/11...</td>\n",
              "      <td>15421.0</td>\n",
              "      <td>2.0</td>\n",
              "    </tr>\n",
              "    <tr>\n",
              "      <th>1050120</th>\n",
              "      <td>5441</td>\n",
              "      <td>19747756</td>\n",
              "      <td>Frank E. Peretti, Ted Dekker</td>\n",
              "      <td>2006.0</td>\n",
              "      <td>House</td>\n",
              "      <td>House</td>\n",
              "      <td>eng</td>\n",
              "      <td>3.60</td>\n",
              "      <td>17813</td>\n",
              "      <td>https://s.gr-assets.com/assets/nophoto/book/11...</td>\n",
              "      <td>https://s.gr-assets.com/assets/nophoto/book/50...</td>\n",
              "      <td>\\r\\nThe title characters in Me &amp; Emma are very...</td>\n",
              "      <td>christian-fiction</td>\n",
              "      <td>https://s.gr-assets.com/assets/nophoto/book/11...</td>\n",
              "      <td>15536.0</td>\n",
              "      <td>2.0</td>\n",
              "    </tr>\n",
              "    <tr>\n",
              "      <th>1050126</th>\n",
              "      <td>5441</td>\n",
              "      <td>19747756</td>\n",
              "      <td>Frank E. Peretti, Ted Dekker</td>\n",
              "      <td>2006.0</td>\n",
              "      <td>House</td>\n",
              "      <td>House</td>\n",
              "      <td>eng</td>\n",
              "      <td>3.60</td>\n",
              "      <td>17813</td>\n",
              "      <td>https://s.gr-assets.com/assets/nophoto/book/11...</td>\n",
              "      <td>https://s.gr-assets.com/assets/nophoto/book/50...</td>\n",
              "      <td>\\r\\nThe title characters in Me &amp; Emma are very...</td>\n",
              "      <td>christian-fiction</td>\n",
              "      <td>https://s.gr-assets.com/assets/nophoto/book/11...</td>\n",
              "      <td>16255.0</td>\n",
              "      <td>2.0</td>\n",
              "    </tr>\n",
              "    <tr>\n",
              "      <th>1050716</th>\n",
              "      <td>8138</td>\n",
              "      <td>27864391</td>\n",
              "      <td>David Ebershoff</td>\n",
              "      <td>2000.0</td>\n",
              "      <td>The Danish Girl</td>\n",
              "      <td>The Danish Girl</td>\n",
              "      <td>eng</td>\n",
              "      <td>3.74</td>\n",
              "      <td>8292</td>\n",
              "      <td>https://images.gr-assets.com/books/1451790312m...</td>\n",
              "      <td>https://images.gr-assets.com/books/1451790312s...</td>\n",
              "      <td>\\r\\nWhen seven members of their family were ki...</td>\n",
              "      <td>historical-fiction</td>\n",
              "      <td>https://images.gr-assets.com/books/1451790312l...</td>\n",
              "      <td>4976.0</td>\n",
              "      <td>2.0</td>\n",
              "    </tr>\n",
              "  </tbody>\n",
              "</table>\n",
              "<p>94056 rows × 16 columns</p>\n",
              "</div>"
            ],
            "text/plain": [
              "         book_id  goodreads_book_id  ...  user_id  rating\n",
              "16            27                  1  ...    124.0     2.0\n",
              "217           27                  1  ...   1368.0     2.0\n",
              "314           27                  1  ...   1889.0     2.0\n",
              "362           27                  1  ...   2210.0     2.0\n",
              "417           27                  1  ...   2466.0     1.0\n",
              "...          ...                ...  ...      ...     ...\n",
              "1050117     5441           19747756  ...  14512.0     2.0\n",
              "1050118     5441           19747756  ...  15421.0     2.0\n",
              "1050120     5441           19747756  ...  15536.0     2.0\n",
              "1050126     5441           19747756  ...  16255.0     2.0\n",
              "1050716     8138           27864391  ...   4976.0     2.0\n",
              "\n",
              "[94056 rows x 16 columns]"
            ]
          },
          "metadata": {
            "tags": []
          },
          "execution_count": 70
        }
      ]
    },
    {
      "cell_type": "code",
      "metadata": {
        "id": "hlccKWM_YkUZ",
        "colab": {
          "base_uri": "https://localhost:8080/"
        },
        "outputId": "2956a08b-013f-4c4d-8652-5f96a7beea02"
      },
      "source": [
        "!pip install apyori"
      ],
      "execution_count": 71,
      "outputs": [
        {
          "output_type": "stream",
          "text": [
            "Requirement already satisfied: apyori in /usr/local/lib/python3.6/dist-packages (1.1.2)\n"
          ],
          "name": "stdout"
        }
      ]
    },
    {
      "cell_type": "markdown",
      "metadata": {
        "id": "yJ4Uw388RJHj"
      },
      "source": [
        "##จำนวนRating มากกว่าเท่ากับ 3"
      ]
    },
    {
      "cell_type": "code",
      "metadata": {
        "id": "hZsLZ8zmYwYW"
      },
      "source": [
        "from apyori import apriori"
      ],
      "execution_count": 72,
      "outputs": []
    },
    {
      "cell_type": "code",
      "metadata": {
        "id": "IBfz34w-UkSe",
        "colab": {
          "base_uri": "https://localhost:8080/"
        },
        "outputId": "14273d38-bffc-4ec3-946d-7bdf78d66cec"
      },
      "source": [
        "author= bookratinghigh.groupby('user_id')['authors'].apply(list)\n",
        "author"
      ],
      "execution_count": 73,
      "outputs": [
        {
          "output_type": "execute_result",
          "data": {
            "text/plain": [
              "user_id\n",
              "1.0        [Douglas Adams, Leo Tolstoy, Henry Gifford, Ay...\n",
              "2.0        [J.K. Rowling, Arthur Golden, Dan Brown, Thoma...\n",
              "3.0        [Billy Collins, David    Allen, Harper Lee, Am...\n",
              "4.0        [J.K. Rowling, Mary GrandPré, J.K. Rowling, Ma...\n",
              "6.0                                        [Sarah Macdonald]\n",
              "                                 ...                        \n",
              "22351.0    [J.K. Rowling, Mary GrandPré, J.K. Rowling, Ma...\n",
              "24420.0    [David McCullough, Anita Shreve, Roald Dahl, Q...\n",
              "37076.0    [J.K. Rowling, Mary GrandPré, J.K. Rowling, Ma...\n",
              "41961.0    [Arthur Conan Doyle, Anne Perry, Elizabeth Kos...\n",
              "42208.0    [Paulo Coelho, Alan R. Clarke, John Steinbeck,...\n",
              "Name: authors, Length: 13101, dtype: object"
            ]
          },
          "metadata": {
            "tags": []
          },
          "execution_count": 73
        }
      ]
    },
    {
      "cell_type": "code",
      "metadata": {
        "id": "P0_LFJiNgdqh",
        "colab": {
          "base_uri": "https://localhost:8080/"
        },
        "outputId": "9593bfb5-4403-4bcd-e082-e1f5b229f24b"
      },
      "source": [
        "list(apriori(author, min_support = 0.3 , min_confidence = 0.8))"
      ],
      "execution_count": 74,
      "outputs": [
        {
          "output_type": "execute_result",
          "data": {
            "text/plain": [
              "[RelationRecord(items=frozenset({'J.K. Rowling, Mary GrandPré, Rufus Beck', 'J.K. Rowling, Mary GrandPré'}), support=0.31974658423021146, ordered_statistics=[OrderedStatistic(items_base=frozenset({'J.K. Rowling, Mary GrandPré, Rufus Beck'}), items_add=frozenset({'J.K. Rowling, Mary GrandPré'}), confidence=0.988204765274829, lift=2.214207393512149)])]"
            ]
          },
          "metadata": {
            "tags": []
          },
          "execution_count": 74
        }
      ]
    },
    {
      "cell_type": "markdown",
      "metadata": {
        "id": "tAuml1GFRgLd"
      },
      "source": [
        "คนมักอ่านผลงานของผู้แต่ง J.K. Rowling, Mary GrandPré, Rufus Beck ก่อนแล้วค่อยอ่านผลงานของผู้แต่ง J.K. Rowling, Mary GrandPré คิดเป็นร้อยละ 98.82"
      ]
    },
    {
      "cell_type": "code",
      "metadata": {
        "id": "QHkcWZLA0pu9",
        "colab": {
          "base_uri": "https://localhost:8080/",
          "height": 370
        },
        "outputId": "868fc52c-4c83-4acc-d144-352d2e1b8390"
      },
      "source": [
        "count4 = bookratinghigh.groupby('authors').count().sort_values('user_id',ascending = False)\n",
        "count_authors1 = count4.drop(columns=['book_id','goodreads_book_id','original_publication_year','original_title','title','language_code','average_rating','ratings_count','medium_image_url','small_image_url','desc','genre','image_url','rating'])\n",
        "count_authors1.head(10)"
      ],
      "execution_count": 75,
      "outputs": [
        {
          "output_type": "execute_result",
          "data": {
            "text/html": [
              "<div>\n",
              "<style scoped>\n",
              "    .dataframe tbody tr th:only-of-type {\n",
              "        vertical-align: middle;\n",
              "    }\n",
              "\n",
              "    .dataframe tbody tr th {\n",
              "        vertical-align: top;\n",
              "    }\n",
              "\n",
              "    .dataframe thead th {\n",
              "        text-align: right;\n",
              "    }\n",
              "</style>\n",
              "<table border=\"1\" class=\"dataframe\">\n",
              "  <thead>\n",
              "    <tr style=\"text-align: right;\">\n",
              "      <th></th>\n",
              "      <th>user_id</th>\n",
              "    </tr>\n",
              "    <tr>\n",
              "      <th>authors</th>\n",
              "      <th></th>\n",
              "    </tr>\n",
              "  </thead>\n",
              "  <tbody>\n",
              "    <tr>\n",
              "      <th>J.K. Rowling, Mary GrandPré</th>\n",
              "      <td>25228</td>\n",
              "    </tr>\n",
              "    <tr>\n",
              "      <th>Stephen King</th>\n",
              "      <td>14773</td>\n",
              "    </tr>\n",
              "    <tr>\n",
              "      <th>Stephenie Meyer</th>\n",
              "      <td>11862</td>\n",
              "    </tr>\n",
              "    <tr>\n",
              "      <th>J.R.R. Tolkien</th>\n",
              "      <td>10873</td>\n",
              "    </tr>\n",
              "    <tr>\n",
              "      <th>Dan Brown</th>\n",
              "      <td>8109</td>\n",
              "    </tr>\n",
              "    <tr>\n",
              "      <th>John Grisham</th>\n",
              "      <td>7836</td>\n",
              "    </tr>\n",
              "    <tr>\n",
              "      <th>C.S. Lewis</th>\n",
              "      <td>7550</td>\n",
              "    </tr>\n",
              "    <tr>\n",
              "      <th>Suzanne Collins</th>\n",
              "      <td>7352</td>\n",
              "    </tr>\n",
              "    <tr>\n",
              "      <th>Charlaine Harris</th>\n",
              "      <td>7141</td>\n",
              "    </tr>\n",
              "    <tr>\n",
              "      <th>John Steinbeck</th>\n",
              "      <td>7106</td>\n",
              "    </tr>\n",
              "  </tbody>\n",
              "</table>\n",
              "</div>"
            ],
            "text/plain": [
              "                             user_id\n",
              "authors                             \n",
              "J.K. Rowling, Mary GrandPré    25228\n",
              "Stephen King                   14773\n",
              "Stephenie Meyer                11862\n",
              "J.R.R. Tolkien                 10873\n",
              "Dan Brown                       8109\n",
              "John Grisham                    7836\n",
              "C.S. Lewis                      7550\n",
              "Suzanne Collins                 7352\n",
              "Charlaine Harris                7141\n",
              "John Steinbeck                  7106"
            ]
          },
          "metadata": {
            "tags": []
          },
          "execution_count": 75
        }
      ]
    },
    {
      "cell_type": "markdown",
      "metadata": {
        "id": "XIiDpAIpXMyD"
      },
      "source": [
        "กำหนดให้ authors เป็น transaction โดยดับจาก user_id โดยเรียงลำดับจากมากไปหน่อย"
      ]
    },
    {
      "cell_type": "code",
      "metadata": {
        "id": "QR5Oj0mBhbnc",
        "colab": {
          "base_uri": "https://localhost:8080/"
        },
        "outputId": "3c7f2665-304d-487f-d36a-8b8b8c31bd39"
      },
      "source": [
        "title = bookratinghigh.groupby('user_id')['title'].apply(list)\n",
        "title"
      ],
      "execution_count": 76,
      "outputs": [
        {
          "output_type": "execute_result",
          "data": {
            "text/plain": [
              "user_id\n",
              "1.0        [The Hitchhiker's Guide to the Galaxy (Hitchhi...\n",
              "2.0        [Harry Potter Collection (Harry Potter, #1-6),...\n",
              "3.0        [Sailing Alone Around the Room: New and Select...\n",
              "4.0        [Harry Potter and the Half-Blood Prince (Harry...\n",
              "6.0                          [Holy Cow: An Indian Adventure]\n",
              "                                 ...                        \n",
              "22351.0    [Harry Potter and the Half-Blood Prince (Harry...\n",
              "24420.0    [1776, The Pilot's Wife, Boy: Tales of Childho...\n",
              "37076.0    [Harry Potter and the Half-Blood Prince (Harry...\n",
              "41961.0    [The Hound of the Baskervilles, The Historian,...\n",
              "42208.0    [The Alchemist, Of Mice and Men, Memoirs of a ...\n",
              "Name: title, Length: 13101, dtype: object"
            ]
          },
          "metadata": {
            "tags": []
          },
          "execution_count": 76
        }
      ]
    },
    {
      "cell_type": "code",
      "metadata": {
        "id": "RszKwgDsh-xu",
        "colab": {
          "base_uri": "https://localhost:8080/"
        },
        "outputId": "6162f5f5-94c0-4cc1-9476-0d3389bb24c1"
      },
      "source": [
        "list(apriori(title, min_support = 0.3 , min_confidence = 0.8))"
      ],
      "execution_count": 77,
      "outputs": [
        {
          "output_type": "execute_result",
          "data": {
            "text/plain": [
              "[RelationRecord(items=frozenset({'Harry Potter and the Goblet of Fire (Harry Potter, #4)', 'Harry Potter and the Prisoner of Azkaban (Harry Potter, #3)'}), support=0.30058774139378674, ordered_statistics=[OrderedStatistic(items_base=frozenset({'Harry Potter and the Goblet of Fire (Harry Potter, #4)'}), items_add=frozenset({'Harry Potter and the Prisoner of Azkaban (Harry Potter, #3)'}), confidence=0.9347258485639688, lift=2.888851932539881), OrderedStatistic(items_base=frozenset({'Harry Potter and the Prisoner of Azkaban (Harry Potter, #3)'}), items_add=frozenset({'Harry Potter and the Goblet of Fire (Harry Potter, #4)'}), confidence=0.9289926869544705, lift=2.8888519325398807)])]"
            ]
          },
          "metadata": {
            "tags": []
          },
          "execution_count": 77
        }
      ]
    },
    {
      "cell_type": "markdown",
      "metadata": {
        "id": "MBw0C4TRTtUK"
      },
      "source": [
        "ผู้ที่อ่านหนังสือเรื่อง Harry Potter and the Prisoner of Azkaban (Harry Potter, #3 ก่อนแล้วค่อยมาอ่านเรื่อง Harry Potter and the Goblet of Fire (Harry Potter, #4) คิดเป็นร้อยละ 92.89"
      ]
    },
    {
      "cell_type": "code",
      "metadata": {
        "id": "ih6PcblS034-",
        "colab": {
          "base_uri": "https://localhost:8080/",
          "height": 370
        },
        "outputId": "ed215d4f-4df2-4f5c-ceba-f568f01346d4"
      },
      "source": [
        "count5 = bookratinghigh.groupby('title').count().sort_values('user_id',ascending = False)\n",
        "count_title1 = count5.drop(columns=['book_id','goodreads_book_id','original_publication_year','original_title','authors','language_code','average_rating','ratings_count','medium_image_url','small_image_url','desc','genre','image_url','rating'])\n",
        "count_title1.head(10)"
      ],
      "execution_count": 78,
      "outputs": [
        {
          "output_type": "execute_result",
          "data": {
            "text/html": [
              "<div>\n",
              "<style scoped>\n",
              "    .dataframe tbody tr th:only-of-type {\n",
              "        vertical-align: middle;\n",
              "    }\n",
              "\n",
              "    .dataframe tbody tr th {\n",
              "        vertical-align: top;\n",
              "    }\n",
              "\n",
              "    .dataframe thead th {\n",
              "        text-align: right;\n",
              "    }\n",
              "</style>\n",
              "<table border=\"1\" class=\"dataframe\">\n",
              "  <thead>\n",
              "    <tr style=\"text-align: right;\">\n",
              "      <th></th>\n",
              "      <th>user_id</th>\n",
              "    </tr>\n",
              "    <tr>\n",
              "      <th>title</th>\n",
              "      <th></th>\n",
              "    </tr>\n",
              "  </thead>\n",
              "  <tbody>\n",
              "    <tr>\n",
              "      <th>Harry Potter and the Sorcerer's Stone (Harry Potter, #1)</th>\n",
              "      <td>4700</td>\n",
              "    </tr>\n",
              "    <tr>\n",
              "      <th>To Kill a Mockingbird</th>\n",
              "      <td>4461</td>\n",
              "    </tr>\n",
              "    <tr>\n",
              "      <th>Harry Potter and the Prisoner of Azkaban (Harry Potter, #3)</th>\n",
              "      <td>4239</td>\n",
              "    </tr>\n",
              "    <tr>\n",
              "      <th>Harry Potter and the Goblet of Fire (Harry Potter, #4)</th>\n",
              "      <td>4213</td>\n",
              "    </tr>\n",
              "    <tr>\n",
              "      <th>Harry Potter and the Chamber of Secrets (Harry Potter, #2)</th>\n",
              "      <td>4104</td>\n",
              "    </tr>\n",
              "    <tr>\n",
              "      <th>Harry Potter and the Deathly Hallows (Harry Potter, #7)</th>\n",
              "      <td>4072</td>\n",
              "    </tr>\n",
              "    <tr>\n",
              "      <th>Harry Potter and the Order of the Phoenix (Harry Potter, #5)</th>\n",
              "      <td>4070</td>\n",
              "    </tr>\n",
              "    <tr>\n",
              "      <th>Harry Potter and the Half-Blood Prince (Harry Potter, #6)</th>\n",
              "      <td>4057</td>\n",
              "    </tr>\n",
              "    <tr>\n",
              "      <th>The Da Vinci Code (Robert Langdon, #2)</th>\n",
              "      <td>3759</td>\n",
              "    </tr>\n",
              "    <tr>\n",
              "      <th>The Great Gatsby</th>\n",
              "      <td>3489</td>\n",
              "    </tr>\n",
              "  </tbody>\n",
              "</table>\n",
              "</div>"
            ],
            "text/plain": [
              "                                                    user_id\n",
              "title                                                      \n",
              "Harry Potter and the Sorcerer's Stone (Harry Po...     4700\n",
              "To Kill a Mockingbird                                  4461\n",
              "Harry Potter and the Prisoner of Azkaban (Harry...     4239\n",
              "Harry Potter and the Goblet of Fire (Harry Pott...     4213\n",
              "Harry Potter and the Chamber of Secrets (Harry ...     4104\n",
              "Harry Potter and the Deathly Hallows (Harry Pot...     4072\n",
              "Harry Potter and the Order of the Phoenix (Harr...     4070\n",
              "Harry Potter and the Half-Blood Prince (Harry P...     4057\n",
              "The Da Vinci Code (Robert Langdon, #2)                 3759\n",
              "The Great Gatsby                                       3489"
            ]
          },
          "metadata": {
            "tags": []
          },
          "execution_count": 78
        }
      ]
    },
    {
      "cell_type": "markdown",
      "metadata": {
        "id": "SUZiI8zBX4tW"
      },
      "source": [
        "กำหนดให้ title เป็น transaction โดยดับจาก user_id โดยเรียงลำดับจากมากไปหน่อย"
      ]
    },
    {
      "cell_type": "code",
      "metadata": {
        "id": "aF9h7K7NiVAG",
        "colab": {
          "base_uri": "https://localhost:8080/"
        },
        "outputId": "5f2bfa31-9e30-4ee5-f1b6-d7a719f3c43f"
      },
      "source": [
        "genre = bookratinghigh.groupby('user_id')['genre'].apply(list)\n",
        "genre"
      ],
      "execution_count": 79,
      "outputs": [
        {
          "output_type": "execute_result",
          "data": {
            "text/plain": [
              "user_id\n",
              "1.0        [science-fiction, classics, fiction, classics,...\n",
              "2.0        [fantasy, fiction, fiction, non-fiction, non-f...\n",
              "3.0        [poetry, owned, classics, classics, fiction, p...\n",
              "4.0        [fantasy, fantasy, fantasy, fantasy, fantasy, ...\n",
              "6.0                                                 [travel]\n",
              "                                 ...                        \n",
              "22351.0    [fantasy, fantasy, fantasy, fantasy, fantasy, ...\n",
              "24420.0    [history, fiction, non-fiction, non-fiction, n...\n",
              "37076.0    [fantasy, fantasy, fantasy, fantasy, fantasy, ...\n",
              "41961.0    [classics, fiction, fiction, fiction, fantasy,...\n",
              "42208.0    [fiction, classics, fiction, fiction, classics...\n",
              "Name: genre, Length: 13101, dtype: object"
            ]
          },
          "metadata": {
            "tags": []
          },
          "execution_count": 79
        }
      ]
    },
    {
      "cell_type": "code",
      "metadata": {
        "id": "uEufz8P5kDPF",
        "colab": {
          "base_uri": "https://localhost:8080/"
        },
        "outputId": "08c0768d-87a9-4ac9-b4fd-a2cb4c066be8"
      },
      "source": [
        "list(apriori(genre, min_support = 0.8, min_confidence = 0.8))"
      ],
      "execution_count": 92,
      "outputs": [
        {
          "output_type": "execute_result",
          "data": {
            "text/plain": [
              "[RelationRecord(items=frozenset({'classics'}), support=0.8576444546217846, ordered_statistics=[OrderedStatistic(items_base=frozenset(), items_add=frozenset({'classics'}), confidence=0.8576444546217846, lift=1.0)]),\n",
              " RelationRecord(items=frozenset({'fantasy'}), support=0.8342874589725975, ordered_statistics=[OrderedStatistic(items_base=frozenset(), items_add=frozenset({'fantasy'}), confidence=0.8342874589725975, lift=1.0)]),\n",
              " RelationRecord(items=frozenset({'fiction'}), support=0.9578658117700939, ordered_statistics=[OrderedStatistic(items_base=frozenset(), items_add=frozenset({'fiction'}), confidence=0.9578658117700939, lift=1.0)]),\n",
              " RelationRecord(items=frozenset({'fiction', 'classics'}), support=0.8460422868483322, ordered_statistics=[OrderedStatistic(items_base=frozenset(), items_add=frozenset({'fiction', 'classics'}), confidence=0.8460422868483322, lift=1.0), OrderedStatistic(items_base=frozenset({'classics'}), items_add=frozenset({'fiction'}), confidence=0.9864720541117835, lift=1.0298645613928181), OrderedStatistic(items_base=frozenset({'fiction'}), items_add=frozenset({'classics'}), confidence=0.883257630090047, lift=1.0298645613928181)]),\n",
              " RelationRecord(items=frozenset({'fiction', 'fantasy'}), support=0.8083352415846119, ordered_statistics=[OrderedStatistic(items_base=frozenset(), items_add=frozenset({'fiction', 'fantasy'}), confidence=0.8083352415846119, lift=1.0), OrderedStatistic(items_base=frozenset({'fantasy'}), items_add=frozenset({'fiction'}), confidence=0.968892955169259, lift=1.0115122006273378), OrderedStatistic(items_base=frozenset({'fiction'}), items_add=frozenset({'fantasy'}), confidence=0.8438919435811619, lift=1.0115122006273378)])]"
            ]
          },
          "metadata": {
            "tags": []
          },
          "execution_count": 92
        }
      ]
    },
    {
      "cell_type": "markdown",
      "metadata": {
        "id": "FXNYysAgVVC9"
      },
      "source": [
        "ผู้อ่านมักอ่านหนังสือประเภท fiction ก่อนแล้วค่อยเลือกอ่านหนังสือประเภท classics คิดเป็นร้อยละ 88.32"
      ]
    },
    {
      "cell_type": "code",
      "metadata": {
        "id": "AAWRhD2s1HGn",
        "colab": {
          "base_uri": "https://localhost:8080/",
          "height": 370
        },
        "outputId": "9b7549de-d304-47f8-8ba6-b8e7cf80ce70"
      },
      "source": [
        "count6 = bookratinghigh.groupby('genre').count().sort_values('user_id',ascending = False)\n",
        "count_genre1 = count6.drop(columns=['book_id','goodreads_book_id','original_publication_year','original_title','authors','language_code','average_rating','ratings_count','medium_image_url','small_image_url','desc','title','image_url','rating'])\n",
        "count_genre1.head(10)"
      ],
      "execution_count": 81,
      "outputs": [
        {
          "output_type": "execute_result",
          "data": {
            "text/html": [
              "<div>\n",
              "<style scoped>\n",
              "    .dataframe tbody tr th:only-of-type {\n",
              "        vertical-align: middle;\n",
              "    }\n",
              "\n",
              "    .dataframe tbody tr th {\n",
              "        vertical-align: top;\n",
              "    }\n",
              "\n",
              "    .dataframe thead th {\n",
              "        text-align: right;\n",
              "    }\n",
              "</style>\n",
              "<table border=\"1\" class=\"dataframe\">\n",
              "  <thead>\n",
              "    <tr style=\"text-align: right;\">\n",
              "      <th></th>\n",
              "      <th>user_id</th>\n",
              "    </tr>\n",
              "    <tr>\n",
              "      <th>genre</th>\n",
              "      <th></th>\n",
              "    </tr>\n",
              "  </thead>\n",
              "  <tbody>\n",
              "    <tr>\n",
              "      <th>fiction</th>\n",
              "      <td>205641</td>\n",
              "    </tr>\n",
              "    <tr>\n",
              "      <th>classics</th>\n",
              "      <td>141576</td>\n",
              "    </tr>\n",
              "    <tr>\n",
              "      <th>fantasy</th>\n",
              "      <td>128309</td>\n",
              "    </tr>\n",
              "    <tr>\n",
              "      <th>young-adult</th>\n",
              "      <td>51045</td>\n",
              "    </tr>\n",
              "    <tr>\n",
              "      <th>non-fiction</th>\n",
              "      <td>49630</td>\n",
              "    </tr>\n",
              "    <tr>\n",
              "      <th>historical-fiction</th>\n",
              "      <td>32488</td>\n",
              "    </tr>\n",
              "    <tr>\n",
              "      <th>mystery</th>\n",
              "      <td>30464</td>\n",
              "    </tr>\n",
              "    <tr>\n",
              "      <th>science-fiction</th>\n",
              "      <td>26547</td>\n",
              "    </tr>\n",
              "    <tr>\n",
              "      <th>horror</th>\n",
              "      <td>24566</td>\n",
              "    </tr>\n",
              "    <tr>\n",
              "      <th>childrens</th>\n",
              "      <td>18888</td>\n",
              "    </tr>\n",
              "  </tbody>\n",
              "</table>\n",
              "</div>"
            ],
            "text/plain": [
              "                    user_id\n",
              "genre                      \n",
              "fiction              205641\n",
              "classics             141576\n",
              "fantasy              128309\n",
              "young-adult           51045\n",
              "non-fiction           49630\n",
              "historical-fiction    32488\n",
              "mystery               30464\n",
              "science-fiction       26547\n",
              "horror                24566\n",
              "childrens             18888"
            ]
          },
          "metadata": {
            "tags": []
          },
          "execution_count": 81
        }
      ]
    },
    {
      "cell_type": "markdown",
      "metadata": {
        "id": "dpc5LrbUX-3q"
      },
      "source": [
        "กำหนดให้ genre เป็น transaction โดยดับจาก user_id โดยเรียงลำดับจากมากไปหน่อย"
      ]
    },
    {
      "cell_type": "markdown",
      "metadata": {
        "id": "iHJb1wA0RTrA"
      },
      "source": [
        "##จำนวนRating น้อยกว่า 3"
      ]
    },
    {
      "cell_type": "code",
      "metadata": {
        "id": "ykoUMY8_NwcW",
        "colab": {
          "base_uri": "https://localhost:8080/"
        },
        "outputId": "4693b194-be11-4819-fe08-754472d7983a"
      },
      "source": [
        "author1= bookratinglow.groupby('user_id')['authors'].apply(list)\n",
        "author1"
      ],
      "execution_count": 82,
      "outputs": [
        {
          "output_type": "execute_result",
          "data": {
            "text/plain": [
              "user_id\n",
              "1.0        [Gabriel García Márquez, Gregory Rabassa, Ayn ...\n",
              "3.0        [Ayn Rand, Leonard Peikoff, Neal Stephenson, J...\n",
              "4.0        [J.R.R. Tolkien, Gabriel García Márquez, Grego...\n",
              "7.0        [Frank Herbert, Robert A. Heinlein, Stephen Ki...\n",
              "8.0        [Barbara Ehrenreich, Jane Austen, Jane Austen,...\n",
              "                                 ...                        \n",
              "16285.0    [Bernhard Schlink, Carol Brown Janeway, Muriel...\n",
              "16287.0    [Douglas Adams, Stephen Hawking, Leonard Mlodi...\n",
              "16290.0    [Emily Brontë, Richard J. Dunn, George Orwell,...\n",
              "22351.0        [Victor Hugo, Lee Fahnestock, Norman MacAfee]\n",
              "37076.0      [Kim Edwards, Stephenie Meyer, Stephenie Meyer]\n",
              "Name: authors, Length: 11110, dtype: object"
            ]
          },
          "metadata": {
            "tags": []
          },
          "execution_count": 82
        }
      ]
    },
    {
      "cell_type": "code",
      "metadata": {
        "id": "hoHP4mBbN7LH",
        "colab": {
          "base_uri": "https://localhost:8080/"
        },
        "outputId": "ebdbf21a-0d91-4e87-d9dc-6df5f4597e95"
      },
      "source": [
        "list(apriori(author1, min_support = 0.1 , min_confidence = 0.07))"
      ],
      "execution_count": 83,
      "outputs": [
        {
          "output_type": "execute_result",
          "data": {
            "text/plain": [
              "[RelationRecord(items=frozenset({'Dan Brown'}), support=0.1548154815481548, ordered_statistics=[OrderedStatistic(items_base=frozenset(), items_add=frozenset({'Dan Brown'}), confidence=0.1548154815481548, lift=1.0)]),\n",
              " RelationRecord(items=frozenset({'Stephenie Meyer'}), support=0.16255625562556256, ordered_statistics=[OrderedStatistic(items_base=frozenset(), items_add=frozenset({'Stephenie Meyer'}), confidence=0.16255625562556256, lift=1.0)])]"
            ]
          },
          "metadata": {
            "tags": []
          },
          "execution_count": 83
        }
      ]
    },
    {
      "cell_type": "code",
      "metadata": {
        "colab": {
          "base_uri": "https://localhost:8080/",
          "height": 370
        },
        "id": "9lgKFY2MQk6V",
        "outputId": "634ea97b-7916-429d-9971-4e8f2f57cabf"
      },
      "source": [
        "count1 = bookratinglow.groupby('authors').count().sort_values('user_id',ascending = False)\n",
        "count_authors = count1.drop(columns=['book_id','goodreads_book_id','original_publication_year','original_title','title','language_code','average_rating','ratings_count','medium_image_url','small_image_url','desc','genre','image_url','rating'])\n",
        "count_authors.head(10)"
      ],
      "execution_count": 84,
      "outputs": [
        {
          "output_type": "execute_result",
          "data": {
            "text/html": [
              "<div>\n",
              "<style scoped>\n",
              "    .dataframe tbody tr th:only-of-type {\n",
              "        vertical-align: middle;\n",
              "    }\n",
              "\n",
              "    .dataframe tbody tr th {\n",
              "        vertical-align: top;\n",
              "    }\n",
              "\n",
              "    .dataframe thead th {\n",
              "        text-align: right;\n",
              "    }\n",
              "</style>\n",
              "<table border=\"1\" class=\"dataframe\">\n",
              "  <thead>\n",
              "    <tr style=\"text-align: right;\">\n",
              "      <th></th>\n",
              "      <th>user_id</th>\n",
              "    </tr>\n",
              "    <tr>\n",
              "      <th>authors</th>\n",
              "      <th></th>\n",
              "    </tr>\n",
              "  </thead>\n",
              "  <tbody>\n",
              "    <tr>\n",
              "      <th>Stephenie Meyer</th>\n",
              "      <td>3254</td>\n",
              "    </tr>\n",
              "    <tr>\n",
              "      <th>Dan Brown</th>\n",
              "      <td>2133</td>\n",
              "    </tr>\n",
              "    <tr>\n",
              "      <th>Stephen King</th>\n",
              "      <td>1975</td>\n",
              "    </tr>\n",
              "    <tr>\n",
              "      <th>John Grisham</th>\n",
              "      <td>1066</td>\n",
              "    </tr>\n",
              "    <tr>\n",
              "      <th>Nicholas Sparks</th>\n",
              "      <td>982</td>\n",
              "    </tr>\n",
              "    <tr>\n",
              "      <th>J.K. Rowling, Mary GrandPré</th>\n",
              "      <td>856</td>\n",
              "    </tr>\n",
              "    <tr>\n",
              "      <th>Anne Rice</th>\n",
              "      <td>838</td>\n",
              "    </tr>\n",
              "    <tr>\n",
              "      <th>John Steinbeck</th>\n",
              "      <td>838</td>\n",
              "    </tr>\n",
              "    <tr>\n",
              "      <th>Michael Crichton</th>\n",
              "      <td>807</td>\n",
              "    </tr>\n",
              "    <tr>\n",
              "      <th>Jodi Picoult</th>\n",
              "      <td>758</td>\n",
              "    </tr>\n",
              "  </tbody>\n",
              "</table>\n",
              "</div>"
            ],
            "text/plain": [
              "                             user_id\n",
              "authors                             \n",
              "Stephenie Meyer                 3254\n",
              "Dan Brown                       2133\n",
              "Stephen King                    1975\n",
              "John Grisham                    1066\n",
              "Nicholas Sparks                  982\n",
              "J.K. Rowling, Mary GrandPré      856\n",
              "Anne Rice                        838\n",
              "John Steinbeck                   838\n",
              "Michael Crichton                 807\n",
              "Jodi Picoult                     758"
            ]
          },
          "metadata": {
            "tags": []
          },
          "execution_count": 84
        }
      ]
    },
    {
      "cell_type": "markdown",
      "metadata": {
        "id": "O7uzTIOyYDXg"
      },
      "source": [
        "กำหนดให้ authors เป็น transaction โดยดับจาก user_id โดยเรียงลำดับจากมากไปหน่อย"
      ]
    },
    {
      "cell_type": "code",
      "metadata": {
        "id": "fxfH4Y2vOM2y",
        "colab": {
          "base_uri": "https://localhost:8080/"
        },
        "outputId": "948f140b-10b6-430e-c32c-ca52cbfafdde"
      },
      "source": [
        "title1 = bookratinglow.groupby('user_id')['title'].apply(list)\n",
        "title1"
      ],
      "execution_count": 85,
      "outputs": [
        {
          "output_type": "execute_result",
          "data": {
            "text/plain": [
              "user_id\n",
              "1.0        [One Hundred Years of Solitude, Atlas Shrugged...\n",
              "3.0        [Atlas Shrugged, Cryptonomicon, Of Mice and Me...\n",
              "4.0        [The Fellowship of the Ring (The Lord of the R...\n",
              "7.0        [Heretics of Dune (Dune Chronicles #5), Job: A...\n",
              "8.0        [Nickel and Dimed: On (Not) Getting By in Amer...\n",
              "                                 ...                        \n",
              "16285.0    [The Reader, The Elegance of the Hedgehog, Lit...\n",
              "16287.0    [The Hitchhiker's Guide to the Galaxy (Hitchhi...\n",
              "16290.0    [Wuthering Heights, Animal Farm, Lord of the F...\n",
              "22351.0                                     [Les Misérables]\n",
              "37076.0    [The Memory Keeper's Daughter, Eclipse (Twilig...\n",
              "Name: title, Length: 11110, dtype: object"
            ]
          },
          "metadata": {
            "tags": []
          },
          "execution_count": 85
        }
      ]
    },
    {
      "cell_type": "code",
      "metadata": {
        "id": "RU-vD9kxOZGV",
        "colab": {
          "base_uri": "https://localhost:8080/"
        },
        "outputId": "aa2da23f-0e1c-4cfe-dc4c-caf87aed4b53"
      },
      "source": [
        "list(apriori(title1, min_support = 0.09 , min_confidence = 0.09))"
      ],
      "execution_count": 86,
      "outputs": [
        {
          "output_type": "execute_result",
          "data": {
            "text/plain": [
              "[RelationRecord(items=frozenset({'Twilight (Twilight, #1)'}), support=0.09081908190819082, ordered_statistics=[OrderedStatistic(items_base=frozenset(), items_add=frozenset({'Twilight (Twilight, #1)'}), confidence=0.09081908190819082, lift=1.0)])]"
            ]
          },
          "metadata": {
            "tags": []
          },
          "execution_count": 86
        }
      ]
    },
    {
      "cell_type": "code",
      "metadata": {
        "colab": {
          "base_uri": "https://localhost:8080/",
          "height": 370
        },
        "id": "Y9D71QoyQ0EH",
        "outputId": "3fded37c-2c7b-42e3-de99-d91457e5ad7d"
      },
      "source": [
        "count2 = bookratinglow.groupby('title').count().sort_values('user_id',ascending = False)\n",
        "count_title = count2.drop(columns=['book_id','goodreads_book_id','original_publication_year','original_title','authors','language_code','average_rating','ratings_count','medium_image_url','small_image_url','desc','genre','image_url','rating'])\n",
        "count_title.head(10)"
      ],
      "execution_count": 87,
      "outputs": [
        {
          "output_type": "execute_result",
          "data": {
            "text/html": [
              "<div>\n",
              "<style scoped>\n",
              "    .dataframe tbody tr th:only-of-type {\n",
              "        vertical-align: middle;\n",
              "    }\n",
              "\n",
              "    .dataframe tbody tr th {\n",
              "        vertical-align: top;\n",
              "    }\n",
              "\n",
              "    .dataframe thead th {\n",
              "        text-align: right;\n",
              "    }\n",
              "</style>\n",
              "<table border=\"1\" class=\"dataframe\">\n",
              "  <thead>\n",
              "    <tr style=\"text-align: right;\">\n",
              "      <th></th>\n",
              "      <th>user_id</th>\n",
              "    </tr>\n",
              "    <tr>\n",
              "      <th>title</th>\n",
              "      <th></th>\n",
              "    </tr>\n",
              "  </thead>\n",
              "  <tbody>\n",
              "    <tr>\n",
              "      <th>Twilight (Twilight, #1)</th>\n",
              "      <td>1009</td>\n",
              "    </tr>\n",
              "    <tr>\n",
              "      <th>The Da Vinci Code (Robert Langdon, #2)</th>\n",
              "      <td>966</td>\n",
              "    </tr>\n",
              "    <tr>\n",
              "      <th>New Moon (Twilight, #2)</th>\n",
              "      <td>715</td>\n",
              "    </tr>\n",
              "    <tr>\n",
              "      <th>Breaking Dawn (Twilight, #4)</th>\n",
              "      <td>661</td>\n",
              "    </tr>\n",
              "    <tr>\n",
              "      <th>Eat, Pray, Love</th>\n",
              "      <td>596</td>\n",
              "    </tr>\n",
              "    <tr>\n",
              "      <th>The Catcher in the Rye</th>\n",
              "      <td>586</td>\n",
              "    </tr>\n",
              "    <tr>\n",
              "      <th>Eclipse (Twilight, #3)</th>\n",
              "      <td>570</td>\n",
              "    </tr>\n",
              "    <tr>\n",
              "      <th>Angels &amp; Demons  (Robert Langdon, #1)</th>\n",
              "      <td>512</td>\n",
              "    </tr>\n",
              "    <tr>\n",
              "      <th>The Scarlet Letter</th>\n",
              "      <td>494</td>\n",
              "    </tr>\n",
              "    <tr>\n",
              "      <th>The Great Gatsby</th>\n",
              "      <td>491</td>\n",
              "    </tr>\n",
              "  </tbody>\n",
              "</table>\n",
              "</div>"
            ],
            "text/plain": [
              "                                        user_id\n",
              "title                                          \n",
              "Twilight (Twilight, #1)                    1009\n",
              "The Da Vinci Code (Robert Langdon, #2)      966\n",
              "New Moon (Twilight, #2)                     715\n",
              "Breaking Dawn (Twilight, #4)                661\n",
              "Eat, Pray, Love                             596\n",
              "The Catcher in the Rye                      586\n",
              "Eclipse (Twilight, #3)                      570\n",
              "Angels & Demons  (Robert Langdon, #1)       512\n",
              "The Scarlet Letter                          494\n",
              "The Great Gatsby                            491"
            ]
          },
          "metadata": {
            "tags": []
          },
          "execution_count": 87
        }
      ]
    },
    {
      "cell_type": "markdown",
      "metadata": {
        "id": "WClUKwAwYFI4"
      },
      "source": [
        "กำหนดให้ title เป็น transaction โดยดับจาก user_id โดยเรียงลำดับจากมากไปหน่อย"
      ]
    },
    {
      "cell_type": "code",
      "metadata": {
        "id": "7D9EK93GPLqF",
        "colab": {
          "base_uri": "https://localhost:8080/"
        },
        "outputId": "9ff04912-1988-4456-de56-9ffb24fae596"
      },
      "source": [
        "genre1= bookratinglow.groupby('user_id')['genre'].apply(list)\n",
        "genre1"
      ],
      "execution_count": 88,
      "outputs": [
        {
          "output_type": "execute_result",
          "data": {
            "text/plain": [
              "user_id\n",
              "1.0        [classics, fiction, fiction, science-fiction, ...\n",
              "3.0        [fiction, fiction, classics, classics, romance...\n",
              "4.0        [fantasy, classics, fiction, fiction, fiction,...\n",
              "7.0        [science-fiction, science-fiction, fantasy, fa...\n",
              "8.0        [non-fiction, classics, classics, classics, fi...\n",
              "                                 ...                        \n",
              "16285.0               [fiction, fiction, historical-fiction]\n",
              "16287.0    [science-fiction, non-fiction, non-fiction, ho...\n",
              "16290.0    [classics, classics, classics, fiction, fictio...\n",
              "22351.0                                           [classics]\n",
              "37076.0                      [fiction, young-adult, fantasy]\n",
              "Name: genre, Length: 11110, dtype: object"
            ]
          },
          "metadata": {
            "tags": []
          },
          "execution_count": 88
        }
      ]
    },
    {
      "cell_type": "code",
      "metadata": {
        "id": "lcnPIWYiPXnX",
        "colab": {
          "base_uri": "https://localhost:8080/"
        },
        "outputId": "0e876fd0-6c02-4aa0-cade-96ccbfd13461"
      },
      "source": [
        "list(apriori(genre1, min_support = 0.3, min_confidence = 0.5))"
      ],
      "execution_count": 89,
      "outputs": [
        {
          "output_type": "execute_result",
          "data": {
            "text/plain": [
              "[RelationRecord(items=frozenset({'fiction'}), support=0.7306930693069307, ordered_statistics=[OrderedStatistic(items_base=frozenset(), items_add=frozenset({'fiction'}), confidence=0.7306930693069307, lift=1.0)]),\n",
              " RelationRecord(items=frozenset({'fiction', 'classics'}), support=0.38586858685868586, ordered_statistics=[OrderedStatistic(items_base=frozenset({'classics'}), items_add=frozenset({'fiction'}), confidence=0.7863169479090242, lift=1.076124820309098), OrderedStatistic(items_base=frozenset({'fiction'}), items_add=frozenset({'classics'}), confidence=0.5280857354028086, lift=1.076124820309098)])]"
            ]
          },
          "metadata": {
            "tags": []
          },
          "execution_count": 89
        }
      ]
    },
    {
      "cell_type": "code",
      "metadata": {
        "colab": {
          "base_uri": "https://localhost:8080/",
          "height": 370
        },
        "id": "2DEEMyVGQ9WC",
        "outputId": "752bb3bb-ce19-4196-c233-173bc5981e77"
      },
      "source": [
        "count3 = bookratinghigh.groupby('genre').count().sort_values('user_id',ascending = False)\n",
        "count_genre = count3.drop(columns=['book_id','goodreads_book_id','original_publication_year','original_title','authors','language_code','average_rating','ratings_count','medium_image_url','small_image_url','desc','title','image_url','rating'])\n",
        "count_genre.head(10)"
      ],
      "execution_count": 90,
      "outputs": [
        {
          "output_type": "execute_result",
          "data": {
            "text/html": [
              "<div>\n",
              "<style scoped>\n",
              "    .dataframe tbody tr th:only-of-type {\n",
              "        vertical-align: middle;\n",
              "    }\n",
              "\n",
              "    .dataframe tbody tr th {\n",
              "        vertical-align: top;\n",
              "    }\n",
              "\n",
              "    .dataframe thead th {\n",
              "        text-align: right;\n",
              "    }\n",
              "</style>\n",
              "<table border=\"1\" class=\"dataframe\">\n",
              "  <thead>\n",
              "    <tr style=\"text-align: right;\">\n",
              "      <th></th>\n",
              "      <th>user_id</th>\n",
              "    </tr>\n",
              "    <tr>\n",
              "      <th>genre</th>\n",
              "      <th></th>\n",
              "    </tr>\n",
              "  </thead>\n",
              "  <tbody>\n",
              "    <tr>\n",
              "      <th>fiction</th>\n",
              "      <td>205641</td>\n",
              "    </tr>\n",
              "    <tr>\n",
              "      <th>classics</th>\n",
              "      <td>141576</td>\n",
              "    </tr>\n",
              "    <tr>\n",
              "      <th>fantasy</th>\n",
              "      <td>128309</td>\n",
              "    </tr>\n",
              "    <tr>\n",
              "      <th>young-adult</th>\n",
              "      <td>51045</td>\n",
              "    </tr>\n",
              "    <tr>\n",
              "      <th>non-fiction</th>\n",
              "      <td>49630</td>\n",
              "    </tr>\n",
              "    <tr>\n",
              "      <th>historical-fiction</th>\n",
              "      <td>32488</td>\n",
              "    </tr>\n",
              "    <tr>\n",
              "      <th>mystery</th>\n",
              "      <td>30464</td>\n",
              "    </tr>\n",
              "    <tr>\n",
              "      <th>science-fiction</th>\n",
              "      <td>26547</td>\n",
              "    </tr>\n",
              "    <tr>\n",
              "      <th>horror</th>\n",
              "      <td>24566</td>\n",
              "    </tr>\n",
              "    <tr>\n",
              "      <th>childrens</th>\n",
              "      <td>18888</td>\n",
              "    </tr>\n",
              "  </tbody>\n",
              "</table>\n",
              "</div>"
            ],
            "text/plain": [
              "                    user_id\n",
              "genre                      \n",
              "fiction              205641\n",
              "classics             141576\n",
              "fantasy              128309\n",
              "young-adult           51045\n",
              "non-fiction           49630\n",
              "historical-fiction    32488\n",
              "mystery               30464\n",
              "science-fiction       26547\n",
              "horror                24566\n",
              "childrens             18888"
            ]
          },
          "metadata": {
            "tags": []
          },
          "execution_count": 90
        }
      ]
    },
    {
      "cell_type": "markdown",
      "metadata": {
        "id": "LymrLVRvYKy2"
      },
      "source": [
        "กำหนดให้ genre เป็น transaction โดยดับจาก user_id โดยเรียงลำดับจากมากไปหน่อย"
      ]
    },
    {
      "cell_type": "code",
      "metadata": {
        "id": "tfyQpPdLYSaI"
      },
      "source": [
        ""
      ],
      "execution_count": null,
      "outputs": []
    }
  ]
}
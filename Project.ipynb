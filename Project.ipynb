{
  "nbformat": 4,
  "nbformat_minor": 0,
  "metadata": {
    "colab": {
      "name": "Untitled9.ipynb",
      "provenance": [],
      "authorship_tag": "ABX9TyNhO/jICJ5XSLKhStLOS+lH",
      "include_colab_link": true
    },
    "kernelspec": {
      "name": "python3",
      "display_name": "Python 3"
    }
  },
  "cells": [
    {
      "cell_type": "markdown",
      "metadata": {
        "id": "view-in-github",
        "colab_type": "text"
      },
      "source": [
        "<a href=\"https://colab.research.google.com/github/Toeylik/kku_data_mining/blob/master/Project.ipynb\" target=\"_parent\"><img src=\"https://colab.research.google.com/assets/colab-badge.svg\" alt=\"Open In Colab\"/></a>"
      ]
    },
    {
      "cell_type": "markdown",
      "metadata": {
        "id": "dH8NzFVBMFfD"
      },
      "source": [
        "## Project หาค่าความสัมพันธ์ของผู้อ่านหนังสือ"
      ]
    },
    {
      "cell_type": "markdown",
      "metadata": {
        "id": "NEDXH3XJMRqN"
      },
      "source": [
        "# จัดทำโดย\n",
        "\n",
        "นายธนกฤต หินทอง 613020239-0\n",
        "\n",
        "นายลิขสิทธิ์ เกษวงษา 613020244-7"
      ]
    },
    {
      "cell_type": "code",
      "metadata": {
        "id": "2oL06DOlNBJ9"
      },
      "source": [
        "import numpy as np\n",
        "import pandas as pd\n",
        "from matplotlib import  pyplot as plt"
      ],
      "execution_count": 1,
      "outputs": []
    },
    {
      "cell_type": "markdown",
      "metadata": {
        "id": "SK-eExyoJxIt"
      },
      "source": [
        "เรียกไฟล์ที่อยู่ใน Google Drive มาลงใน Google Colab"
      ]
    },
    {
      "cell_type": "code",
      "metadata": {
        "id": "yz19e_O6NIw6",
        "colab": {
          "base_uri": "https://localhost:8080/"
        },
        "outputId": "39a7d643-47c1-41d8-9cd2-72bf40733c24"
      },
      "source": [
        "from google.colab import drive\n",
        "drive.mount('/content/drive')\n",
        "path = '/content/drive/My Drive/DWDM_material'"
      ],
      "execution_count": 2,
      "outputs": [
        {
          "output_type": "stream",
          "text": [
            "Mounted at /content/drive\n"
          ],
          "name": "stdout"
        }
      ]
    },
    {
      "cell_type": "markdown",
      "metadata": {
        "id": "DwA289DJKIzf"
      },
      "source": [
        "เรียกตารางที่ชื่อ newbooks จาก Google Drive โดยให้ชื่อว่า nb"
      ]
    },
    {
      "cell_type": "code",
      "metadata": {
        "id": "LnKYHHOzNMsd",
        "colab": {
          "base_uri": "https://localhost:8080/",
          "height": 1000
        },
        "outputId": "e39aecf6-11d1-4c0f-9e83-3c5298beb5cd"
      },
      "source": [
        "nb = pd.read_csv('/content/drive/My Drive/DWDM_material/newbooks.csv')\n",
        "nb"
      ],
      "execution_count": 3,
      "outputs": [
        {
          "output_type": "execute_result",
          "data": {
            "text/html": [
              "<div>\n",
              "<style scoped>\n",
              "    .dataframe tbody tr th:only-of-type {\n",
              "        vertical-align: middle;\n",
              "    }\n",
              "\n",
              "    .dataframe tbody tr th {\n",
              "        vertical-align: top;\n",
              "    }\n",
              "\n",
              "    .dataframe thead th {\n",
              "        text-align: right;\n",
              "    }\n",
              "</style>\n",
              "<table border=\"1\" class=\"dataframe\">\n",
              "  <thead>\n",
              "    <tr style=\"text-align: right;\">\n",
              "      <th></th>\n",
              "      <th>book_id</th>\n",
              "      <th>goodreads_book_id</th>\n",
              "      <th>authors</th>\n",
              "      <th>original_publication_year</th>\n",
              "      <th>original_title</th>\n",
              "      <th>title</th>\n",
              "      <th>language_code</th>\n",
              "      <th>average_rating</th>\n",
              "      <th>ratings_count</th>\n",
              "      <th>medium_image_url</th>\n",
              "      <th>small_image_url</th>\n",
              "      <th>desc</th>\n",
              "      <th>genre</th>\n",
              "      <th>image_url</th>\n",
              "    </tr>\n",
              "  </thead>\n",
              "  <tbody>\n",
              "    <tr>\n",
              "      <th>0</th>\n",
              "      <td>27</td>\n",
              "      <td>1</td>\n",
              "      <td>J.K. Rowling, Mary GrandPré</td>\n",
              "      <td>2005.0</td>\n",
              "      <td>Harry Potter and the Half-Blood Prince</td>\n",
              "      <td>Harry Potter and the Half-Blood Prince (Harry ...</td>\n",
              "      <td>eng</td>\n",
              "      <td>4.54</td>\n",
              "      <td>1678823</td>\n",
              "      <td>https://images.gr-assets.com/books/1361039191m...</td>\n",
              "      <td>https://images.gr-assets.com/books/1361039191s...</td>\n",
              "      <td>\\r\\nWhen Harry Potter and the Half-Blood Princ...</td>\n",
              "      <td>fantasy</td>\n",
              "      <td>https://images.gr-assets.com/books/1361039191l...</td>\n",
              "    </tr>\n",
              "    <tr>\n",
              "      <th>1</th>\n",
              "      <td>21</td>\n",
              "      <td>2</td>\n",
              "      <td>J.K. Rowling, Mary GrandPré</td>\n",
              "      <td>2003.0</td>\n",
              "      <td>Harry Potter and the Order of the Phoenix</td>\n",
              "      <td>Harry Potter and the Order of the Phoenix (Har...</td>\n",
              "      <td>eng</td>\n",
              "      <td>4.46</td>\n",
              "      <td>1735368</td>\n",
              "      <td>https://images.gr-assets.com/books/1387141547m...</td>\n",
              "      <td>https://images.gr-assets.com/books/1387141547s...</td>\n",
              "      <td>\\r\\nThere is a door at the end of a silent cor...</td>\n",
              "      <td>fantasy</td>\n",
              "      <td>https://images.gr-assets.com/books/1387141547l...</td>\n",
              "    </tr>\n",
              "    <tr>\n",
              "      <th>2</th>\n",
              "      <td>2</td>\n",
              "      <td>3</td>\n",
              "      <td>J.K. Rowling, Mary GrandPré</td>\n",
              "      <td>1997.0</td>\n",
              "      <td>Harry Potter and the Philosopher's Stone</td>\n",
              "      <td>Harry Potter and the Sorcerer's Stone (Harry P...</td>\n",
              "      <td>eng</td>\n",
              "      <td>4.44</td>\n",
              "      <td>4602479</td>\n",
              "      <td>https://images.gr-assets.com/books/1474154022m...</td>\n",
              "      <td>https://images.gr-assets.com/books/1474154022s...</td>\n",
              "      <td>\\r\\nAlternate cover edition of ISBN 9780439554...</td>\n",
              "      <td>fantasy</td>\n",
              "      <td>https://images.gr-assets.com/books/1474154022l...</td>\n",
              "    </tr>\n",
              "    <tr>\n",
              "      <th>3</th>\n",
              "      <td>18</td>\n",
              "      <td>5</td>\n",
              "      <td>J.K. Rowling, Mary GrandPré, Rufus Beck</td>\n",
              "      <td>1999.0</td>\n",
              "      <td>Harry Potter and the Prisoner of Azkaban</td>\n",
              "      <td>Harry Potter and the Prisoner of Azkaban (Harr...</td>\n",
              "      <td>eng</td>\n",
              "      <td>4.53</td>\n",
              "      <td>1832823</td>\n",
              "      <td>https://images.gr-assets.com/books/1499277281m...</td>\n",
              "      <td>https://images.gr-assets.com/books/1499277281s...</td>\n",
              "      <td>\\r\\nHarry Potter's third year at Hogwarts is f...</td>\n",
              "      <td>fantasy</td>\n",
              "      <td>https://images.gr-assets.com/books/1499277281l...</td>\n",
              "    </tr>\n",
              "    <tr>\n",
              "      <th>4</th>\n",
              "      <td>24</td>\n",
              "      <td>6</td>\n",
              "      <td>J.K. Rowling, Mary GrandPré</td>\n",
              "      <td>2000.0</td>\n",
              "      <td>Harry Potter and the Goblet of Fire</td>\n",
              "      <td>Harry Potter and the Goblet of Fire (Harry Pot...</td>\n",
              "      <td>eng</td>\n",
              "      <td>4.53</td>\n",
              "      <td>1753043</td>\n",
              "      <td>https://images.gr-assets.com/books/1361482611m...</td>\n",
              "      <td>https://images.gr-assets.com/books/1361482611s...</td>\n",
              "      <td>\\r\\nHarry Potter is midway through his trainin...</td>\n",
              "      <td>fantasy</td>\n",
              "      <td>https://images.gr-assets.com/books/1361482611l...</td>\n",
              "    </tr>\n",
              "    <tr>\n",
              "      <th>...</th>\n",
              "      <td>...</td>\n",
              "      <td>...</td>\n",
              "      <td>...</td>\n",
              "      <td>...</td>\n",
              "      <td>...</td>\n",
              "      <td>...</td>\n",
              "      <td>...</td>\n",
              "      <td>...</td>\n",
              "      <td>...</td>\n",
              "      <td>...</td>\n",
              "      <td>...</td>\n",
              "      <td>...</td>\n",
              "      <td>...</td>\n",
              "      <td>...</td>\n",
              "    </tr>\n",
              "    <tr>\n",
              "      <th>9995</th>\n",
              "      <td>7523</td>\n",
              "      <td>31538647</td>\n",
              "      <td>J.K. Rowling</td>\n",
              "      <td>2016.0</td>\n",
              "      <td>Hogwarts: An Incomplete and Unreliable Guide</td>\n",
              "      <td>Hogwarts: An Incomplete and Unreliable Guide (...</td>\n",
              "      <td>eng</td>\n",
              "      <td>4.21</td>\n",
              "      <td>14977</td>\n",
              "      <td>https://images.gr-assets.com/books/1502156557m...</td>\n",
              "      <td>https://images.gr-assets.com/books/1502156557s...</td>\n",
              "      <td>\\r\\nA major new novel from one of science fict...</td>\n",
              "      <td>fantasy</td>\n",
              "      <td>https://images.gr-assets.com/books/1502156557l...</td>\n",
              "    </tr>\n",
              "    <tr>\n",
              "      <th>9996</th>\n",
              "      <td>4594</td>\n",
              "      <td>31845516</td>\n",
              "      <td>Glennon Doyle Melton</td>\n",
              "      <td>2016.0</td>\n",
              "      <td>Love Warrior</td>\n",
              "      <td>Love Warrior</td>\n",
              "      <td>en-US</td>\n",
              "      <td>4.10</td>\n",
              "      <td>20094</td>\n",
              "      <td>https://images.gr-assets.com/books/1473164102m...</td>\n",
              "      <td>https://images.gr-assets.com/books/1473164102s...</td>\n",
              "      <td>\\r\\nHeadstrong and beautiful, the young housem...</td>\n",
              "      <td>memoir</td>\n",
              "      <td>https://images.gr-assets.com/books/1473164102l...</td>\n",
              "    </tr>\n",
              "    <tr>\n",
              "      <th>9997</th>\n",
              "      <td>9569</td>\n",
              "      <td>32075671</td>\n",
              "      <td>Angie Thomas</td>\n",
              "      <td>2017.0</td>\n",
              "      <td>The Hate U Give</td>\n",
              "      <td>The Hate U Give</td>\n",
              "      <td>eng</td>\n",
              "      <td>4.62</td>\n",
              "      <td>32610</td>\n",
              "      <td>https://images.gr-assets.com/books/1476284759m...</td>\n",
              "      <td>https://images.gr-assets.com/books/1476284759s...</td>\n",
              "      <td>\\r\\nThe life of Spokane Indian Thomas Builds-t...</td>\n",
              "      <td>young-adult</td>\n",
              "      <td>https://images.gr-assets.com/books/1476284759l...</td>\n",
              "    </tr>\n",
              "    <tr>\n",
              "      <th>9998</th>\n",
              "      <td>9580</td>\n",
              "      <td>32848471</td>\n",
              "      <td>Vi Keeland</td>\n",
              "      <td>2017.0</td>\n",
              "      <td>NaN</td>\n",
              "      <td>Egomaniac</td>\n",
              "      <td>NaN</td>\n",
              "      <td>4.34</td>\n",
              "      <td>11310</td>\n",
              "      <td>https://images.gr-assets.com/books/1479387807m...</td>\n",
              "      <td>https://images.gr-assets.com/books/1479387807s...</td>\n",
              "      <td>\\r\\nThe life of Spokane Indian Thomas Builds-t...</td>\n",
              "      <td>funny</td>\n",
              "      <td>https://images.gr-assets.com/books/1479387807l...</td>\n",
              "    </tr>\n",
              "    <tr>\n",
              "      <th>9999</th>\n",
              "      <td>8892</td>\n",
              "      <td>33288638</td>\n",
              "      <td>Mariana Zapata</td>\n",
              "      <td>2016.0</td>\n",
              "      <td>Wait for It</td>\n",
              "      <td>Wait for It</td>\n",
              "      <td>eng</td>\n",
              "      <td>4.22</td>\n",
              "      <td>18371</td>\n",
              "      <td>https://s.gr-assets.com/assets/nophoto/book/11...</td>\n",
              "      <td>https://s.gr-assets.com/assets/nophoto/book/50...</td>\n",
              "      <td>\\r\\nIt was first serialised in the Merry's Mus...</td>\n",
              "      <td>romance</td>\n",
              "      <td>https://s.gr-assets.com/assets/nophoto/book/11...</td>\n",
              "    </tr>\n",
              "  </tbody>\n",
              "</table>\n",
              "<p>10000 rows × 14 columns</p>\n",
              "</div>"
            ],
            "text/plain": [
              "      book_id  ...                                          image_url\n",
              "0          27  ...  https://images.gr-assets.com/books/1361039191l...\n",
              "1          21  ...  https://images.gr-assets.com/books/1387141547l...\n",
              "2           2  ...  https://images.gr-assets.com/books/1474154022l...\n",
              "3          18  ...  https://images.gr-assets.com/books/1499277281l...\n",
              "4          24  ...  https://images.gr-assets.com/books/1361482611l...\n",
              "...       ...  ...                                                ...\n",
              "9995     7523  ...  https://images.gr-assets.com/books/1502156557l...\n",
              "9996     4594  ...  https://images.gr-assets.com/books/1473164102l...\n",
              "9997     9569  ...  https://images.gr-assets.com/books/1476284759l...\n",
              "9998     9580  ...  https://images.gr-assets.com/books/1479387807l...\n",
              "9999     8892  ...  https://s.gr-assets.com/assets/nophoto/book/11...\n",
              "\n",
              "[10000 rows x 14 columns]"
            ]
          },
          "metadata": {
            "tags": []
          },
          "execution_count": 3
        }
      ]
    },
    {
      "cell_type": "markdown",
      "metadata": {
        "id": "hBKePlCzKXBL"
      },
      "source": [
        "เช็คค่า Null ในตาราง nb"
      ]
    },
    {
      "cell_type": "code",
      "metadata": {
        "id": "I-mcYWTQWcvb",
        "colab": {
          "base_uri": "https://localhost:8080/"
        },
        "outputId": "85b314cb-e9d7-43fc-be0b-fa2a042c46fb"
      },
      "source": [
        "nb.isnull().any()"
      ],
      "execution_count": 4,
      "outputs": [
        {
          "output_type": "execute_result",
          "data": {
            "text/plain": [
              "book_id                      False\n",
              "goodreads_book_id            False\n",
              "authors                      False\n",
              "original_publication_year     True\n",
              "original_title                True\n",
              "title                        False\n",
              "language_code                 True\n",
              "average_rating               False\n",
              "ratings_count                False\n",
              "medium_image_url             False\n",
              "small_image_url              False\n",
              "desc                          True\n",
              "genre                         True\n",
              "image_url                    False\n",
              "dtype: bool"
            ]
          },
          "metadata": {
            "tags": []
          },
          "execution_count": 4
        }
      ]
    },
    {
      "cell_type": "markdown",
      "metadata": {
        "id": "dv_TDKQWKdut"
      },
      "source": [
        "เรียกตารางที่ชื่อ ratings จาก Google Drive โดยให้ชื่อว่า ratings"
      ]
    },
    {
      "cell_type": "code",
      "metadata": {
        "id": "05HVtCzxWKzb",
        "colab": {
          "base_uri": "https://localhost:8080/",
          "height": 399
        },
        "outputId": "bdb871e9-6cf4-433c-a9a1-19441ff66db0"
      },
      "source": [
        "ratings = pd.read_csv('/content/drive/My Drive/DWDM_material/ratings.csv')\n",
        "ratings"
      ],
      "execution_count": 5,
      "outputs": [
        {
          "output_type": "execute_result",
          "data": {
            "text/html": [
              "<div>\n",
              "<style scoped>\n",
              "    .dataframe tbody tr th:only-of-type {\n",
              "        vertical-align: middle;\n",
              "    }\n",
              "\n",
              "    .dataframe tbody tr th {\n",
              "        vertical-align: top;\n",
              "    }\n",
              "\n",
              "    .dataframe thead th {\n",
              "        text-align: right;\n",
              "    }\n",
              "</style>\n",
              "<table border=\"1\" class=\"dataframe\">\n",
              "  <thead>\n",
              "    <tr style=\"text-align: right;\">\n",
              "      <th></th>\n",
              "      <th>user_id</th>\n",
              "      <th>book_id</th>\n",
              "      <th>rating</th>\n",
              "    </tr>\n",
              "  </thead>\n",
              "  <tbody>\n",
              "    <tr>\n",
              "      <th>0</th>\n",
              "      <td>1</td>\n",
              "      <td>258</td>\n",
              "      <td>5</td>\n",
              "    </tr>\n",
              "    <tr>\n",
              "      <th>1</th>\n",
              "      <td>2</td>\n",
              "      <td>4081</td>\n",
              "      <td>4</td>\n",
              "    </tr>\n",
              "    <tr>\n",
              "      <th>2</th>\n",
              "      <td>2</td>\n",
              "      <td>260</td>\n",
              "      <td>5</td>\n",
              "    </tr>\n",
              "    <tr>\n",
              "      <th>3</th>\n",
              "      <td>2</td>\n",
              "      <td>9296</td>\n",
              "      <td>5</td>\n",
              "    </tr>\n",
              "    <tr>\n",
              "      <th>4</th>\n",
              "      <td>2</td>\n",
              "      <td>2318</td>\n",
              "      <td>3</td>\n",
              "    </tr>\n",
              "    <tr>\n",
              "      <th>...</th>\n",
              "      <td>...</td>\n",
              "      <td>...</td>\n",
              "      <td>...</td>\n",
              "    </tr>\n",
              "    <tr>\n",
              "      <th>1048570</th>\n",
              "      <td>16290</td>\n",
              "      <td>119</td>\n",
              "      <td>2</td>\n",
              "    </tr>\n",
              "    <tr>\n",
              "      <th>1048571</th>\n",
              "      <td>7453</td>\n",
              "      <td>13</td>\n",
              "      <td>5</td>\n",
              "    </tr>\n",
              "    <tr>\n",
              "      <th>1048572</th>\n",
              "      <td>7453</td>\n",
              "      <td>58</td>\n",
              "      <td>5</td>\n",
              "    </tr>\n",
              "    <tr>\n",
              "      <th>1048573</th>\n",
              "      <td>7453</td>\n",
              "      <td>706</td>\n",
              "      <td>5</td>\n",
              "    </tr>\n",
              "    <tr>\n",
              "      <th>1048574</th>\n",
              "      <td>7453</td>\n",
              "      <td>1178</td>\n",
              "      <td>5</td>\n",
              "    </tr>\n",
              "  </tbody>\n",
              "</table>\n",
              "<p>1048575 rows × 3 columns</p>\n",
              "</div>"
            ],
            "text/plain": [
              "         user_id  book_id  rating\n",
              "0              1      258       5\n",
              "1              2     4081       4\n",
              "2              2      260       5\n",
              "3              2     9296       5\n",
              "4              2     2318       3\n",
              "...          ...      ...     ...\n",
              "1048570    16290      119       2\n",
              "1048571     7453       13       5\n",
              "1048572     7453       58       5\n",
              "1048573     7453      706       5\n",
              "1048574     7453     1178       5\n",
              "\n",
              "[1048575 rows x 3 columns]"
            ]
          },
          "metadata": {
            "tags": []
          },
          "execution_count": 5
        }
      ]
    },
    {
      "cell_type": "markdown",
      "metadata": {
        "id": "_6uof5K1KpUK"
      },
      "source": [
        "้เช็คค่า Null ของตาราง ratings"
      ]
    },
    {
      "cell_type": "code",
      "metadata": {
        "id": "hynJ4wRJWaP_",
        "colab": {
          "base_uri": "https://localhost:8080/"
        },
        "outputId": "a97da273-460b-4fe7-bbad-82d46bde3169"
      },
      "source": [
        "ratings.isnull().any()"
      ],
      "execution_count": 6,
      "outputs": [
        {
          "output_type": "execute_result",
          "data": {
            "text/plain": [
              "user_id    False\n",
              "book_id    False\n",
              "rating     False\n",
              "dtype: bool"
            ]
          },
          "metadata": {
            "tags": []
          },
          "execution_count": 6
        }
      ]
    },
    {
      "cell_type": "markdown",
      "metadata": {
        "id": "d77dawJ7KzTu"
      },
      "source": [
        "ทำการ join ตาราง  nb กับ rating โดยให้ ratings เป็นตารางหลักและให้ชื่อตารางว่า Bookmerge"
      ]
    },
    {
      "cell_type": "code",
      "metadata": {
        "id": "XSOAgxwYWl90",
        "colab": {
          "base_uri": "https://localhost:8080/",
          "height": 1000
        },
        "outputId": "fdba7e8b-38c4-4416-894a-1519419b9d70"
      },
      "source": [
        "bookmerge = ratings.merge(nb,how='left', left_on='book_id',right_on='book_id')\n",
        "bookmerge"
      ],
      "execution_count": 7,
      "outputs": [
        {
          "output_type": "execute_result",
          "data": {
            "text/html": [
              "<div>\n",
              "<style scoped>\n",
              "    .dataframe tbody tr th:only-of-type {\n",
              "        vertical-align: middle;\n",
              "    }\n",
              "\n",
              "    .dataframe tbody tr th {\n",
              "        vertical-align: top;\n",
              "    }\n",
              "\n",
              "    .dataframe thead th {\n",
              "        text-align: right;\n",
              "    }\n",
              "</style>\n",
              "<table border=\"1\" class=\"dataframe\">\n",
              "  <thead>\n",
              "    <tr style=\"text-align: right;\">\n",
              "      <th></th>\n",
              "      <th>user_id</th>\n",
              "      <th>book_id</th>\n",
              "      <th>rating</th>\n",
              "      <th>goodreads_book_id</th>\n",
              "      <th>authors</th>\n",
              "      <th>original_publication_year</th>\n",
              "      <th>original_title</th>\n",
              "      <th>title</th>\n",
              "      <th>language_code</th>\n",
              "      <th>average_rating</th>\n",
              "      <th>ratings_count</th>\n",
              "      <th>medium_image_url</th>\n",
              "      <th>small_image_url</th>\n",
              "      <th>desc</th>\n",
              "      <th>genre</th>\n",
              "      <th>image_url</th>\n",
              "    </tr>\n",
              "  </thead>\n",
              "  <tbody>\n",
              "    <tr>\n",
              "      <th>0</th>\n",
              "      <td>1</td>\n",
              "      <td>258</td>\n",
              "      <td>5</td>\n",
              "      <td>1232</td>\n",
              "      <td>Carlos Ruiz Zafón, Lucia Graves</td>\n",
              "      <td>2001.0</td>\n",
              "      <td>La sombra del viento</td>\n",
              "      <td>The Shadow of the Wind (The Cemetery of Forgot...</td>\n",
              "      <td>eng</td>\n",
              "      <td>4.24</td>\n",
              "      <td>263685</td>\n",
              "      <td>https://images.gr-assets.com/books/1344545047m...</td>\n",
              "      <td>https://images.gr-assets.com/books/1344545047s...</td>\n",
              "      <td>\\r\\nWanted: One young woman to take care of fo...</td>\n",
              "      <td>fiction</td>\n",
              "      <td>https://images.gr-assets.com/books/1344545047l...</td>\n",
              "    </tr>\n",
              "    <tr>\n",
              "      <th>1</th>\n",
              "      <td>2</td>\n",
              "      <td>4081</td>\n",
              "      <td>4</td>\n",
              "      <td>231</td>\n",
              "      <td>Tom Wolfe</td>\n",
              "      <td>2004.0</td>\n",
              "      <td>NaN</td>\n",
              "      <td>I am Charlotte Simmons</td>\n",
              "      <td>en-US</td>\n",
              "      <td>3.40</td>\n",
              "      <td>19293</td>\n",
              "      <td>https://s.gr-assets.com/assets/nophoto/book/11...</td>\n",
              "      <td>https://s.gr-assets.com/assets/nophoto/book/50...</td>\n",
              "      <td>\\r\\nLindsay Boxer is pregnant at last! But her...</td>\n",
              "      <td>fiction</td>\n",
              "      <td>https://s.gr-assets.com/assets/nophoto/book/11...</td>\n",
              "    </tr>\n",
              "    <tr>\n",
              "      <th>2</th>\n",
              "      <td>2</td>\n",
              "      <td>260</td>\n",
              "      <td>5</td>\n",
              "      <td>4865</td>\n",
              "      <td>Dale Carnegie</td>\n",
              "      <td>1936.0</td>\n",
              "      <td>How to Win Friends and Influence People</td>\n",
              "      <td>How to Win Friends and Influence People</td>\n",
              "      <td>eng</td>\n",
              "      <td>4.13</td>\n",
              "      <td>282623</td>\n",
              "      <td>https://images.gr-assets.com/books/1442726934m...</td>\n",
              "      <td>https://images.gr-assets.com/books/1442726934s...</td>\n",
              "      <td>\\r\\nWanted: One young woman to take care of fo...</td>\n",
              "      <td>non-fiction</td>\n",
              "      <td>https://images.gr-assets.com/books/1442726934l...</td>\n",
              "    </tr>\n",
              "    <tr>\n",
              "      <th>3</th>\n",
              "      <td>2</td>\n",
              "      <td>9296</td>\n",
              "      <td>5</td>\n",
              "      <td>4887</td>\n",
              "      <td>Alice  Miller, Ruth Ward</td>\n",
              "      <td>1979.0</td>\n",
              "      <td>Das Drama des begabten Kindes und die Suche na...</td>\n",
              "      <td>The Drama of the Gifted Child: The Search for ...</td>\n",
              "      <td>en-GB</td>\n",
              "      <td>4.09</td>\n",
              "      <td>9563</td>\n",
              "      <td>https://images.gr-assets.com/books/1339395245m...</td>\n",
              "      <td>https://images.gr-assets.com/books/1339395245s...</td>\n",
              "      <td>\\r\\nThey were masters of the darkness, searchi...</td>\n",
              "      <td>psychology</td>\n",
              "      <td>https://images.gr-assets.com/books/1339395245l...</td>\n",
              "    </tr>\n",
              "    <tr>\n",
              "      <th>4</th>\n",
              "      <td>2</td>\n",
              "      <td>2318</td>\n",
              "      <td>3</td>\n",
              "      <td>998</td>\n",
              "      <td>Thomas J. Stanley, William D. Danko</td>\n",
              "      <td>1995.0</td>\n",
              "      <td>The Millionaire Next Door: The Surprising Secr...</td>\n",
              "      <td>The Millionaire Next Door: The Surprising Secr...</td>\n",
              "      <td>eng</td>\n",
              "      <td>4.00</td>\n",
              "      <td>43937</td>\n",
              "      <td>https://s.gr-assets.com/assets/nophoto/book/11...</td>\n",
              "      <td>https://s.gr-assets.com/assets/nophoto/book/50...</td>\n",
              "      <td>\\r\\nOne of the most important and blazingly or...</td>\n",
              "      <td>non-fiction</td>\n",
              "      <td>https://s.gr-assets.com/assets/nophoto/book/11...</td>\n",
              "    </tr>\n",
              "    <tr>\n",
              "      <th>...</th>\n",
              "      <td>...</td>\n",
              "      <td>...</td>\n",
              "      <td>...</td>\n",
              "      <td>...</td>\n",
              "      <td>...</td>\n",
              "      <td>...</td>\n",
              "      <td>...</td>\n",
              "      <td>...</td>\n",
              "      <td>...</td>\n",
              "      <td>...</td>\n",
              "      <td>...</td>\n",
              "      <td>...</td>\n",
              "      <td>...</td>\n",
              "      <td>...</td>\n",
              "      <td>...</td>\n",
              "      <td>...</td>\n",
              "    </tr>\n",
              "    <tr>\n",
              "      <th>1048570</th>\n",
              "      <td>16290</td>\n",
              "      <td>119</td>\n",
              "      <td>2</td>\n",
              "      <td>38447</td>\n",
              "      <td>Margaret Atwood</td>\n",
              "      <td>1985.0</td>\n",
              "      <td>The Handmaid's Tale</td>\n",
              "      <td>The Handmaid's Tale</td>\n",
              "      <td>eng</td>\n",
              "      <td>4.06</td>\n",
              "      <td>607889</td>\n",
              "      <td>https://images.gr-assets.com/books/1498057733m...</td>\n",
              "      <td>https://images.gr-assets.com/books/1498057733s...</td>\n",
              "      <td>\\r\\nOffred is a Handmaid in the Republic of Gi...</td>\n",
              "      <td>fiction</td>\n",
              "      <td>https://images.gr-assets.com/books/1498057733l...</td>\n",
              "    </tr>\n",
              "    <tr>\n",
              "      <th>1048571</th>\n",
              "      <td>7453</td>\n",
              "      <td>13</td>\n",
              "      <td>5</td>\n",
              "      <td>5470</td>\n",
              "      <td>George Orwell, Erich Fromm, Celâl Üster</td>\n",
              "      <td>1949.0</td>\n",
              "      <td>Nineteen Eighty-Four</td>\n",
              "      <td>1984</td>\n",
              "      <td>eng</td>\n",
              "      <td>4.14</td>\n",
              "      <td>1956832</td>\n",
              "      <td>https://images.gr-assets.com/books/1348990566m...</td>\n",
              "      <td>https://images.gr-assets.com/books/1348990566s...</td>\n",
              "      <td>\\r\\nThe year 1984 has come and gone, but Georg...</td>\n",
              "      <td>fiction</td>\n",
              "      <td>https://images.gr-assets.com/books/1348990566l...</td>\n",
              "    </tr>\n",
              "    <tr>\n",
              "      <th>1048572</th>\n",
              "      <td>7453</td>\n",
              "      <td>58</td>\n",
              "      <td>5</td>\n",
              "      <td>2956</td>\n",
              "      <td>Mark Twain, John Seelye, Guy Cardwell</td>\n",
              "      <td>1884.0</td>\n",
              "      <td>The Adventures of Huckleberry Finn</td>\n",
              "      <td>The Adventures of Huckleberry Finn</td>\n",
              "      <td>eng</td>\n",
              "      <td>3.80</td>\n",
              "      <td>953758</td>\n",
              "      <td>https://images.gr-assets.com/books/1405973850m...</td>\n",
              "      <td>https://images.gr-assets.com/books/1405973850s...</td>\n",
              "      <td>\\r\\nA nineteenth-century boy from a Mississipp...</td>\n",
              "      <td>classics</td>\n",
              "      <td>https://images.gr-assets.com/books/1405973850l...</td>\n",
              "    </tr>\n",
              "    <tr>\n",
              "      <th>1048573</th>\n",
              "      <td>7453</td>\n",
              "      <td>706</td>\n",
              "      <td>5</td>\n",
              "      <td>54479</td>\n",
              "      <td>Jules Verne, Michael Glencross, Brian W. Aldiss</td>\n",
              "      <td>1872.0</td>\n",
              "      <td>Le tour du monde en quatre-vingts jours</td>\n",
              "      <td>Around the World in Eighty Days</td>\n",
              "      <td>eng</td>\n",
              "      <td>3.90</td>\n",
              "      <td>117108</td>\n",
              "      <td>https://images.gr-assets.com/books/1308815551m...</td>\n",
              "      <td>https://images.gr-assets.com/books/1308815551s...</td>\n",
              "      <td>\\r\\nIfemelu and Obinze are young and in love w...</td>\n",
              "      <td>classics</td>\n",
              "      <td>https://images.gr-assets.com/books/1308815551l...</td>\n",
              "    </tr>\n",
              "    <tr>\n",
              "      <th>1048574</th>\n",
              "      <td>7453</td>\n",
              "      <td>1178</td>\n",
              "      <td>5</td>\n",
              "      <td>62446</td>\n",
              "      <td>Mark Twain, Everett H. Emerson</td>\n",
              "      <td>1881.0</td>\n",
              "      <td>The Prince and the Pauper</td>\n",
              "      <td>The Prince and the Pauper</td>\n",
              "      <td>eng</td>\n",
              "      <td>3.84</td>\n",
              "      <td>84682</td>\n",
              "      <td>https://images.gr-assets.com/books/1376406798m...</td>\n",
              "      <td>https://images.gr-assets.com/books/1376406798s...</td>\n",
              "      <td>\\r\\nCongratulations--just by opening the cover...</td>\n",
              "      <td>classics</td>\n",
              "      <td>https://images.gr-assets.com/books/1376406798l...</td>\n",
              "    </tr>\n",
              "  </tbody>\n",
              "</table>\n",
              "<p>1048575 rows × 16 columns</p>\n",
              "</div>"
            ],
            "text/plain": [
              "         user_id  ...                                          image_url\n",
              "0              1  ...  https://images.gr-assets.com/books/1344545047l...\n",
              "1              2  ...  https://s.gr-assets.com/assets/nophoto/book/11...\n",
              "2              2  ...  https://images.gr-assets.com/books/1442726934l...\n",
              "3              2  ...  https://images.gr-assets.com/books/1339395245l...\n",
              "4              2  ...  https://s.gr-assets.com/assets/nophoto/book/11...\n",
              "...          ...  ...                                                ...\n",
              "1048570    16290  ...  https://images.gr-assets.com/books/1498057733l...\n",
              "1048571     7453  ...  https://images.gr-assets.com/books/1348990566l...\n",
              "1048572     7453  ...  https://images.gr-assets.com/books/1405973850l...\n",
              "1048573     7453  ...  https://images.gr-assets.com/books/1308815551l...\n",
              "1048574     7453  ...  https://images.gr-assets.com/books/1376406798l...\n",
              "\n",
              "[1048575 rows x 16 columns]"
            ]
          },
          "metadata": {
            "tags": []
          },
          "execution_count": 7
        }
      ]
    },
    {
      "cell_type": "markdown",
      "metadata": {
        "id": "tISmWMgyLHb_"
      },
      "source": [
        "ทำการ Drop ค่า Null ออกจากตาราง"
      ]
    },
    {
      "cell_type": "code",
      "metadata": {
        "id": "OOjRrjVvb_V1",
        "colab": {
          "base_uri": "https://localhost:8080/",
          "height": 1000
        },
        "outputId": "b35535f8-ce9f-4f2b-82e2-7a183954c745"
      },
      "source": [
        "bookmerge = bookmerge.dropna()\n",
        "bookmerge"
      ],
      "execution_count": 8,
      "outputs": [
        {
          "output_type": "execute_result",
          "data": {
            "text/html": [
              "<div>\n",
              "<style scoped>\n",
              "    .dataframe tbody tr th:only-of-type {\n",
              "        vertical-align: middle;\n",
              "    }\n",
              "\n",
              "    .dataframe tbody tr th {\n",
              "        vertical-align: top;\n",
              "    }\n",
              "\n",
              "    .dataframe thead th {\n",
              "        text-align: right;\n",
              "    }\n",
              "</style>\n",
              "<table border=\"1\" class=\"dataframe\">\n",
              "  <thead>\n",
              "    <tr style=\"text-align: right;\">\n",
              "      <th></th>\n",
              "      <th>user_id</th>\n",
              "      <th>book_id</th>\n",
              "      <th>rating</th>\n",
              "      <th>goodreads_book_id</th>\n",
              "      <th>authors</th>\n",
              "      <th>original_publication_year</th>\n",
              "      <th>original_title</th>\n",
              "      <th>title</th>\n",
              "      <th>language_code</th>\n",
              "      <th>average_rating</th>\n",
              "      <th>ratings_count</th>\n",
              "      <th>medium_image_url</th>\n",
              "      <th>small_image_url</th>\n",
              "      <th>desc</th>\n",
              "      <th>genre</th>\n",
              "      <th>image_url</th>\n",
              "    </tr>\n",
              "  </thead>\n",
              "  <tbody>\n",
              "    <tr>\n",
              "      <th>0</th>\n",
              "      <td>1</td>\n",
              "      <td>258</td>\n",
              "      <td>5</td>\n",
              "      <td>1232</td>\n",
              "      <td>Carlos Ruiz Zafón, Lucia Graves</td>\n",
              "      <td>2001.0</td>\n",
              "      <td>La sombra del viento</td>\n",
              "      <td>The Shadow of the Wind (The Cemetery of Forgot...</td>\n",
              "      <td>eng</td>\n",
              "      <td>4.24</td>\n",
              "      <td>263685</td>\n",
              "      <td>https://images.gr-assets.com/books/1344545047m...</td>\n",
              "      <td>https://images.gr-assets.com/books/1344545047s...</td>\n",
              "      <td>\\r\\nWanted: One young woman to take care of fo...</td>\n",
              "      <td>fiction</td>\n",
              "      <td>https://images.gr-assets.com/books/1344545047l...</td>\n",
              "    </tr>\n",
              "    <tr>\n",
              "      <th>2</th>\n",
              "      <td>2</td>\n",
              "      <td>260</td>\n",
              "      <td>5</td>\n",
              "      <td>4865</td>\n",
              "      <td>Dale Carnegie</td>\n",
              "      <td>1936.0</td>\n",
              "      <td>How to Win Friends and Influence People</td>\n",
              "      <td>How to Win Friends and Influence People</td>\n",
              "      <td>eng</td>\n",
              "      <td>4.13</td>\n",
              "      <td>282623</td>\n",
              "      <td>https://images.gr-assets.com/books/1442726934m...</td>\n",
              "      <td>https://images.gr-assets.com/books/1442726934s...</td>\n",
              "      <td>\\r\\nWanted: One young woman to take care of fo...</td>\n",
              "      <td>non-fiction</td>\n",
              "      <td>https://images.gr-assets.com/books/1442726934l...</td>\n",
              "    </tr>\n",
              "    <tr>\n",
              "      <th>3</th>\n",
              "      <td>2</td>\n",
              "      <td>9296</td>\n",
              "      <td>5</td>\n",
              "      <td>4887</td>\n",
              "      <td>Alice  Miller, Ruth Ward</td>\n",
              "      <td>1979.0</td>\n",
              "      <td>Das Drama des begabten Kindes und die Suche na...</td>\n",
              "      <td>The Drama of the Gifted Child: The Search for ...</td>\n",
              "      <td>en-GB</td>\n",
              "      <td>4.09</td>\n",
              "      <td>9563</td>\n",
              "      <td>https://images.gr-assets.com/books/1339395245m...</td>\n",
              "      <td>https://images.gr-assets.com/books/1339395245s...</td>\n",
              "      <td>\\r\\nThey were masters of the darkness, searchi...</td>\n",
              "      <td>psychology</td>\n",
              "      <td>https://images.gr-assets.com/books/1339395245l...</td>\n",
              "    </tr>\n",
              "    <tr>\n",
              "      <th>4</th>\n",
              "      <td>2</td>\n",
              "      <td>2318</td>\n",
              "      <td>3</td>\n",
              "      <td>998</td>\n",
              "      <td>Thomas J. Stanley, William D. Danko</td>\n",
              "      <td>1995.0</td>\n",
              "      <td>The Millionaire Next Door: The Surprising Secr...</td>\n",
              "      <td>The Millionaire Next Door: The Surprising Secr...</td>\n",
              "      <td>eng</td>\n",
              "      <td>4.00</td>\n",
              "      <td>43937</td>\n",
              "      <td>https://s.gr-assets.com/assets/nophoto/book/11...</td>\n",
              "      <td>https://s.gr-assets.com/assets/nophoto/book/50...</td>\n",
              "      <td>\\r\\nOne of the most important and blazingly or...</td>\n",
              "      <td>non-fiction</td>\n",
              "      <td>https://s.gr-assets.com/assets/nophoto/book/11...</td>\n",
              "    </tr>\n",
              "    <tr>\n",
              "      <th>5</th>\n",
              "      <td>2</td>\n",
              "      <td>26</td>\n",
              "      <td>4</td>\n",
              "      <td>968</td>\n",
              "      <td>Dan Brown</td>\n",
              "      <td>2003.0</td>\n",
              "      <td>The Da Vinci Code</td>\n",
              "      <td>The Da Vinci Code (Robert Langdon, #2)</td>\n",
              "      <td>eng</td>\n",
              "      <td>3.79</td>\n",
              "      <td>1447148</td>\n",
              "      <td>https://images.gr-assets.com/books/1303252999m...</td>\n",
              "      <td>https://images.gr-assets.com/books/1303252999s...</td>\n",
              "      <td>\\r\\nAn ingenious code hidden in the works of L...</td>\n",
              "      <td>fiction</td>\n",
              "      <td>https://images.gr-assets.com/books/1303252999l...</td>\n",
              "    </tr>\n",
              "    <tr>\n",
              "      <th>...</th>\n",
              "      <td>...</td>\n",
              "      <td>...</td>\n",
              "      <td>...</td>\n",
              "      <td>...</td>\n",
              "      <td>...</td>\n",
              "      <td>...</td>\n",
              "      <td>...</td>\n",
              "      <td>...</td>\n",
              "      <td>...</td>\n",
              "      <td>...</td>\n",
              "      <td>...</td>\n",
              "      <td>...</td>\n",
              "      <td>...</td>\n",
              "      <td>...</td>\n",
              "      <td>...</td>\n",
              "      <td>...</td>\n",
              "    </tr>\n",
              "    <tr>\n",
              "      <th>1048570</th>\n",
              "      <td>16290</td>\n",
              "      <td>119</td>\n",
              "      <td>2</td>\n",
              "      <td>38447</td>\n",
              "      <td>Margaret Atwood</td>\n",
              "      <td>1985.0</td>\n",
              "      <td>The Handmaid's Tale</td>\n",
              "      <td>The Handmaid's Tale</td>\n",
              "      <td>eng</td>\n",
              "      <td>4.06</td>\n",
              "      <td>607889</td>\n",
              "      <td>https://images.gr-assets.com/books/1498057733m...</td>\n",
              "      <td>https://images.gr-assets.com/books/1498057733s...</td>\n",
              "      <td>\\r\\nOffred is a Handmaid in the Republic of Gi...</td>\n",
              "      <td>fiction</td>\n",
              "      <td>https://images.gr-assets.com/books/1498057733l...</td>\n",
              "    </tr>\n",
              "    <tr>\n",
              "      <th>1048571</th>\n",
              "      <td>7453</td>\n",
              "      <td>13</td>\n",
              "      <td>5</td>\n",
              "      <td>5470</td>\n",
              "      <td>George Orwell, Erich Fromm, Celâl Üster</td>\n",
              "      <td>1949.0</td>\n",
              "      <td>Nineteen Eighty-Four</td>\n",
              "      <td>1984</td>\n",
              "      <td>eng</td>\n",
              "      <td>4.14</td>\n",
              "      <td>1956832</td>\n",
              "      <td>https://images.gr-assets.com/books/1348990566m...</td>\n",
              "      <td>https://images.gr-assets.com/books/1348990566s...</td>\n",
              "      <td>\\r\\nThe year 1984 has come and gone, but Georg...</td>\n",
              "      <td>fiction</td>\n",
              "      <td>https://images.gr-assets.com/books/1348990566l...</td>\n",
              "    </tr>\n",
              "    <tr>\n",
              "      <th>1048572</th>\n",
              "      <td>7453</td>\n",
              "      <td>58</td>\n",
              "      <td>5</td>\n",
              "      <td>2956</td>\n",
              "      <td>Mark Twain, John Seelye, Guy Cardwell</td>\n",
              "      <td>1884.0</td>\n",
              "      <td>The Adventures of Huckleberry Finn</td>\n",
              "      <td>The Adventures of Huckleberry Finn</td>\n",
              "      <td>eng</td>\n",
              "      <td>3.80</td>\n",
              "      <td>953758</td>\n",
              "      <td>https://images.gr-assets.com/books/1405973850m...</td>\n",
              "      <td>https://images.gr-assets.com/books/1405973850s...</td>\n",
              "      <td>\\r\\nA nineteenth-century boy from a Mississipp...</td>\n",
              "      <td>classics</td>\n",
              "      <td>https://images.gr-assets.com/books/1405973850l...</td>\n",
              "    </tr>\n",
              "    <tr>\n",
              "      <th>1048573</th>\n",
              "      <td>7453</td>\n",
              "      <td>706</td>\n",
              "      <td>5</td>\n",
              "      <td>54479</td>\n",
              "      <td>Jules Verne, Michael Glencross, Brian W. Aldiss</td>\n",
              "      <td>1872.0</td>\n",
              "      <td>Le tour du monde en quatre-vingts jours</td>\n",
              "      <td>Around the World in Eighty Days</td>\n",
              "      <td>eng</td>\n",
              "      <td>3.90</td>\n",
              "      <td>117108</td>\n",
              "      <td>https://images.gr-assets.com/books/1308815551m...</td>\n",
              "      <td>https://images.gr-assets.com/books/1308815551s...</td>\n",
              "      <td>\\r\\nIfemelu and Obinze are young and in love w...</td>\n",
              "      <td>classics</td>\n",
              "      <td>https://images.gr-assets.com/books/1308815551l...</td>\n",
              "    </tr>\n",
              "    <tr>\n",
              "      <th>1048574</th>\n",
              "      <td>7453</td>\n",
              "      <td>1178</td>\n",
              "      <td>5</td>\n",
              "      <td>62446</td>\n",
              "      <td>Mark Twain, Everett H. Emerson</td>\n",
              "      <td>1881.0</td>\n",
              "      <td>The Prince and the Pauper</td>\n",
              "      <td>The Prince and the Pauper</td>\n",
              "      <td>eng</td>\n",
              "      <td>3.84</td>\n",
              "      <td>84682</td>\n",
              "      <td>https://images.gr-assets.com/books/1376406798m...</td>\n",
              "      <td>https://images.gr-assets.com/books/1376406798s...</td>\n",
              "      <td>\\r\\nCongratulations--just by opening the cover...</td>\n",
              "      <td>classics</td>\n",
              "      <td>https://images.gr-assets.com/books/1376406798l...</td>\n",
              "    </tr>\n",
              "  </tbody>\n",
              "</table>\n",
              "<p>976071 rows × 16 columns</p>\n",
              "</div>"
            ],
            "text/plain": [
              "         user_id  ...                                          image_url\n",
              "0              1  ...  https://images.gr-assets.com/books/1344545047l...\n",
              "2              2  ...  https://images.gr-assets.com/books/1442726934l...\n",
              "3              2  ...  https://images.gr-assets.com/books/1339395245l...\n",
              "4              2  ...  https://s.gr-assets.com/assets/nophoto/book/11...\n",
              "5              2  ...  https://images.gr-assets.com/books/1303252999l...\n",
              "...          ...  ...                                                ...\n",
              "1048570    16290  ...  https://images.gr-assets.com/books/1498057733l...\n",
              "1048571     7453  ...  https://images.gr-assets.com/books/1348990566l...\n",
              "1048572     7453  ...  https://images.gr-assets.com/books/1405973850l...\n",
              "1048573     7453  ...  https://images.gr-assets.com/books/1308815551l...\n",
              "1048574     7453  ...  https://images.gr-assets.com/books/1376406798l...\n",
              "\n",
              "[976071 rows x 16 columns]"
            ]
          },
          "metadata": {
            "tags": []
          },
          "execution_count": 8
        }
      ]
    },
    {
      "cell_type": "markdown",
      "metadata": {
        "id": "cBQkAPCFLOl0"
      },
      "source": [
        "ทำการ Drop Columns ที่ไม่ได้ใช้ทิ้งออกไป"
      ]
    },
    {
      "cell_type": "code",
      "metadata": {
        "id": "ZYxqAC1lXPW6",
        "colab": {
          "base_uri": "https://localhost:8080/",
          "height": 484
        },
        "outputId": "5ee9c7f3-6453-46f7-9a3f-940edc1896ae"
      },
      "source": [
        "bookmerge.drop(columns=['language_code','original_publication_year','medium_image_url','small_image_url','desc','image_url'])"
      ],
      "execution_count": 9,
      "outputs": [
        {
          "output_type": "execute_result",
          "data": {
            "text/html": [
              "<div>\n",
              "<style scoped>\n",
              "    .dataframe tbody tr th:only-of-type {\n",
              "        vertical-align: middle;\n",
              "    }\n",
              "\n",
              "    .dataframe tbody tr th {\n",
              "        vertical-align: top;\n",
              "    }\n",
              "\n",
              "    .dataframe thead th {\n",
              "        text-align: right;\n",
              "    }\n",
              "</style>\n",
              "<table border=\"1\" class=\"dataframe\">\n",
              "  <thead>\n",
              "    <tr style=\"text-align: right;\">\n",
              "      <th></th>\n",
              "      <th>user_id</th>\n",
              "      <th>book_id</th>\n",
              "      <th>rating</th>\n",
              "      <th>goodreads_book_id</th>\n",
              "      <th>authors</th>\n",
              "      <th>original_title</th>\n",
              "      <th>title</th>\n",
              "      <th>average_rating</th>\n",
              "      <th>ratings_count</th>\n",
              "      <th>genre</th>\n",
              "    </tr>\n",
              "  </thead>\n",
              "  <tbody>\n",
              "    <tr>\n",
              "      <th>0</th>\n",
              "      <td>1</td>\n",
              "      <td>258</td>\n",
              "      <td>5</td>\n",
              "      <td>1232</td>\n",
              "      <td>Carlos Ruiz Zafón, Lucia Graves</td>\n",
              "      <td>La sombra del viento</td>\n",
              "      <td>The Shadow of the Wind (The Cemetery of Forgot...</td>\n",
              "      <td>4.24</td>\n",
              "      <td>263685</td>\n",
              "      <td>fiction</td>\n",
              "    </tr>\n",
              "    <tr>\n",
              "      <th>2</th>\n",
              "      <td>2</td>\n",
              "      <td>260</td>\n",
              "      <td>5</td>\n",
              "      <td>4865</td>\n",
              "      <td>Dale Carnegie</td>\n",
              "      <td>How to Win Friends and Influence People</td>\n",
              "      <td>How to Win Friends and Influence People</td>\n",
              "      <td>4.13</td>\n",
              "      <td>282623</td>\n",
              "      <td>non-fiction</td>\n",
              "    </tr>\n",
              "    <tr>\n",
              "      <th>3</th>\n",
              "      <td>2</td>\n",
              "      <td>9296</td>\n",
              "      <td>5</td>\n",
              "      <td>4887</td>\n",
              "      <td>Alice  Miller, Ruth Ward</td>\n",
              "      <td>Das Drama des begabten Kindes und die Suche na...</td>\n",
              "      <td>The Drama of the Gifted Child: The Search for ...</td>\n",
              "      <td>4.09</td>\n",
              "      <td>9563</td>\n",
              "      <td>psychology</td>\n",
              "    </tr>\n",
              "    <tr>\n",
              "      <th>4</th>\n",
              "      <td>2</td>\n",
              "      <td>2318</td>\n",
              "      <td>3</td>\n",
              "      <td>998</td>\n",
              "      <td>Thomas J. Stanley, William D. Danko</td>\n",
              "      <td>The Millionaire Next Door: The Surprising Secr...</td>\n",
              "      <td>The Millionaire Next Door: The Surprising Secr...</td>\n",
              "      <td>4.00</td>\n",
              "      <td>43937</td>\n",
              "      <td>non-fiction</td>\n",
              "    </tr>\n",
              "    <tr>\n",
              "      <th>5</th>\n",
              "      <td>2</td>\n",
              "      <td>26</td>\n",
              "      <td>4</td>\n",
              "      <td>968</td>\n",
              "      <td>Dan Brown</td>\n",
              "      <td>The Da Vinci Code</td>\n",
              "      <td>The Da Vinci Code (Robert Langdon, #2)</td>\n",
              "      <td>3.79</td>\n",
              "      <td>1447148</td>\n",
              "      <td>fiction</td>\n",
              "    </tr>\n",
              "    <tr>\n",
              "      <th>...</th>\n",
              "      <td>...</td>\n",
              "      <td>...</td>\n",
              "      <td>...</td>\n",
              "      <td>...</td>\n",
              "      <td>...</td>\n",
              "      <td>...</td>\n",
              "      <td>...</td>\n",
              "      <td>...</td>\n",
              "      <td>...</td>\n",
              "      <td>...</td>\n",
              "    </tr>\n",
              "    <tr>\n",
              "      <th>1048570</th>\n",
              "      <td>16290</td>\n",
              "      <td>119</td>\n",
              "      <td>2</td>\n",
              "      <td>38447</td>\n",
              "      <td>Margaret Atwood</td>\n",
              "      <td>The Handmaid's Tale</td>\n",
              "      <td>The Handmaid's Tale</td>\n",
              "      <td>4.06</td>\n",
              "      <td>607889</td>\n",
              "      <td>fiction</td>\n",
              "    </tr>\n",
              "    <tr>\n",
              "      <th>1048571</th>\n",
              "      <td>7453</td>\n",
              "      <td>13</td>\n",
              "      <td>5</td>\n",
              "      <td>5470</td>\n",
              "      <td>George Orwell, Erich Fromm, Celâl Üster</td>\n",
              "      <td>Nineteen Eighty-Four</td>\n",
              "      <td>1984</td>\n",
              "      <td>4.14</td>\n",
              "      <td>1956832</td>\n",
              "      <td>fiction</td>\n",
              "    </tr>\n",
              "    <tr>\n",
              "      <th>1048572</th>\n",
              "      <td>7453</td>\n",
              "      <td>58</td>\n",
              "      <td>5</td>\n",
              "      <td>2956</td>\n",
              "      <td>Mark Twain, John Seelye, Guy Cardwell</td>\n",
              "      <td>The Adventures of Huckleberry Finn</td>\n",
              "      <td>The Adventures of Huckleberry Finn</td>\n",
              "      <td>3.80</td>\n",
              "      <td>953758</td>\n",
              "      <td>classics</td>\n",
              "    </tr>\n",
              "    <tr>\n",
              "      <th>1048573</th>\n",
              "      <td>7453</td>\n",
              "      <td>706</td>\n",
              "      <td>5</td>\n",
              "      <td>54479</td>\n",
              "      <td>Jules Verne, Michael Glencross, Brian W. Aldiss</td>\n",
              "      <td>Le tour du monde en quatre-vingts jours</td>\n",
              "      <td>Around the World in Eighty Days</td>\n",
              "      <td>3.90</td>\n",
              "      <td>117108</td>\n",
              "      <td>classics</td>\n",
              "    </tr>\n",
              "    <tr>\n",
              "      <th>1048574</th>\n",
              "      <td>7453</td>\n",
              "      <td>1178</td>\n",
              "      <td>5</td>\n",
              "      <td>62446</td>\n",
              "      <td>Mark Twain, Everett H. Emerson</td>\n",
              "      <td>The Prince and the Pauper</td>\n",
              "      <td>The Prince and the Pauper</td>\n",
              "      <td>3.84</td>\n",
              "      <td>84682</td>\n",
              "      <td>classics</td>\n",
              "    </tr>\n",
              "  </tbody>\n",
              "</table>\n",
              "<p>976071 rows × 10 columns</p>\n",
              "</div>"
            ],
            "text/plain": [
              "         user_id  book_id  rating  ...  average_rating ratings_count        genre\n",
              "0              1      258       5  ...            4.24        263685      fiction\n",
              "2              2      260       5  ...            4.13        282623  non-fiction\n",
              "3              2     9296       5  ...            4.09          9563   psychology\n",
              "4              2     2318       3  ...            4.00         43937  non-fiction\n",
              "5              2       26       4  ...            3.79       1447148      fiction\n",
              "...          ...      ...     ...  ...             ...           ...          ...\n",
              "1048570    16290      119       2  ...            4.06        607889      fiction\n",
              "1048571     7453       13       5  ...            4.14       1956832      fiction\n",
              "1048572     7453       58       5  ...            3.80        953758     classics\n",
              "1048573     7453      706       5  ...            3.90        117108     classics\n",
              "1048574     7453     1178       5  ...            3.84         84682     classics\n",
              "\n",
              "[976071 rows x 10 columns]"
            ]
          },
          "metadata": {
            "tags": []
          },
          "execution_count": 9
        }
      ]
    },
    {
      "cell_type": "markdown",
      "metadata": {
        "id": "ZdaQvWa1LXjP"
      },
      "source": [
        "ให้ตาราง bookmerge แสดงค่าที่มี rating มากกว่าเท่ากับ 3 โดยให้ชื่อตารางว่า bookratinghing"
      ]
    },
    {
      "cell_type": "code",
      "metadata": {
        "colab": {
          "base_uri": "https://localhost:8080/",
          "height": 1000
        },
        "id": "-C8qD_BSlMrO",
        "outputId": "143b05aa-9cfb-4c67-c08b-cfaef6ce45df"
      },
      "source": [
        "bookratinghigh = bookmerge[bookmerge['rating']>=3]\n",
        "bookratinghigh"
      ],
      "execution_count": 10,
      "outputs": [
        {
          "output_type": "execute_result",
          "data": {
            "text/html": [
              "<div>\n",
              "<style scoped>\n",
              "    .dataframe tbody tr th:only-of-type {\n",
              "        vertical-align: middle;\n",
              "    }\n",
              "\n",
              "    .dataframe tbody tr th {\n",
              "        vertical-align: top;\n",
              "    }\n",
              "\n",
              "    .dataframe thead th {\n",
              "        text-align: right;\n",
              "    }\n",
              "</style>\n",
              "<table border=\"1\" class=\"dataframe\">\n",
              "  <thead>\n",
              "    <tr style=\"text-align: right;\">\n",
              "      <th></th>\n",
              "      <th>user_id</th>\n",
              "      <th>book_id</th>\n",
              "      <th>rating</th>\n",
              "      <th>goodreads_book_id</th>\n",
              "      <th>authors</th>\n",
              "      <th>original_publication_year</th>\n",
              "      <th>original_title</th>\n",
              "      <th>title</th>\n",
              "      <th>language_code</th>\n",
              "      <th>average_rating</th>\n",
              "      <th>ratings_count</th>\n",
              "      <th>medium_image_url</th>\n",
              "      <th>small_image_url</th>\n",
              "      <th>desc</th>\n",
              "      <th>genre</th>\n",
              "      <th>image_url</th>\n",
              "    </tr>\n",
              "  </thead>\n",
              "  <tbody>\n",
              "    <tr>\n",
              "      <th>0</th>\n",
              "      <td>1</td>\n",
              "      <td>258</td>\n",
              "      <td>5</td>\n",
              "      <td>1232</td>\n",
              "      <td>Carlos Ruiz Zafón, Lucia Graves</td>\n",
              "      <td>2001.0</td>\n",
              "      <td>La sombra del viento</td>\n",
              "      <td>The Shadow of the Wind (The Cemetery of Forgot...</td>\n",
              "      <td>eng</td>\n",
              "      <td>4.24</td>\n",
              "      <td>263685</td>\n",
              "      <td>https://images.gr-assets.com/books/1344545047m...</td>\n",
              "      <td>https://images.gr-assets.com/books/1344545047s...</td>\n",
              "      <td>\\r\\nWanted: One young woman to take care of fo...</td>\n",
              "      <td>fiction</td>\n",
              "      <td>https://images.gr-assets.com/books/1344545047l...</td>\n",
              "    </tr>\n",
              "    <tr>\n",
              "      <th>2</th>\n",
              "      <td>2</td>\n",
              "      <td>260</td>\n",
              "      <td>5</td>\n",
              "      <td>4865</td>\n",
              "      <td>Dale Carnegie</td>\n",
              "      <td>1936.0</td>\n",
              "      <td>How to Win Friends and Influence People</td>\n",
              "      <td>How to Win Friends and Influence People</td>\n",
              "      <td>eng</td>\n",
              "      <td>4.13</td>\n",
              "      <td>282623</td>\n",
              "      <td>https://images.gr-assets.com/books/1442726934m...</td>\n",
              "      <td>https://images.gr-assets.com/books/1442726934s...</td>\n",
              "      <td>\\r\\nWanted: One young woman to take care of fo...</td>\n",
              "      <td>non-fiction</td>\n",
              "      <td>https://images.gr-assets.com/books/1442726934l...</td>\n",
              "    </tr>\n",
              "    <tr>\n",
              "      <th>3</th>\n",
              "      <td>2</td>\n",
              "      <td>9296</td>\n",
              "      <td>5</td>\n",
              "      <td>4887</td>\n",
              "      <td>Alice  Miller, Ruth Ward</td>\n",
              "      <td>1979.0</td>\n",
              "      <td>Das Drama des begabten Kindes und die Suche na...</td>\n",
              "      <td>The Drama of the Gifted Child: The Search for ...</td>\n",
              "      <td>en-GB</td>\n",
              "      <td>4.09</td>\n",
              "      <td>9563</td>\n",
              "      <td>https://images.gr-assets.com/books/1339395245m...</td>\n",
              "      <td>https://images.gr-assets.com/books/1339395245s...</td>\n",
              "      <td>\\r\\nThey were masters of the darkness, searchi...</td>\n",
              "      <td>psychology</td>\n",
              "      <td>https://images.gr-assets.com/books/1339395245l...</td>\n",
              "    </tr>\n",
              "    <tr>\n",
              "      <th>4</th>\n",
              "      <td>2</td>\n",
              "      <td>2318</td>\n",
              "      <td>3</td>\n",
              "      <td>998</td>\n",
              "      <td>Thomas J. Stanley, William D. Danko</td>\n",
              "      <td>1995.0</td>\n",
              "      <td>The Millionaire Next Door: The Surprising Secr...</td>\n",
              "      <td>The Millionaire Next Door: The Surprising Secr...</td>\n",
              "      <td>eng</td>\n",
              "      <td>4.00</td>\n",
              "      <td>43937</td>\n",
              "      <td>https://s.gr-assets.com/assets/nophoto/book/11...</td>\n",
              "      <td>https://s.gr-assets.com/assets/nophoto/book/50...</td>\n",
              "      <td>\\r\\nOne of the most important and blazingly or...</td>\n",
              "      <td>non-fiction</td>\n",
              "      <td>https://s.gr-assets.com/assets/nophoto/book/11...</td>\n",
              "    </tr>\n",
              "    <tr>\n",
              "      <th>5</th>\n",
              "      <td>2</td>\n",
              "      <td>26</td>\n",
              "      <td>4</td>\n",
              "      <td>968</td>\n",
              "      <td>Dan Brown</td>\n",
              "      <td>2003.0</td>\n",
              "      <td>The Da Vinci Code</td>\n",
              "      <td>The Da Vinci Code (Robert Langdon, #2)</td>\n",
              "      <td>eng</td>\n",
              "      <td>3.79</td>\n",
              "      <td>1447148</td>\n",
              "      <td>https://images.gr-assets.com/books/1303252999m...</td>\n",
              "      <td>https://images.gr-assets.com/books/1303252999s...</td>\n",
              "      <td>\\r\\nAn ingenious code hidden in the works of L...</td>\n",
              "      <td>fiction</td>\n",
              "      <td>https://images.gr-assets.com/books/1303252999l...</td>\n",
              "    </tr>\n",
              "    <tr>\n",
              "      <th>...</th>\n",
              "      <td>...</td>\n",
              "      <td>...</td>\n",
              "      <td>...</td>\n",
              "      <td>...</td>\n",
              "      <td>...</td>\n",
              "      <td>...</td>\n",
              "      <td>...</td>\n",
              "      <td>...</td>\n",
              "      <td>...</td>\n",
              "      <td>...</td>\n",
              "      <td>...</td>\n",
              "      <td>...</td>\n",
              "      <td>...</td>\n",
              "      <td>...</td>\n",
              "      <td>...</td>\n",
              "      <td>...</td>\n",
              "    </tr>\n",
              "    <tr>\n",
              "      <th>1048569</th>\n",
              "      <td>7453</td>\n",
              "      <td>116</td>\n",
              "      <td>5</td>\n",
              "      <td>24583</td>\n",
              "      <td>Mark Twain, Guy Cardwell, John Seelye</td>\n",
              "      <td>1876.0</td>\n",
              "      <td>The Adventures of Tom Sawyer</td>\n",
              "      <td>The Adventures of Tom Sawyer</td>\n",
              "      <td>eng</td>\n",
              "      <td>3.89</td>\n",
              "      <td>555359</td>\n",
              "      <td>https://images.gr-assets.com/books/1404811979m...</td>\n",
              "      <td>https://images.gr-assets.com/books/1404811979s...</td>\n",
              "      <td>\\r\\nAn adventure story for children, The Adven...</td>\n",
              "      <td>classics</td>\n",
              "      <td>https://images.gr-assets.com/books/1404811979l...</td>\n",
              "    </tr>\n",
              "    <tr>\n",
              "      <th>1048571</th>\n",
              "      <td>7453</td>\n",
              "      <td>13</td>\n",
              "      <td>5</td>\n",
              "      <td>5470</td>\n",
              "      <td>George Orwell, Erich Fromm, Celâl Üster</td>\n",
              "      <td>1949.0</td>\n",
              "      <td>Nineteen Eighty-Four</td>\n",
              "      <td>1984</td>\n",
              "      <td>eng</td>\n",
              "      <td>4.14</td>\n",
              "      <td>1956832</td>\n",
              "      <td>https://images.gr-assets.com/books/1348990566m...</td>\n",
              "      <td>https://images.gr-assets.com/books/1348990566s...</td>\n",
              "      <td>\\r\\nThe year 1984 has come and gone, but Georg...</td>\n",
              "      <td>fiction</td>\n",
              "      <td>https://images.gr-assets.com/books/1348990566l...</td>\n",
              "    </tr>\n",
              "    <tr>\n",
              "      <th>1048572</th>\n",
              "      <td>7453</td>\n",
              "      <td>58</td>\n",
              "      <td>5</td>\n",
              "      <td>2956</td>\n",
              "      <td>Mark Twain, John Seelye, Guy Cardwell</td>\n",
              "      <td>1884.0</td>\n",
              "      <td>The Adventures of Huckleberry Finn</td>\n",
              "      <td>The Adventures of Huckleberry Finn</td>\n",
              "      <td>eng</td>\n",
              "      <td>3.80</td>\n",
              "      <td>953758</td>\n",
              "      <td>https://images.gr-assets.com/books/1405973850m...</td>\n",
              "      <td>https://images.gr-assets.com/books/1405973850s...</td>\n",
              "      <td>\\r\\nA nineteenth-century boy from a Mississipp...</td>\n",
              "      <td>classics</td>\n",
              "      <td>https://images.gr-assets.com/books/1405973850l...</td>\n",
              "    </tr>\n",
              "    <tr>\n",
              "      <th>1048573</th>\n",
              "      <td>7453</td>\n",
              "      <td>706</td>\n",
              "      <td>5</td>\n",
              "      <td>54479</td>\n",
              "      <td>Jules Verne, Michael Glencross, Brian W. Aldiss</td>\n",
              "      <td>1872.0</td>\n",
              "      <td>Le tour du monde en quatre-vingts jours</td>\n",
              "      <td>Around the World in Eighty Days</td>\n",
              "      <td>eng</td>\n",
              "      <td>3.90</td>\n",
              "      <td>117108</td>\n",
              "      <td>https://images.gr-assets.com/books/1308815551m...</td>\n",
              "      <td>https://images.gr-assets.com/books/1308815551s...</td>\n",
              "      <td>\\r\\nIfemelu and Obinze are young and in love w...</td>\n",
              "      <td>classics</td>\n",
              "      <td>https://images.gr-assets.com/books/1308815551l...</td>\n",
              "    </tr>\n",
              "    <tr>\n",
              "      <th>1048574</th>\n",
              "      <td>7453</td>\n",
              "      <td>1178</td>\n",
              "      <td>5</td>\n",
              "      <td>62446</td>\n",
              "      <td>Mark Twain, Everett H. Emerson</td>\n",
              "      <td>1881.0</td>\n",
              "      <td>The Prince and the Pauper</td>\n",
              "      <td>The Prince and the Pauper</td>\n",
              "      <td>eng</td>\n",
              "      <td>3.84</td>\n",
              "      <td>84682</td>\n",
              "      <td>https://images.gr-assets.com/books/1376406798m...</td>\n",
              "      <td>https://images.gr-assets.com/books/1376406798s...</td>\n",
              "      <td>\\r\\nCongratulations--just by opening the cover...</td>\n",
              "      <td>classics</td>\n",
              "      <td>https://images.gr-assets.com/books/1376406798l...</td>\n",
              "    </tr>\n",
              "  </tbody>\n",
              "</table>\n",
              "<p>882015 rows × 16 columns</p>\n",
              "</div>"
            ],
            "text/plain": [
              "         user_id  ...                                          image_url\n",
              "0              1  ...  https://images.gr-assets.com/books/1344545047l...\n",
              "2              2  ...  https://images.gr-assets.com/books/1442726934l...\n",
              "3              2  ...  https://images.gr-assets.com/books/1339395245l...\n",
              "4              2  ...  https://s.gr-assets.com/assets/nophoto/book/11...\n",
              "5              2  ...  https://images.gr-assets.com/books/1303252999l...\n",
              "...          ...  ...                                                ...\n",
              "1048569     7453  ...  https://images.gr-assets.com/books/1404811979l...\n",
              "1048571     7453  ...  https://images.gr-assets.com/books/1348990566l...\n",
              "1048572     7453  ...  https://images.gr-assets.com/books/1405973850l...\n",
              "1048573     7453  ...  https://images.gr-assets.com/books/1308815551l...\n",
              "1048574     7453  ...  https://images.gr-assets.com/books/1376406798l...\n",
              "\n",
              "[882015 rows x 16 columns]"
            ]
          },
          "metadata": {
            "tags": []
          },
          "execution_count": 10
        }
      ]
    },
    {
      "cell_type": "markdown",
      "metadata": {
        "id": "BvTewQI0L80s"
      },
      "source": [
        "ให้ตาราง bookmerge แสดงค่าที่มี rating น้อยกว่า 3 โดยให้ชื่อตารางว่า bookratinglow"
      ]
    },
    {
      "cell_type": "code",
      "metadata": {
        "id": "q8lrAWgd3XGG",
        "colab": {
          "base_uri": "https://localhost:8080/",
          "height": 1000
        },
        "outputId": "b6ad23de-fc3e-411f-9f70-339d8f457c55"
      },
      "source": [
        "bookratinglow = bookmerge[bookmerge['rating']<3]\n",
        "bookratinglow"
      ],
      "execution_count": 11,
      "outputs": [
        {
          "output_type": "execute_result",
          "data": {
            "text/html": [
              "<div>\n",
              "<style scoped>\n",
              "    .dataframe tbody tr th:only-of-type {\n",
              "        vertical-align: middle;\n",
              "    }\n",
              "\n",
              "    .dataframe tbody tr th {\n",
              "        vertical-align: top;\n",
              "    }\n",
              "\n",
              "    .dataframe thead th {\n",
              "        text-align: right;\n",
              "    }\n",
              "</style>\n",
              "<table border=\"1\" class=\"dataframe\">\n",
              "  <thead>\n",
              "    <tr style=\"text-align: right;\">\n",
              "      <th></th>\n",
              "      <th>user_id</th>\n",
              "      <th>book_id</th>\n",
              "      <th>rating</th>\n",
              "      <th>goodreads_book_id</th>\n",
              "      <th>authors</th>\n",
              "      <th>original_publication_year</th>\n",
              "      <th>original_title</th>\n",
              "      <th>title</th>\n",
              "      <th>language_code</th>\n",
              "      <th>average_rating</th>\n",
              "      <th>ratings_count</th>\n",
              "      <th>medium_image_url</th>\n",
              "      <th>small_image_url</th>\n",
              "      <th>desc</th>\n",
              "      <th>genre</th>\n",
              "      <th>image_url</th>\n",
              "    </tr>\n",
              "  </thead>\n",
              "  <tbody>\n",
              "    <tr>\n",
              "      <th>23</th>\n",
              "      <td>4</td>\n",
              "      <td>255</td>\n",
              "      <td>2</td>\n",
              "      <td>662</td>\n",
              "      <td>Ayn Rand, Leonard Peikoff</td>\n",
              "      <td>1957.0</td>\n",
              "      <td>Atlas Shrugged</td>\n",
              "      <td>Atlas Shrugged</td>\n",
              "      <td>eng</td>\n",
              "      <td>3.68</td>\n",
              "      <td>283295</td>\n",
              "      <td>https://images.gr-assets.com/books/1405868167m...</td>\n",
              "      <td>https://images.gr-assets.com/books/1405868167s...</td>\n",
              "      <td>\\r\\nWanted: One young woman to take care of fo...</td>\n",
              "      <td>fiction</td>\n",
              "      <td>https://images.gr-assets.com/books/1405868167l...</td>\n",
              "    </tr>\n",
              "    <tr>\n",
              "      <th>32</th>\n",
              "      <td>4</td>\n",
              "      <td>111</td>\n",
              "      <td>2</td>\n",
              "      <td>10441</td>\n",
              "      <td>Kim Edwards</td>\n",
              "      <td>2005.0</td>\n",
              "      <td>The Memory Keeper's Daughter</td>\n",
              "      <td>The Memory Keeper's Daughter</td>\n",
              "      <td>eng</td>\n",
              "      <td>3.64</td>\n",
              "      <td>501430</td>\n",
              "      <td>https://s.gr-assets.com/assets/nophoto/book/11...</td>\n",
              "      <td>https://s.gr-assets.com/assets/nophoto/book/50...</td>\n",
              "      <td>\\r\\nWhat happens when the most beautiful girl ...</td>\n",
              "      <td>fiction</td>\n",
              "      <td>https://s.gr-assets.com/assets/nophoto/book/11...</td>\n",
              "    </tr>\n",
              "    <tr>\n",
              "      <th>65</th>\n",
              "      <td>4</td>\n",
              "      <td>145</td>\n",
              "      <td>2</td>\n",
              "      <td>976</td>\n",
              "      <td>Dan Brown</td>\n",
              "      <td>2001.0</td>\n",
              "      <td>Deception Point</td>\n",
              "      <td>Deception Point</td>\n",
              "      <td>eng</td>\n",
              "      <td>3.67</td>\n",
              "      <td>455610</td>\n",
              "      <td>https://s.gr-assets.com/assets/nophoto/book/11...</td>\n",
              "      <td>https://s.gr-assets.com/assets/nophoto/book/50...</td>\n",
              "      <td>\\r\\nNathaniel Hawthorne's THE SCARLET LETTER r...</td>\n",
              "      <td>fiction</td>\n",
              "      <td>https://s.gr-assets.com/assets/nophoto/book/11...</td>\n",
              "    </tr>\n",
              "    <tr>\n",
              "      <th>119</th>\n",
              "      <td>9</td>\n",
              "      <td>26</td>\n",
              "      <td>2</td>\n",
              "      <td>968</td>\n",
              "      <td>Dan Brown</td>\n",
              "      <td>2003.0</td>\n",
              "      <td>The Da Vinci Code</td>\n",
              "      <td>The Da Vinci Code (Robert Langdon, #2)</td>\n",
              "      <td>eng</td>\n",
              "      <td>3.79</td>\n",
              "      <td>1447148</td>\n",
              "      <td>https://images.gr-assets.com/books/1303252999m...</td>\n",
              "      <td>https://images.gr-assets.com/books/1303252999s...</td>\n",
              "      <td>\\r\\nAn ingenious code hidden in the works of L...</td>\n",
              "      <td>fiction</td>\n",
              "      <td>https://images.gr-assets.com/books/1303252999l...</td>\n",
              "    </tr>\n",
              "    <tr>\n",
              "      <th>120</th>\n",
              "      <td>9</td>\n",
              "      <td>9</td>\n",
              "      <td>1</td>\n",
              "      <td>960</td>\n",
              "      <td>Dan Brown</td>\n",
              "      <td>2000.0</td>\n",
              "      <td>Angels &amp; Demons</td>\n",
              "      <td>Angels &amp; Demons  (Robert Langdon, #1)</td>\n",
              "      <td>en-CA</td>\n",
              "      <td>3.85</td>\n",
              "      <td>2001311</td>\n",
              "      <td>https://images.gr-assets.com/books/1303390735m...</td>\n",
              "      <td>https://images.gr-assets.com/books/1303390735s...</td>\n",
              "      <td>\\r\\nWorld-renowned Harvard symbologist Robert ...</td>\n",
              "      <td>fiction</td>\n",
              "      <td>https://images.gr-assets.com/books/1303390735l...</td>\n",
              "    </tr>\n",
              "    <tr>\n",
              "      <th>...</th>\n",
              "      <td>...</td>\n",
              "      <td>...</td>\n",
              "      <td>...</td>\n",
              "      <td>...</td>\n",
              "      <td>...</td>\n",
              "      <td>...</td>\n",
              "      <td>...</td>\n",
              "      <td>...</td>\n",
              "      <td>...</td>\n",
              "      <td>...</td>\n",
              "      <td>...</td>\n",
              "      <td>...</td>\n",
              "      <td>...</td>\n",
              "      <td>...</td>\n",
              "      <td>...</td>\n",
              "      <td>...</td>\n",
              "    </tr>\n",
              "    <tr>\n",
              "      <th>1048549</th>\n",
              "      <td>16290</td>\n",
              "      <td>866</td>\n",
              "      <td>2</td>\n",
              "      <td>126232</td>\n",
              "      <td>Peter Benchley</td>\n",
              "      <td>1974.0</td>\n",
              "      <td>Jaws</td>\n",
              "      <td>Jaws</td>\n",
              "      <td>eng</td>\n",
              "      <td>3.96</td>\n",
              "      <td>102574</td>\n",
              "      <td>https://images.gr-assets.com/books/1327958767m...</td>\n",
              "      <td>https://images.gr-assets.com/books/1327958767s...</td>\n",
              "      <td>\\r\\nNever trust your heart to the New York Tim...</td>\n",
              "      <td>horror</td>\n",
              "      <td>https://images.gr-assets.com/books/1327958767l...</td>\n",
              "    </tr>\n",
              "    <tr>\n",
              "      <th>1048557</th>\n",
              "      <td>16290</td>\n",
              "      <td>86</td>\n",
              "      <td>2</td>\n",
              "      <td>32542</td>\n",
              "      <td>John Grisham</td>\n",
              "      <td>1989.0</td>\n",
              "      <td>A Time to Kill</td>\n",
              "      <td>A Time to Kill</td>\n",
              "      <td>eng</td>\n",
              "      <td>4.03</td>\n",
              "      <td>597775</td>\n",
              "      <td>https://s.gr-assets.com/assets/nophoto/book/11...</td>\n",
              "      <td>https://s.gr-assets.com/assets/nophoto/book/50...</td>\n",
              "      <td>\\r\\nLibrarian's Note: Alternate-cover edition ...</td>\n",
              "      <td>fiction</td>\n",
              "      <td>https://s.gr-assets.com/assets/nophoto/book/11...</td>\n",
              "    </tr>\n",
              "    <tr>\n",
              "      <th>1048565</th>\n",
              "      <td>7453</td>\n",
              "      <td>2327</td>\n",
              "      <td>2</td>\n",
              "      <td>21343</td>\n",
              "      <td>Patrick Lencioni</td>\n",
              "      <td>2002.0</td>\n",
              "      <td>The Five Dysfunctions of a Team</td>\n",
              "      <td>The Five Dysfunctions of a Team: A Leadership ...</td>\n",
              "      <td>eng</td>\n",
              "      <td>4.01</td>\n",
              "      <td>40239</td>\n",
              "      <td>https://images.gr-assets.com/books/1400841022m...</td>\n",
              "      <td>https://images.gr-assets.com/books/1400841022s...</td>\n",
              "      <td>\\r\\nIn The Five Dysfunctions of a Team Patrick...</td>\n",
              "      <td>business</td>\n",
              "      <td>https://images.gr-assets.com/books/1400841022l...</td>\n",
              "    </tr>\n",
              "    <tr>\n",
              "      <th>1048567</th>\n",
              "      <td>7453</td>\n",
              "      <td>1371</td>\n",
              "      <td>2</td>\n",
              "      <td>1713426</td>\n",
              "      <td>Dan Ariely</td>\n",
              "      <td>2007.0</td>\n",
              "      <td>Predictably Irrational: The Hidden Forces that...</td>\n",
              "      <td>Predictably Irrational: The Hidden Forces That...</td>\n",
              "      <td>en-US</td>\n",
              "      <td>4.10</td>\n",
              "      <td>61496</td>\n",
              "      <td>https://s.gr-assets.com/assets/nophoto/book/11...</td>\n",
              "      <td>https://s.gr-assets.com/assets/nophoto/book/50...</td>\n",
              "      <td>\\r\\nCarson McCullers prodigious first novel wa...</td>\n",
              "      <td>economics</td>\n",
              "      <td>https://s.gr-assets.com/assets/nophoto/book/11...</td>\n",
              "    </tr>\n",
              "    <tr>\n",
              "      <th>1048570</th>\n",
              "      <td>16290</td>\n",
              "      <td>119</td>\n",
              "      <td>2</td>\n",
              "      <td>38447</td>\n",
              "      <td>Margaret Atwood</td>\n",
              "      <td>1985.0</td>\n",
              "      <td>The Handmaid's Tale</td>\n",
              "      <td>The Handmaid's Tale</td>\n",
              "      <td>eng</td>\n",
              "      <td>4.06</td>\n",
              "      <td>607889</td>\n",
              "      <td>https://images.gr-assets.com/books/1498057733m...</td>\n",
              "      <td>https://images.gr-assets.com/books/1498057733s...</td>\n",
              "      <td>\\r\\nOffred is a Handmaid in the Republic of Gi...</td>\n",
              "      <td>fiction</td>\n",
              "      <td>https://images.gr-assets.com/books/1498057733l...</td>\n",
              "    </tr>\n",
              "  </tbody>\n",
              "</table>\n",
              "<p>94056 rows × 16 columns</p>\n",
              "</div>"
            ],
            "text/plain": [
              "         user_id  ...                                          image_url\n",
              "23             4  ...  https://images.gr-assets.com/books/1405868167l...\n",
              "32             4  ...  https://s.gr-assets.com/assets/nophoto/book/11...\n",
              "65             4  ...  https://s.gr-assets.com/assets/nophoto/book/11...\n",
              "119            9  ...  https://images.gr-assets.com/books/1303252999l...\n",
              "120            9  ...  https://images.gr-assets.com/books/1303390735l...\n",
              "...          ...  ...                                                ...\n",
              "1048549    16290  ...  https://images.gr-assets.com/books/1327958767l...\n",
              "1048557    16290  ...  https://s.gr-assets.com/assets/nophoto/book/11...\n",
              "1048565     7453  ...  https://images.gr-assets.com/books/1400841022l...\n",
              "1048567     7453  ...  https://s.gr-assets.com/assets/nophoto/book/11...\n",
              "1048570    16290  ...  https://images.gr-assets.com/books/1498057733l...\n",
              "\n",
              "[94056 rows x 16 columns]"
            ]
          },
          "metadata": {
            "tags": []
          },
          "execution_count": 11
        }
      ]
    },
    {
      "cell_type": "code",
      "metadata": {
        "id": "hlccKWM_YkUZ",
        "colab": {
          "base_uri": "https://localhost:8080/"
        },
        "outputId": "be1d82ad-0a18-4d2d-cd7b-483f5959fae5"
      },
      "source": [
        "!pip install apyori"
      ],
      "execution_count": 12,
      "outputs": [
        {
          "output_type": "stream",
          "text": [
            "Collecting apyori\n",
            "  Downloading https://files.pythonhosted.org/packages/5e/62/5ffde5c473ea4b033490617ec5caa80d59804875ad3c3c57c0976533a21a/apyori-1.1.2.tar.gz\n",
            "Building wheels for collected packages: apyori\n",
            "  Building wheel for apyori (setup.py) ... \u001b[?25l\u001b[?25hdone\n",
            "  Created wheel for apyori: filename=apyori-1.1.2-cp36-none-any.whl size=5975 sha256=2892acb29af87ac3eb654618fd65731961ec079196b71b4aed3b32efb82651b0\n",
            "  Stored in directory: /root/.cache/pip/wheels/5d/92/bb/474bbadbc8c0062b9eb168f69982a0443263f8ab1711a8cad0\n",
            "Successfully built apyori\n",
            "Installing collected packages: apyori\n",
            "Successfully installed apyori-1.1.2\n"
          ],
          "name": "stdout"
        }
      ]
    },
    {
      "cell_type": "markdown",
      "metadata": {
        "id": "yJ4Uw388RJHj"
      },
      "source": [
        "##จำนวนRating มากกว่าเท่ากับ 3"
      ]
    },
    {
      "cell_type": "code",
      "metadata": {
        "id": "hZsLZ8zmYwYW"
      },
      "source": [
        "from apyori import apriori"
      ],
      "execution_count": 13,
      "outputs": []
    },
    {
      "cell_type": "code",
      "metadata": {
        "id": "IBfz34w-UkSe",
        "colab": {
          "base_uri": "https://localhost:8080/"
        },
        "outputId": "2ac64240-d4c4-4e82-c73c-9152fa1da695"
      },
      "source": [
        "author= bookratinghigh.groupby('user_id')['authors'].apply(list)\n",
        "author"
      ],
      "execution_count": 14,
      "outputs": [
        {
          "output_type": "execute_result",
          "data": {
            "text/plain": [
              "user_id\n",
              "1        [Carlos Ruiz Zafón, Lucia Graves, Kazuo Ishigu...\n",
              "2        [Dale Carnegie, Alice  Miller, Ruth Ward, Thom...\n",
              "3        [Harper Lee, Stephen R. Covey, Billy Collins, ...\n",
              "4        [Orson Scott Card, Ernest Hemingway, Gary Paul...\n",
              "6                                        [Sarah Macdonald]\n",
              "                               ...                        \n",
              "22351    [Shel Silverstein, Paulo Coelho, Alan R. Clark...\n",
              "24420    [Azar Nafisi, Roald Dahl, Quentin Blake, Roald...\n",
              "37076    [Paulo Coelho, Alan R. Clarke, Pascal Mercier,...\n",
              "41961    [Steve Martin, Steve Martin, Steve Martin, Art...\n",
              "42208    [Harper Lee, F. Scott Fitzgerald, Shel Silvers...\n",
              "Name: authors, Length: 13101, dtype: object"
            ]
          },
          "metadata": {
            "tags": []
          },
          "execution_count": 14
        }
      ]
    },
    {
      "cell_type": "code",
      "metadata": {
        "id": "P0_LFJiNgdqh",
        "colab": {
          "base_uri": "https://localhost:8080/"
        },
        "outputId": "92460be7-2de4-4ba0-eec1-df19e3248c42"
      },
      "source": [
        "list(apriori(author, min_support = 0.3 , min_confidence = 0.8))"
      ],
      "execution_count": 15,
      "outputs": [
        {
          "output_type": "execute_result",
          "data": {
            "text/plain": [
              "[RelationRecord(items=frozenset({'J.K. Rowling, Mary GrandPré, Rufus Beck', 'J.K. Rowling, Mary GrandPré'}), support=0.31974658423021146, ordered_statistics=[OrderedStatistic(items_base=frozenset({'J.K. Rowling, Mary GrandPré, Rufus Beck'}), items_add=frozenset({'J.K. Rowling, Mary GrandPré'}), confidence=0.988204765274829, lift=2.214207393512149)])]"
            ]
          },
          "metadata": {
            "tags": []
          },
          "execution_count": 15
        }
      ]
    },
    {
      "cell_type": "markdown",
      "metadata": {
        "id": "tAuml1GFRgLd"
      },
      "source": [
        "คนมักอ่านผลงานของผู้แต่ง J.K. Rowling, Mary GrandPré, Rufus Beck ก่อนแล้วค่อยอ่านผลงานของผู้แต่ง J.K. Rowling, Mary GrandPré คิดเป็นร้อยละ 98.82"
      ]
    },
    {
      "cell_type": "code",
      "metadata": {
        "id": "QHkcWZLA0pu9",
        "colab": {
          "base_uri": "https://localhost:8080/",
          "height": 370
        },
        "outputId": "c39725dd-637b-4278-f0d2-6550a8ce11d6"
      },
      "source": [
        "count4 = bookratinghigh.groupby('authors').count().sort_values('user_id',ascending = False)\n",
        "count_authors1 = count4.drop(columns=['book_id','goodreads_book_id','original_publication_year','original_title','title','language_code','average_rating','ratings_count','medium_image_url','small_image_url','desc','genre','image_url','rating'])\n",
        "count_authors1.head(10)"
      ],
      "execution_count": 16,
      "outputs": [
        {
          "output_type": "execute_result",
          "data": {
            "text/html": [
              "<div>\n",
              "<style scoped>\n",
              "    .dataframe tbody tr th:only-of-type {\n",
              "        vertical-align: middle;\n",
              "    }\n",
              "\n",
              "    .dataframe tbody tr th {\n",
              "        vertical-align: top;\n",
              "    }\n",
              "\n",
              "    .dataframe thead th {\n",
              "        text-align: right;\n",
              "    }\n",
              "</style>\n",
              "<table border=\"1\" class=\"dataframe\">\n",
              "  <thead>\n",
              "    <tr style=\"text-align: right;\">\n",
              "      <th></th>\n",
              "      <th>user_id</th>\n",
              "    </tr>\n",
              "    <tr>\n",
              "      <th>authors</th>\n",
              "      <th></th>\n",
              "    </tr>\n",
              "  </thead>\n",
              "  <tbody>\n",
              "    <tr>\n",
              "      <th>J.K. Rowling, Mary GrandPré</th>\n",
              "      <td>25228</td>\n",
              "    </tr>\n",
              "    <tr>\n",
              "      <th>Stephen King</th>\n",
              "      <td>14773</td>\n",
              "    </tr>\n",
              "    <tr>\n",
              "      <th>Stephenie Meyer</th>\n",
              "      <td>11862</td>\n",
              "    </tr>\n",
              "    <tr>\n",
              "      <th>J.R.R. Tolkien</th>\n",
              "      <td>10873</td>\n",
              "    </tr>\n",
              "    <tr>\n",
              "      <th>Dan Brown</th>\n",
              "      <td>8109</td>\n",
              "    </tr>\n",
              "    <tr>\n",
              "      <th>John Grisham</th>\n",
              "      <td>7836</td>\n",
              "    </tr>\n",
              "    <tr>\n",
              "      <th>C.S. Lewis</th>\n",
              "      <td>7550</td>\n",
              "    </tr>\n",
              "    <tr>\n",
              "      <th>Suzanne Collins</th>\n",
              "      <td>7352</td>\n",
              "    </tr>\n",
              "    <tr>\n",
              "      <th>Charlaine Harris</th>\n",
              "      <td>7141</td>\n",
              "    </tr>\n",
              "    <tr>\n",
              "      <th>John Steinbeck</th>\n",
              "      <td>7106</td>\n",
              "    </tr>\n",
              "  </tbody>\n",
              "</table>\n",
              "</div>"
            ],
            "text/plain": [
              "                             user_id\n",
              "authors                             \n",
              "J.K. Rowling, Mary GrandPré    25228\n",
              "Stephen King                   14773\n",
              "Stephenie Meyer                11862\n",
              "J.R.R. Tolkien                 10873\n",
              "Dan Brown                       8109\n",
              "John Grisham                    7836\n",
              "C.S. Lewis                      7550\n",
              "Suzanne Collins                 7352\n",
              "Charlaine Harris                7141\n",
              "John Steinbeck                  7106"
            ]
          },
          "metadata": {
            "tags": []
          },
          "execution_count": 16
        }
      ]
    },
    {
      "cell_type": "markdown",
      "metadata": {
        "id": "XIiDpAIpXMyD"
      },
      "source": [
        "กำหนดให้ authors เป็น transaction โดยนับจากจนวน user_id ที่สนในผลงานของผู้แต่งโดยเรียงลำดับจากมากไปหน่อย"
      ]
    },
    {
      "cell_type": "code",
      "metadata": {
        "id": "QR5Oj0mBhbnc",
        "colab": {
          "base_uri": "https://localhost:8080/"
        },
        "outputId": "1a1dd427-fee1-4ab8-cc16-4ebd20b10e9f"
      },
      "source": [
        "title = bookratinghigh.groupby('user_id')['title'].apply(list)\n",
        "title"
      ],
      "execution_count": 17,
      "outputs": [
        {
          "output_type": "execute_result",
          "data": {
            "text/plain": [
              "user_id\n",
              "1        [The Shadow of the Wind (The Cemetery of Forgo...\n",
              "2        [How to Win Friends and Influence People, The ...\n",
              "3        [To Kill a Mockingbird, The 7 Habits of Highly...\n",
              "4        [Ender's Game (Ender's Saga, #1), The Sun Also...\n",
              "6                          [Holy Cow: An Indian Adventure]\n",
              "                               ...                        \n",
              "22351    [Where the Sidewalk Ends, The Alchemist, Romeo...\n",
              "24420    [Reading Lolita in Tehran, Boy: Tales of Child...\n",
              "37076    [The Alchemist, Night Train to Lisbon, All Qui...\n",
              "41961    [Shopgirl, Born Standing Up: A Comic's Life, T...\n",
              "42208    [To Kill a Mockingbird, The Great Gatsby, Wher...\n",
              "Name: title, Length: 13101, dtype: object"
            ]
          },
          "metadata": {
            "tags": []
          },
          "execution_count": 17
        }
      ]
    },
    {
      "cell_type": "code",
      "metadata": {
        "id": "RszKwgDsh-xu",
        "colab": {
          "base_uri": "https://localhost:8080/"
        },
        "outputId": "c7191dfc-ffe1-46b4-eed6-10480c01317c"
      },
      "source": [
        "list(apriori(title, min_support = 0.3 , min_confidence = 0.8))"
      ],
      "execution_count": 18,
      "outputs": [
        {
          "output_type": "execute_result",
          "data": {
            "text/plain": [
              "[RelationRecord(items=frozenset({'Harry Potter and the Prisoner of Azkaban (Harry Potter, #3)', 'Harry Potter and the Goblet of Fire (Harry Potter, #4)'}), support=0.30058774139378674, ordered_statistics=[OrderedStatistic(items_base=frozenset({'Harry Potter and the Goblet of Fire (Harry Potter, #4)'}), items_add=frozenset({'Harry Potter and the Prisoner of Azkaban (Harry Potter, #3)'}), confidence=0.9347258485639688, lift=2.888851932539881), OrderedStatistic(items_base=frozenset({'Harry Potter and the Prisoner of Azkaban (Harry Potter, #3)'}), items_add=frozenset({'Harry Potter and the Goblet of Fire (Harry Potter, #4)'}), confidence=0.9289926869544705, lift=2.8888519325398807)])]"
            ]
          },
          "metadata": {
            "tags": []
          },
          "execution_count": 18
        }
      ]
    },
    {
      "cell_type": "markdown",
      "metadata": {
        "id": "MBw0C4TRTtUK"
      },
      "source": [
        "ผู้ที่อ่านหนังสือเรื่อง Harry Potter and the Prisoner of Azkaban (Harry Potter, #3 ก่อนแล้วค่อยมาอ่านเรื่อง Harry Potter and the Goblet of Fire (Harry Potter,#4) คิดเป็นร้อยละ 92.89"
      ]
    },
    {
      "cell_type": "code",
      "metadata": {
        "id": "ih6PcblS034-",
        "colab": {
          "base_uri": "https://localhost:8080/",
          "height": 370
        },
        "outputId": "58cb3945-222b-485e-f4a7-867d087b8732"
      },
      "source": [
        "count5 = bookratinghigh.groupby('title').count().sort_values('user_id',ascending = False)\n",
        "count_title1 = count5.drop(columns=['book_id','goodreads_book_id','original_publication_year','original_title','authors','language_code','average_rating','ratings_count','medium_image_url','small_image_url','desc','genre','image_url','rating'])\n",
        "count_title1.head(10)"
      ],
      "execution_count": 19,
      "outputs": [
        {
          "output_type": "execute_result",
          "data": {
            "text/html": [
              "<div>\n",
              "<style scoped>\n",
              "    .dataframe tbody tr th:only-of-type {\n",
              "        vertical-align: middle;\n",
              "    }\n",
              "\n",
              "    .dataframe tbody tr th {\n",
              "        vertical-align: top;\n",
              "    }\n",
              "\n",
              "    .dataframe thead th {\n",
              "        text-align: right;\n",
              "    }\n",
              "</style>\n",
              "<table border=\"1\" class=\"dataframe\">\n",
              "  <thead>\n",
              "    <tr style=\"text-align: right;\">\n",
              "      <th></th>\n",
              "      <th>user_id</th>\n",
              "    </tr>\n",
              "    <tr>\n",
              "      <th>title</th>\n",
              "      <th></th>\n",
              "    </tr>\n",
              "  </thead>\n",
              "  <tbody>\n",
              "    <tr>\n",
              "      <th>Harry Potter and the Sorcerer's Stone (Harry Potter, #1)</th>\n",
              "      <td>4700</td>\n",
              "    </tr>\n",
              "    <tr>\n",
              "      <th>To Kill a Mockingbird</th>\n",
              "      <td>4461</td>\n",
              "    </tr>\n",
              "    <tr>\n",
              "      <th>Harry Potter and the Prisoner of Azkaban (Harry Potter, #3)</th>\n",
              "      <td>4239</td>\n",
              "    </tr>\n",
              "    <tr>\n",
              "      <th>Harry Potter and the Goblet of Fire (Harry Potter, #4)</th>\n",
              "      <td>4213</td>\n",
              "    </tr>\n",
              "    <tr>\n",
              "      <th>Harry Potter and the Chamber of Secrets (Harry Potter, #2)</th>\n",
              "      <td>4104</td>\n",
              "    </tr>\n",
              "    <tr>\n",
              "      <th>Harry Potter and the Deathly Hallows (Harry Potter, #7)</th>\n",
              "      <td>4072</td>\n",
              "    </tr>\n",
              "    <tr>\n",
              "      <th>Harry Potter and the Order of the Phoenix (Harry Potter, #5)</th>\n",
              "      <td>4070</td>\n",
              "    </tr>\n",
              "    <tr>\n",
              "      <th>Harry Potter and the Half-Blood Prince (Harry Potter, #6)</th>\n",
              "      <td>4057</td>\n",
              "    </tr>\n",
              "    <tr>\n",
              "      <th>The Da Vinci Code (Robert Langdon, #2)</th>\n",
              "      <td>3759</td>\n",
              "    </tr>\n",
              "    <tr>\n",
              "      <th>The Great Gatsby</th>\n",
              "      <td>3489</td>\n",
              "    </tr>\n",
              "  </tbody>\n",
              "</table>\n",
              "</div>"
            ],
            "text/plain": [
              "                                                    user_id\n",
              "title                                                      \n",
              "Harry Potter and the Sorcerer's Stone (Harry Po...     4700\n",
              "To Kill a Mockingbird                                  4461\n",
              "Harry Potter and the Prisoner of Azkaban (Harry...     4239\n",
              "Harry Potter and the Goblet of Fire (Harry Pott...     4213\n",
              "Harry Potter and the Chamber of Secrets (Harry ...     4104\n",
              "Harry Potter and the Deathly Hallows (Harry Pot...     4072\n",
              "Harry Potter and the Order of the Phoenix (Harr...     4070\n",
              "Harry Potter and the Half-Blood Prince (Harry P...     4057\n",
              "The Da Vinci Code (Robert Langdon, #2)                 3759\n",
              "The Great Gatsby                                       3489"
            ]
          },
          "metadata": {
            "tags": []
          },
          "execution_count": 19
        }
      ]
    },
    {
      "cell_type": "markdown",
      "metadata": {
        "id": "SUZiI8zBX4tW"
      },
      "source": [
        "กำหนดให้ title เป็น transaction โดยดับจากจำนวน user_id ที่สนใจในเรื่องที่ผู้อ่านสนใจโดยเรียงลำดับจากมากไปหน่อย"
      ]
    },
    {
      "cell_type": "code",
      "metadata": {
        "id": "aF9h7K7NiVAG",
        "colab": {
          "base_uri": "https://localhost:8080/"
        },
        "outputId": "d4474af2-fa8c-4d8e-d48d-4b34f1317f54"
      },
      "source": [
        "genre = bookratinghigh.groupby('user_id')['genre'].apply(list)\n",
        "genre"
      ],
      "execution_count": 20,
      "outputs": [
        {
          "output_type": "execute_result",
          "data": {
            "text/plain": [
              "user_id\n",
              "1        [fiction, fiction, fiction, fiction, fiction, ...\n",
              "2        [non-fiction, psychology, non-fiction, fiction...\n",
              "3        [classics, non-fiction, poetry, christian, pla...\n",
              "4        [science-fiction, classics, young-adult, fanta...\n",
              "6                                                 [travel]\n",
              "                               ...                        \n",
              "22351    [poetry, fiction, classics, classics, fiction,...\n",
              "24420    [non-fiction, non-fiction, childrens, kids-boo...\n",
              "37076    [fiction, fiction, classics, classics, fantasy...\n",
              "41961    [fiction, biography, fiction, classics, fictio...\n",
              "42208    [classics, classics, poetry, classics, classic...\n",
              "Name: genre, Length: 13101, dtype: object"
            ]
          },
          "metadata": {
            "tags": []
          },
          "execution_count": 20
        }
      ]
    },
    {
      "cell_type": "code",
      "metadata": {
        "id": "uEufz8P5kDPF",
        "colab": {
          "base_uri": "https://localhost:8080/"
        },
        "outputId": "8a7dbc3f-3ac9-4160-c6c4-cf79d1d6a4a7"
      },
      "source": [
        "list(apriori(genre, min_support = 0.8, min_confidence = 0.8))"
      ],
      "execution_count": 21,
      "outputs": [
        {
          "output_type": "execute_result",
          "data": {
            "text/plain": [
              "[RelationRecord(items=frozenset({'classics'}), support=0.8576444546217846, ordered_statistics=[OrderedStatistic(items_base=frozenset(), items_add=frozenset({'classics'}), confidence=0.8576444546217846, lift=1.0)]),\n",
              " RelationRecord(items=frozenset({'fantasy'}), support=0.8342874589725975, ordered_statistics=[OrderedStatistic(items_base=frozenset(), items_add=frozenset({'fantasy'}), confidence=0.8342874589725975, lift=1.0)]),\n",
              " RelationRecord(items=frozenset({'fiction'}), support=0.9578658117700939, ordered_statistics=[OrderedStatistic(items_base=frozenset(), items_add=frozenset({'fiction'}), confidence=0.9578658117700939, lift=1.0)]),\n",
              " RelationRecord(items=frozenset({'fiction', 'classics'}), support=0.8460422868483322, ordered_statistics=[OrderedStatistic(items_base=frozenset(), items_add=frozenset({'fiction', 'classics'}), confidence=0.8460422868483322, lift=1.0), OrderedStatistic(items_base=frozenset({'classics'}), items_add=frozenset({'fiction'}), confidence=0.9864720541117835, lift=1.0298645613928181), OrderedStatistic(items_base=frozenset({'fiction'}), items_add=frozenset({'classics'}), confidence=0.883257630090047, lift=1.0298645613928181)]),\n",
              " RelationRecord(items=frozenset({'fantasy', 'fiction'}), support=0.8083352415846119, ordered_statistics=[OrderedStatistic(items_base=frozenset(), items_add=frozenset({'fantasy', 'fiction'}), confidence=0.8083352415846119, lift=1.0), OrderedStatistic(items_base=frozenset({'fantasy'}), items_add=frozenset({'fiction'}), confidence=0.968892955169259, lift=1.0115122006273378), OrderedStatistic(items_base=frozenset({'fiction'}), items_add=frozenset({'fantasy'}), confidence=0.8438919435811619, lift=1.0115122006273378)])]"
            ]
          },
          "metadata": {
            "tags": []
          },
          "execution_count": 21
        }
      ]
    },
    {
      "cell_type": "markdown",
      "metadata": {
        "id": "FXNYysAgVVC9"
      },
      "source": [
        "ผู้อ่านมักอ่านหนังสือประเภท fiction ก่อนแล้วค่อยเลือกอ่านหนังสือประเภท classics คิดเป็นร้อยละ 88.32"
      ]
    },
    {
      "cell_type": "code",
      "metadata": {
        "id": "AAWRhD2s1HGn",
        "colab": {
          "base_uri": "https://localhost:8080/",
          "height": 370
        },
        "outputId": "c0507d3c-6662-4133-c088-d0b0e3d54fc7"
      },
      "source": [
        "count6 = bookratinghigh.groupby('genre').count().sort_values('user_id',ascending = False)\n",
        "count_genre1 = count6.drop(columns=['book_id','goodreads_book_id','original_publication_year','original_title','authors','language_code','average_rating','ratings_count','medium_image_url','small_image_url','desc','title','image_url','rating'])\n",
        "count_genre1.head(10)"
      ],
      "execution_count": 22,
      "outputs": [
        {
          "output_type": "execute_result",
          "data": {
            "text/html": [
              "<div>\n",
              "<style scoped>\n",
              "    .dataframe tbody tr th:only-of-type {\n",
              "        vertical-align: middle;\n",
              "    }\n",
              "\n",
              "    .dataframe tbody tr th {\n",
              "        vertical-align: top;\n",
              "    }\n",
              "\n",
              "    .dataframe thead th {\n",
              "        text-align: right;\n",
              "    }\n",
              "</style>\n",
              "<table border=\"1\" class=\"dataframe\">\n",
              "  <thead>\n",
              "    <tr style=\"text-align: right;\">\n",
              "      <th></th>\n",
              "      <th>user_id</th>\n",
              "    </tr>\n",
              "    <tr>\n",
              "      <th>genre</th>\n",
              "      <th></th>\n",
              "    </tr>\n",
              "  </thead>\n",
              "  <tbody>\n",
              "    <tr>\n",
              "      <th>fiction</th>\n",
              "      <td>205641</td>\n",
              "    </tr>\n",
              "    <tr>\n",
              "      <th>classics</th>\n",
              "      <td>141576</td>\n",
              "    </tr>\n",
              "    <tr>\n",
              "      <th>fantasy</th>\n",
              "      <td>128309</td>\n",
              "    </tr>\n",
              "    <tr>\n",
              "      <th>young-adult</th>\n",
              "      <td>51045</td>\n",
              "    </tr>\n",
              "    <tr>\n",
              "      <th>non-fiction</th>\n",
              "      <td>49630</td>\n",
              "    </tr>\n",
              "    <tr>\n",
              "      <th>historical-fiction</th>\n",
              "      <td>32488</td>\n",
              "    </tr>\n",
              "    <tr>\n",
              "      <th>mystery</th>\n",
              "      <td>30464</td>\n",
              "    </tr>\n",
              "    <tr>\n",
              "      <th>science-fiction</th>\n",
              "      <td>26547</td>\n",
              "    </tr>\n",
              "    <tr>\n",
              "      <th>horror</th>\n",
              "      <td>24566</td>\n",
              "    </tr>\n",
              "    <tr>\n",
              "      <th>childrens</th>\n",
              "      <td>18888</td>\n",
              "    </tr>\n",
              "  </tbody>\n",
              "</table>\n",
              "</div>"
            ],
            "text/plain": [
              "                    user_id\n",
              "genre                      \n",
              "fiction              205641\n",
              "classics             141576\n",
              "fantasy              128309\n",
              "young-adult           51045\n",
              "non-fiction           49630\n",
              "historical-fiction    32488\n",
              "mystery               30464\n",
              "science-fiction       26547\n",
              "horror                24566\n",
              "childrens             18888"
            ]
          },
          "metadata": {
            "tags": []
          },
          "execution_count": 22
        }
      ]
    },
    {
      "cell_type": "markdown",
      "metadata": {
        "id": "dpc5LrbUX-3q"
      },
      "source": [
        "กำหนดให้ genre เป็น transaction โดยดับจากจำนวน user_id ที่สนใจในประเภทของหนังสือโดยเรียงลำดับจากมากไปหน่อย"
      ]
    },
    {
      "cell_type": "markdown",
      "metadata": {
        "id": "iHJb1wA0RTrA"
      },
      "source": [
        "##จำนวนRating น้อยกว่า 3"
      ]
    },
    {
      "cell_type": "code",
      "metadata": {
        "id": "ykoUMY8_NwcW",
        "colab": {
          "base_uri": "https://localhost:8080/"
        },
        "outputId": "4554b3bb-5e09-4a09-dd45-c9f392e416bd"
      },
      "source": [
        "author1= bookratinglow.groupby('user_id')['authors'].apply(list)\n",
        "author1"
      ],
      "execution_count": 32,
      "outputs": [
        {
          "output_type": "execute_result",
          "data": {
            "text/plain": [
              "user_id\n",
              "1        [Augusten Burroughs, Gabriel García Márquez, G...\n",
              "3        [David Mitchell, Jonathan Lethem, Anita Diaman...\n",
              "4        [Ayn Rand, Leonard Peikoff, Kim Edwards, Dan B...\n",
              "7        [Stephen King, Darrel Anderson, Stephen King, ...\n",
              "8        [Toni Morrison, Gustave Flaubert, Margaret Mau...\n",
              "                               ...                        \n",
              "16285    [Chris Cleave, Bernhard Schlink, Carol Brown J...\n",
              "16287    [Stephen Hawking, Leonard Mlodinow, Douglas Ad...\n",
              "16290    [Emily Brontë, Richard J. Dunn, George Orwell,...\n",
              "22351        [Victor Hugo, Lee Fahnestock, Norman MacAfee]\n",
              "37076      [Kim Edwards, Stephenie Meyer, Stephenie Meyer]\n",
              "Name: authors, Length: 11110, dtype: object"
            ]
          },
          "metadata": {
            "tags": []
          },
          "execution_count": 32
        }
      ]
    },
    {
      "cell_type": "code",
      "metadata": {
        "id": "hoHP4mBbN7LH",
        "colab": {
          "base_uri": "https://localhost:8080/"
        },
        "outputId": "4af1210b-bc30-4a0c-8700-f2bbfec8d7d6"
      },
      "source": [
        "list(apriori(author1, min_support = 0.01 , min_confidence = 0.8))"
      ],
      "execution_count": 33,
      "outputs": [
        {
          "output_type": "execute_result",
          "data": {
            "text/plain": [
              "[RelationRecord(items=frozenset({'Stephen King', 'Richard Bachman, Stephen King'}), support=0.01377137713771377, ordered_statistics=[OrderedStatistic(items_base=frozenset({'Richard Bachman, Stephen King'}), items_add=frozenset({'Stephen King'}), confidence=0.8181818181818181, lift=9.200404858299594)])]"
            ]
          },
          "metadata": {
            "tags": []
          },
          "execution_count": 33
        }
      ]
    },
    {
      "cell_type": "markdown",
      "metadata": {
        "id": "swD_0WXxb0sy"
      },
      "source": [
        "ผู้อ่านมักอ่านผลงานของ Richard Bachman, Stephen King  ก่อนแล้วค่อยอ่านผลงานของ Stephen King คิดเป็นร้อย 81.81"
      ]
    },
    {
      "cell_type": "code",
      "metadata": {
        "colab": {
          "base_uri": "https://localhost:8080/",
          "height": 370
        },
        "id": "9lgKFY2MQk6V",
        "outputId": "9c18e515-b76e-48ed-80dc-ee3fc409b5e6"
      },
      "source": [
        "count1 = bookratinglow.groupby('authors').count().sort_values('user_id',ascending = False)\n",
        "count_authors = count1.drop(columns=['book_id','goodreads_book_id','original_publication_year','original_title','title','language_code','average_rating','ratings_count','medium_image_url','small_image_url','desc','genre','image_url','rating'])\n",
        "count_authors.head(10)"
      ],
      "execution_count": 34,
      "outputs": [
        {
          "output_type": "execute_result",
          "data": {
            "text/html": [
              "<div>\n",
              "<style scoped>\n",
              "    .dataframe tbody tr th:only-of-type {\n",
              "        vertical-align: middle;\n",
              "    }\n",
              "\n",
              "    .dataframe tbody tr th {\n",
              "        vertical-align: top;\n",
              "    }\n",
              "\n",
              "    .dataframe thead th {\n",
              "        text-align: right;\n",
              "    }\n",
              "</style>\n",
              "<table border=\"1\" class=\"dataframe\">\n",
              "  <thead>\n",
              "    <tr style=\"text-align: right;\">\n",
              "      <th></th>\n",
              "      <th>user_id</th>\n",
              "    </tr>\n",
              "    <tr>\n",
              "      <th>authors</th>\n",
              "      <th></th>\n",
              "    </tr>\n",
              "  </thead>\n",
              "  <tbody>\n",
              "    <tr>\n",
              "      <th>Stephenie Meyer</th>\n",
              "      <td>3254</td>\n",
              "    </tr>\n",
              "    <tr>\n",
              "      <th>Dan Brown</th>\n",
              "      <td>2133</td>\n",
              "    </tr>\n",
              "    <tr>\n",
              "      <th>Stephen King</th>\n",
              "      <td>1975</td>\n",
              "    </tr>\n",
              "    <tr>\n",
              "      <th>John Grisham</th>\n",
              "      <td>1066</td>\n",
              "    </tr>\n",
              "    <tr>\n",
              "      <th>Nicholas Sparks</th>\n",
              "      <td>982</td>\n",
              "    </tr>\n",
              "    <tr>\n",
              "      <th>J.K. Rowling, Mary GrandPré</th>\n",
              "      <td>856</td>\n",
              "    </tr>\n",
              "    <tr>\n",
              "      <th>Anne Rice</th>\n",
              "      <td>838</td>\n",
              "    </tr>\n",
              "    <tr>\n",
              "      <th>John Steinbeck</th>\n",
              "      <td>838</td>\n",
              "    </tr>\n",
              "    <tr>\n",
              "      <th>Michael Crichton</th>\n",
              "      <td>807</td>\n",
              "    </tr>\n",
              "    <tr>\n",
              "      <th>Jodi Picoult</th>\n",
              "      <td>758</td>\n",
              "    </tr>\n",
              "  </tbody>\n",
              "</table>\n",
              "</div>"
            ],
            "text/plain": [
              "                             user_id\n",
              "authors                             \n",
              "Stephenie Meyer                 3254\n",
              "Dan Brown                       2133\n",
              "Stephen King                    1975\n",
              "John Grisham                    1066\n",
              "Nicholas Sparks                  982\n",
              "J.K. Rowling, Mary GrandPré      856\n",
              "Anne Rice                        838\n",
              "John Steinbeck                   838\n",
              "Michael Crichton                 807\n",
              "Jodi Picoult                     758"
            ]
          },
          "metadata": {
            "tags": []
          },
          "execution_count": 34
        }
      ]
    },
    {
      "cell_type": "markdown",
      "metadata": {
        "id": "O7uzTIOyYDXg"
      },
      "source": [
        "กำหนดให้ authors เป็น transaction โดยนับจากจนวน user_id ที่สนในผลงานของผู้แต่งโดยเรียงลำดับจากมากไปหน่อย"
      ]
    },
    {
      "cell_type": "code",
      "metadata": {
        "id": "fxfH4Y2vOM2y",
        "colab": {
          "base_uri": "https://localhost:8080/"
        },
        "outputId": "538113cb-c7cd-422c-f11c-dedd6d47f724"
      },
      "source": [
        "title1 = bookratinglow.groupby('user_id')['title'].apply(list)\n",
        "title1"
      ],
      "execution_count": 35,
      "outputs": [
        {
          "output_type": "execute_result",
          "data": {
            "text/plain": [
              "user_id\n",
              "1        [Running with Scissors, One Hundred Years of S...\n",
              "3        [Cloud Atlas, The Fortress of Solitude, The Re...\n",
              "4        [Atlas Shrugged, The Memory Keeper's Daughter,...\n",
              "7        [Song of Susannah (The Dark Tower, #6), The Da...\n",
              "8        [Beloved, Madame Bovary, Death in Venice and O...\n",
              "                               ...                        \n",
              "16285    [Little Bee, The Reader, The Elegance of the H...\n",
              "16287    [A Briefer History of Time, The Hitchhiker's G...\n",
              "16290    [Wuthering Heights, Animal Farm, Lord of the F...\n",
              "22351                                     [Les Misérables]\n",
              "37076    [The Memory Keeper's Daughter, Breaking Dawn (...\n",
              "Name: title, Length: 11110, dtype: object"
            ]
          },
          "metadata": {
            "tags": []
          },
          "execution_count": 35
        }
      ]
    },
    {
      "cell_type": "code",
      "metadata": {
        "id": "RU-vD9kxOZGV",
        "colab": {
          "base_uri": "https://localhost:8080/"
        },
        "outputId": "17516cf3-fd9c-4311-d2e3-f00ea3e8243d"
      },
      "source": [
        "list(apriori(title1, min_support = 0.02, min_confidence = 0.8))"
      ],
      "execution_count": 36,
      "outputs": [
        {
          "output_type": "execute_result",
          "data": {
            "text/plain": [
              "[RelationRecord(items=frozenset({'Eclipse (Twilight, #3)', 'Breaking Dawn (Twilight, #4)', 'New Moon (Twilight, #2)'}), support=0.029432943294329432, ordered_statistics=[OrderedStatistic(items_base=frozenset({'Eclipse (Twilight, #3)', 'Breaking Dawn (Twilight, #4)'}), items_add=frozenset({'New Moon (Twilight, #2)'}), confidence=0.8299492385786801, lift=12.89613432253026), OrderedStatistic(items_base=frozenset({'Breaking Dawn (Twilight, #4)', 'New Moon (Twilight, #2)'}), items_add=frozenset({'Eclipse (Twilight, #3)'}), confidence=0.8560209424083769, lift=16.684899421328186)]),\n",
              " RelationRecord(items=frozenset({'Twilight (Twilight, #1)', 'Eclipse (Twilight, #3)', 'Breaking Dawn (Twilight, #4)'}), support=0.023582358235823584, ordered_statistics=[OrderedStatistic(items_base=frozenset({'Twilight (Twilight, #1)', 'Breaking Dawn (Twilight, #4)'}), items_add=frozenset({'Eclipse (Twilight, #3)'}), confidence=0.8941979522184301, lift=17.42901622657326)]),\n",
              " RelationRecord(items=frozenset({'Twilight (Twilight, #1)', 'Breaking Dawn (Twilight, #4)', 'New Moon (Twilight, #2)'}), support=0.023132313231323132, ordered_statistics=[OrderedStatistic(items_base=frozenset({'Twilight (Twilight, #1)', 'Breaking Dawn (Twilight, #4)'}), items_add=frozenset({'New Moon (Twilight, #2)'}), confidence=0.8771331058020478, lift=13.629299028616435)]),\n",
              " RelationRecord(items=frozenset({'Twilight (Twilight, #1)', 'Eclipse (Twilight, #3)', 'New Moon (Twilight, #2)'}), support=0.026912691269126914, ordered_statistics=[OrderedStatistic(items_base=frozenset({'Twilight (Twilight, #1)', 'Eclipse (Twilight, #3)'}), items_add=frozenset({'New Moon (Twilight, #2)'}), confidence=0.9033232628398792, lift=14.036253776435045)]),\n",
              " RelationRecord(items=frozenset({'Twilight (Twilight, #1)', 'Eclipse (Twilight, #3)', 'Breaking Dawn (Twilight, #4)', 'New Moon (Twilight, #2)'}), support=0.021602160216021602, ordered_statistics=[OrderedStatistic(items_base=frozenset({'Twilight (Twilight, #1)', 'Breaking Dawn (Twilight, #4)'}), items_add=frozenset({'Eclipse (Twilight, #3)', 'New Moon (Twilight, #2)'}), confidence=0.8191126279863482, lift=20.589007459113866), OrderedStatistic(items_base=frozenset({'Twilight (Twilight, #1)', 'Eclipse (Twilight, #3)', 'Breaking Dawn (Twilight, #4)'}), items_add=frozenset({'New Moon (Twilight, #2)'}), confidence=0.916030534351145, lift=14.233705226071638), OrderedStatistic(items_base=frozenset({'Twilight (Twilight, #1)', 'Breaking Dawn (Twilight, #4)', 'New Moon (Twilight, #2)'}), items_add=frozenset({'Eclipse (Twilight, #3)'}), confidence=0.933852140077821, lift=18.20192504607823), OrderedStatistic(items_base=frozenset({'Twilight (Twilight, #1)', 'Eclipse (Twilight, #3)', 'New Moon (Twilight, #2)'}), items_add=frozenset({'Breaking Dawn (Twilight, #4)'}), confidence=0.8026755852842808, lift=13.491264375958185)])]"
            ]
          },
          "metadata": {
            "tags": []
          },
          "execution_count": 36
        }
      ]
    },
    {
      "cell_type": "markdown",
      "metadata": {
        "id": "K6wCsw0WcvDO"
      },
      "source": [
        "ผู้อ่านมักอ่านเรื่อง New Moon (Twilight, #2)', 'Twilight (Twilight, #1)', 'Eclipse (Twilight, #3) ก่อนเรื่อง  Breaking Dawn (Twilight, #4) คิดเป็นร้อยละ 80.26"
      ]
    },
    {
      "cell_type": "code",
      "metadata": {
        "colab": {
          "base_uri": "https://localhost:8080/",
          "height": 370
        },
        "id": "Y9D71QoyQ0EH",
        "outputId": "ec868239-6e05-4021-e193-3c5c33da758a"
      },
      "source": [
        "count2 = bookratinglow.groupby('title').count().sort_values('user_id',ascending = False)\n",
        "count_title = count2.drop(columns=['book_id','goodreads_book_id','original_publication_year','original_title','authors','language_code','average_rating','ratings_count','medium_image_url','small_image_url','desc','genre','image_url','rating'])\n",
        "count_title.head(10)"
      ],
      "execution_count": 37,
      "outputs": [
        {
          "output_type": "execute_result",
          "data": {
            "text/html": [
              "<div>\n",
              "<style scoped>\n",
              "    .dataframe tbody tr th:only-of-type {\n",
              "        vertical-align: middle;\n",
              "    }\n",
              "\n",
              "    .dataframe tbody tr th {\n",
              "        vertical-align: top;\n",
              "    }\n",
              "\n",
              "    .dataframe thead th {\n",
              "        text-align: right;\n",
              "    }\n",
              "</style>\n",
              "<table border=\"1\" class=\"dataframe\">\n",
              "  <thead>\n",
              "    <tr style=\"text-align: right;\">\n",
              "      <th></th>\n",
              "      <th>user_id</th>\n",
              "    </tr>\n",
              "    <tr>\n",
              "      <th>title</th>\n",
              "      <th></th>\n",
              "    </tr>\n",
              "  </thead>\n",
              "  <tbody>\n",
              "    <tr>\n",
              "      <th>Twilight (Twilight, #1)</th>\n",
              "      <td>1009</td>\n",
              "    </tr>\n",
              "    <tr>\n",
              "      <th>The Da Vinci Code (Robert Langdon, #2)</th>\n",
              "      <td>966</td>\n",
              "    </tr>\n",
              "    <tr>\n",
              "      <th>New Moon (Twilight, #2)</th>\n",
              "      <td>715</td>\n",
              "    </tr>\n",
              "    <tr>\n",
              "      <th>Breaking Dawn (Twilight, #4)</th>\n",
              "      <td>661</td>\n",
              "    </tr>\n",
              "    <tr>\n",
              "      <th>Eat, Pray, Love</th>\n",
              "      <td>596</td>\n",
              "    </tr>\n",
              "    <tr>\n",
              "      <th>The Catcher in the Rye</th>\n",
              "      <td>586</td>\n",
              "    </tr>\n",
              "    <tr>\n",
              "      <th>Eclipse (Twilight, #3)</th>\n",
              "      <td>570</td>\n",
              "    </tr>\n",
              "    <tr>\n",
              "      <th>Angels &amp; Demons  (Robert Langdon, #1)</th>\n",
              "      <td>512</td>\n",
              "    </tr>\n",
              "    <tr>\n",
              "      <th>The Scarlet Letter</th>\n",
              "      <td>494</td>\n",
              "    </tr>\n",
              "    <tr>\n",
              "      <th>The Great Gatsby</th>\n",
              "      <td>491</td>\n",
              "    </tr>\n",
              "  </tbody>\n",
              "</table>\n",
              "</div>"
            ],
            "text/plain": [
              "                                        user_id\n",
              "title                                          \n",
              "Twilight (Twilight, #1)                    1009\n",
              "The Da Vinci Code (Robert Langdon, #2)      966\n",
              "New Moon (Twilight, #2)                     715\n",
              "Breaking Dawn (Twilight, #4)                661\n",
              "Eat, Pray, Love                             596\n",
              "The Catcher in the Rye                      586\n",
              "Eclipse (Twilight, #3)                      570\n",
              "Angels & Demons  (Robert Langdon, #1)       512\n",
              "The Scarlet Letter                          494\n",
              "The Great Gatsby                            491"
            ]
          },
          "metadata": {
            "tags": []
          },
          "execution_count": 37
        }
      ]
    },
    {
      "cell_type": "markdown",
      "metadata": {
        "id": "WClUKwAwYFI4"
      },
      "source": [
        "กำหนดให้ title เป็น transaction โดยดับจากจำนวน user_id ที่สนใจในเรื่องที่ผู้อ่านสนใจโดยเรียงลำดับจากมากไปหน่อย"
      ]
    },
    {
      "cell_type": "code",
      "metadata": {
        "id": "7D9EK93GPLqF",
        "colab": {
          "base_uri": "https://localhost:8080/"
        },
        "outputId": "00f84aa5-d5c6-4996-811c-a433da9d7f49"
      },
      "source": [
        "genre1= bookratinglow.groupby('user_id')['genre'].apply(list)\n",
        "genre1"
      ],
      "execution_count": 38,
      "outputs": [
        {
          "output_type": "execute_result",
          "data": {
            "text/plain": [
              "user_id\n",
              "1        [memoir, classics, science-fiction, school, my...\n",
              "3        [science-fiction, rory-gilmore-reading-challen...\n",
              "4        [fiction, fiction, fiction, fiction, literatur...\n",
              "7        [fantasy, fantasy, classics, fantasy, fantasy,...\n",
              "8        [fiction, classics, fiction, fiction, clàssics...\n",
              "                               ...                        \n",
              "16285               [historical-fiction, fiction, fiction]\n",
              "16287    [non-fiction, science-fiction, vampires, horro...\n",
              "16290    [classics, classics, classics, fiction, horror...\n",
              "22351                                           [classics]\n",
              "37076                      [fiction, fantasy, young-adult]\n",
              "Name: genre, Length: 11110, dtype: object"
            ]
          },
          "metadata": {
            "tags": []
          },
          "execution_count": 38
        }
      ]
    },
    {
      "cell_type": "code",
      "metadata": {
        "id": "lcnPIWYiPXnX",
        "colab": {
          "base_uri": "https://localhost:8080/"
        },
        "outputId": "f2141ae2-1229-4534-a473-2412e5d19ea5"
      },
      "source": [
        "list(apriori(genre1, min_support = 0.1, min_confidence = 0.8))"
      ],
      "execution_count": 39,
      "outputs": [
        {
          "output_type": "execute_result",
          "data": {
            "text/plain": [
              "[RelationRecord(items=frozenset({'chick-lit', 'fiction'}), support=0.11584158415841585, ordered_statistics=[OrderedStatistic(items_base=frozenset({'chick-lit'}), items_add=frozenset({'fiction'}), confidence=0.874915023793338, lift=1.1973769295816685)]),\n",
              " RelationRecord(items=frozenset({'historical-fiction', 'fiction'}), support=0.17938793879387938, ordered_statistics=[OrderedStatistic(items_base=frozenset({'historical-fiction'}), items_add=frozenset({'fiction'}), confidence=0.8710664335664335, lift=1.1921098887562303)]),\n",
              " RelationRecord(items=frozenset({'horror', 'fiction'}), support=0.12367236723672367, ordered_statistics=[OrderedStatistic(items_base=frozenset({'horror'}), items_add=frozenset({'fiction'}), confidence=0.8207885304659499, lift=1.1233013763829396)]),\n",
              " RelationRecord(items=frozenset({'non-fiction', 'fiction'}), support=0.2558055805580558, ordered_statistics=[OrderedStatistic(items_base=frozenset({'non-fiction'}), items_add=frozenset({'fiction'}), confidence=0.8438242280285035, lift=1.154827195540364)]),\n",
              " RelationRecord(items=frozenset({'science-fiction', 'fiction'}), support=0.11098109810981098, ordered_statistics=[OrderedStatistic(items_base=frozenset({'science-fiction'}), items_add=frozenset({'fiction'}), confidence=0.8433652530779753, lift=1.154199059090454)]),\n",
              " RelationRecord(items=frozenset({'fantasy', 'fiction', 'classics'}), support=0.17686768676867687, ordered_statistics=[OrderedStatistic(items_base=frozenset({'fantasy', 'classics'}), items_add=frozenset({'fiction'}), confidence=0.835814547001276, lift=1.1438654369529657)]),\n",
              " RelationRecord(items=frozenset({'historical-fiction', 'fiction', 'classics'}), support=0.11134113411341134, ordered_statistics=[OrderedStatistic(items_base=frozenset({'historical-fiction', 'classics'}), items_add=frozenset({'fiction'}), confidence=0.9088905216752388, lift=1.24387456218427)]),\n",
              " RelationRecord(items=frozenset({'non-fiction', 'fiction', 'classics'}), support=0.16246624662466247, ordered_statistics=[OrderedStatistic(items_base=frozenset({'non-fiction', 'classics'}), items_add=frozenset({'fiction'}), confidence=0.8944499504459861, lift=1.2241117208000623)]),\n",
              " RelationRecord(items=frozenset({'young-adult', 'fiction', 'classics'}), support=0.12457245724572458, ordered_statistics=[OrderedStatistic(items_base=frozenset({'young-adult', 'classics'}), items_add=frozenset({'fiction'}), confidence=0.8170011806375443, lift=1.1181181469429808)]),\n",
              " RelationRecord(items=frozenset({'non-fiction', 'fantasy', 'fiction'}), support=0.10216021602160216, ordered_statistics=[OrderedStatistic(items_base=frozenset({'non-fiction', 'fantasy'}), items_add=frozenset({'fiction'}), confidence=0.8986539984164688, lift=1.22986522818514)])]"
            ]
          },
          "metadata": {
            "tags": []
          },
          "execution_count": 39
        }
      ]
    },
    {
      "cell_type": "markdown",
      "metadata": {
        "id": "3OmnC5Vqdh_M"
      },
      "source": [
        "ผู้อ่านมักเลือกหนังสือประเภท non-fiction, fantasy ก่อนแล้วค่อยอ่านหนังสือประเถท fiction คิดเป็นร้อยละ 89.86"
      ]
    },
    {
      "cell_type": "code",
      "metadata": {
        "colab": {
          "base_uri": "https://localhost:8080/",
          "height": 370
        },
        "id": "2DEEMyVGQ9WC",
        "outputId": "15ffc636-618b-4adb-996f-c2a8245deded"
      },
      "source": [
        "count3 = bookratinghigh.groupby('genre').count().sort_values('user_id',ascending = False)\n",
        "count_genre = count3.drop(columns=['book_id','goodreads_book_id','original_publication_year','original_title','authors','language_code','average_rating','ratings_count','medium_image_url','small_image_url','desc','title','image_url','rating'])\n",
        "count_genre.head(10)"
      ],
      "execution_count": 40,
      "outputs": [
        {
          "output_type": "execute_result",
          "data": {
            "text/html": [
              "<div>\n",
              "<style scoped>\n",
              "    .dataframe tbody tr th:only-of-type {\n",
              "        vertical-align: middle;\n",
              "    }\n",
              "\n",
              "    .dataframe tbody tr th {\n",
              "        vertical-align: top;\n",
              "    }\n",
              "\n",
              "    .dataframe thead th {\n",
              "        text-align: right;\n",
              "    }\n",
              "</style>\n",
              "<table border=\"1\" class=\"dataframe\">\n",
              "  <thead>\n",
              "    <tr style=\"text-align: right;\">\n",
              "      <th></th>\n",
              "      <th>user_id</th>\n",
              "    </tr>\n",
              "    <tr>\n",
              "      <th>genre</th>\n",
              "      <th></th>\n",
              "    </tr>\n",
              "  </thead>\n",
              "  <tbody>\n",
              "    <tr>\n",
              "      <th>fiction</th>\n",
              "      <td>205641</td>\n",
              "    </tr>\n",
              "    <tr>\n",
              "      <th>classics</th>\n",
              "      <td>141576</td>\n",
              "    </tr>\n",
              "    <tr>\n",
              "      <th>fantasy</th>\n",
              "      <td>128309</td>\n",
              "    </tr>\n",
              "    <tr>\n",
              "      <th>young-adult</th>\n",
              "      <td>51045</td>\n",
              "    </tr>\n",
              "    <tr>\n",
              "      <th>non-fiction</th>\n",
              "      <td>49630</td>\n",
              "    </tr>\n",
              "    <tr>\n",
              "      <th>historical-fiction</th>\n",
              "      <td>32488</td>\n",
              "    </tr>\n",
              "    <tr>\n",
              "      <th>mystery</th>\n",
              "      <td>30464</td>\n",
              "    </tr>\n",
              "    <tr>\n",
              "      <th>science-fiction</th>\n",
              "      <td>26547</td>\n",
              "    </tr>\n",
              "    <tr>\n",
              "      <th>horror</th>\n",
              "      <td>24566</td>\n",
              "    </tr>\n",
              "    <tr>\n",
              "      <th>childrens</th>\n",
              "      <td>18888</td>\n",
              "    </tr>\n",
              "  </tbody>\n",
              "</table>\n",
              "</div>"
            ],
            "text/plain": [
              "                    user_id\n",
              "genre                      \n",
              "fiction              205641\n",
              "classics             141576\n",
              "fantasy              128309\n",
              "young-adult           51045\n",
              "non-fiction           49630\n",
              "historical-fiction    32488\n",
              "mystery               30464\n",
              "science-fiction       26547\n",
              "horror                24566\n",
              "childrens             18888"
            ]
          },
          "metadata": {
            "tags": []
          },
          "execution_count": 40
        }
      ]
    },
    {
      "cell_type": "markdown",
      "metadata": {
        "id": "LymrLVRvYKy2"
      },
      "source": [
        "กำหนดให้ genre เป็น transaction โดยดับจากจำนวน user_id ที่สนใจในประเภทของหนังสือโดยเรียงลำดับจากมากไปหน่อย"
      ]
    },
    {
      "cell_type": "code",
      "metadata": {
        "id": "tfyQpPdLYSaI"
      },
      "source": [
        ""
      ],
      "execution_count": 40,
      "outputs": []
    }
  ]
}